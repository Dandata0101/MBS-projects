{
 "cells": [
  {
   "cell_type": "code",
   "execution_count": 2,
   "metadata": {},
   "outputs": [
    {
     "name": "stdout",
     "output_type": "stream",
     "text": [
      "<class 'int'>\n"
     ]
    }
   ],
   "source": [
    "#printing data types\n",
    "temp= 20\n",
    "print(type(temp))"
   ]
  },
  {
   "cell_type": "code",
   "execution_count": 3,
   "metadata": {},
   "outputs": [
    {
     "name": "stdout",
     "output_type": "stream",
     "text": [
      "dasdsa adasdsadada\n"
     ]
    }
   ],
   "source": [
    "#joining two strings\n",
    "import pandas as pd\n",
    "import requests\n",
    "\n",
    "str='dasdsa'\n",
    "str2='adasdsadada'\n",
    "combo=str + ' ' + str2\n",
    "print(combo)"
   ]
  },
  {
   "cell_type": "code",
   "execution_count": null,
   "metadata": {},
   "outputs": [],
   "source": [
    "#input variable example\n",
    "num=input('input something')\n",
    "print(type(num))\n",
    "print(num,'something')"
   ]
  },
  {
   "cell_type": "code",
   "execution_count": null,
   "metadata": {},
   "outputs": [
    {
     "name": "stdout",
     "output_type": "stream",
     "text": [
      "0 paris\n",
      "1 tokyo\n",
      "2 Los Angeles\n",
      "3 New York\n",
      "['tokyo', 'Los Angeles']\n"
     ]
    }
   ],
   "source": [
    "#list enumeration\n",
    "list=['paris','tokyo','Los Angeles','New York']\n",
    "for index, item in enumerate(list):\n",
    "    print(index, item)\n",
    "print(list[1:3])"
   ]
  },
  {
   "cell_type": "code",
   "execution_count": null,
   "metadata": {},
   "outputs": [
    {
     "name": "stdout",
     "output_type": "stream",
     "text": [
      "5\n"
     ]
    }
   ],
   "source": [
    "#print position example\n",
    "num=[1,3,4,5,6,7]\n",
    "print(len(num)-1)"
   ]
  },
  {
   "cell_type": "code",
   "execution_count": null,
   "metadata": {},
   "outputs": [],
   "source": [
    "#empty list and extend example\n",
    "l=[]\n",
    "l.extend([1,2,3,4,5])"
   ]
  },
  {
   "cell_type": "code",
   "execution_count": null,
   "metadata": {},
   "outputs": [
    {
     "name": "stdout",
     "output_type": "stream",
     "text": [
      "28\n"
     ]
    }
   ],
   "source": [
    "#dictionary example~~~~~~~~~~~~~~~~~~~~~~\n",
    "user_profile = {\n",
    "    \"username\": \"john_doe_123\",\n",
    "    \"first_name\": \"John\",\n",
    "    \"last_name\": \"Doe\",\n",
    "    \"email\": \"john.doe@example.com\",\n",
    "    \"age\": 28,\n",
    "    \"country\": \"USA\",\n",
    "    \"city\": \"New York\",\n",
    "    \"address\": \"123 Main St\",\n",
    "    \"phone\": \"123-456-7890\",\n",
    "    \"gender\": \"Male\",\n",
    "    \"occupation\": \"Software Developer\",\n",
    "    \"company\": \"Tech Corp\",\n",
    "    \"website\": \"www.johndoe.com\",\n",
    "    \"joined\": \"2020-05-01\",\n",
    "    \"last_login\": \"2023-10-01\",\n",
    "    \"followers\": 4500,\n",
    "    \"following\": 328,\n",
    "    \"posts\": 120,\n",
    "    \"likes\": 15000,\n",
    "    \"profile_pic\": \"path/to/profile_pic.jpg\"\n",
    "}\n",
    "\n",
    "# Accessing a value by its key\n",
    "age=user_profile['age']\n",
    "followers=user_profile['followers']\n",
    "print(age)"
   ]
  },
  {
   "cell_type": "code",
   "execution_count": null,
   "metadata": {},
   "outputs": [
    {
     "name": "stdout",
     "output_type": "stream",
     "text": [
      "lowercase\n"
     ]
    }
   ],
   "source": [
    "#basic if statement example 1\n",
    "answer=input()\n",
    "if answer[0]>='A' and answer[0]<='Z':\n",
    "    print('uppercase')\n",
    "else:\n",
    "    print('lowercase')"
   ]
  },
  {
   "cell_type": "code",
   "execution_count": null,
   "metadata": {},
   "outputs": [
    {
     "name": "stdout",
     "output_type": "stream",
     "text": [
      "2\n",
      "free!!!!!!!!!!!!!!!!!!!!!!\n"
     ]
    }
   ],
   "source": [
    "#basic if statement example 2\n",
    "age=input('enter your age' )\n",
    "age=int(age)\n",
    "print(age)\n",
    "\n",
    "if age>=12 and age<=26:\n",
    "    print('youth advantage card')\n",
    "elif age>=27 and age<=59:\n",
    "    print('adult advantage card')\n",
    "elif age>=60:\n",
    "    print('Senior advantage card')\n",
    "else:\n",
    "    pass\n",
    "    print('free!!!!!!!!!!!!!!!!!!!!!!')\n",
    "\n",
    "\n",
    "\n",
    "\n"
   ]
  },
  {
   "cell_type": "code",
   "execution_count": null,
   "metadata": {},
   "outputs": [
    {
     "name": "stdout",
     "output_type": "stream",
     "text": [
      "paris\n",
      "london\n",
      "peking\n",
      "tokyo\n",
      "Vienna\n"
     ]
    }
   ],
   "source": [
    "country=['paris','london','peking','tokyo','Vienna']\n",
    "for c in country:\n",
    "    print(c)"
   ]
  },
  {
   "cell_type": "code",
   "execution_count": null,
   "metadata": {},
   "outputs": [
    {
     "name": "stdout",
     "output_type": "stream",
     "text": [
      "0 paris\n",
      "1 london\n",
      "2 peking\n",
      "3 tokyo\n",
      "4 Vienna\n"
     ]
    }
   ],
   "source": [
    "country=['paris','london','peking','tokyo','Vienna']\n",
    "for index,element in enumerate(country):\n",
    "    print(index,element)"
   ]
  },
  {
   "cell_type": "code",
   "execution_count": null,
   "metadata": {},
   "outputs": [
    {
     "name": "stdout",
     "output_type": "stream",
     "text": [
      "[0]\n",
      "[0, 1]\n",
      "[0, 1, 2]\n",
      "[0, 1, 2, 3]\n",
      "[0, 1, 2, 3, 4]\n"
     ]
    }
   ],
   "source": [
    "l=[]\n",
    "for i in range(5):\n",
    "    l.append(i)\n",
    "    print(l)"
   ]
  },
  {
   "cell_type": "code",
   "execution_count": null,
   "metadata": {},
   "outputs": [
    {
     "name": "stdout",
     "output_type": "stream",
     "text": [
      "[3]\n",
      "[3, 5]\n",
      "[3, 5, 7]\n",
      "[3, 5, 7, 9]\n",
      "[3, 5, 7, 9, 11]\n",
      "[3, 5, 7, 9, 11, 13]\n",
      "[3, 5, 7, 9, 11, 13, 15]\n"
     ]
    }
   ],
   "source": [
    "l=[]\n",
    "for i in range(3,(17),2):\n",
    "    l.append(i)\n",
    "    print(l)"
   ]
  },
  {
   "cell_type": "code",
   "execution_count": null,
   "metadata": {},
   "outputs": [
    {
     "name": "stdout",
     "output_type": "stream",
     "text": [
      "0 2\n",
      "0 3\n",
      "0 4\n",
      "0 5\n",
      "0 6\n",
      "1 2\n",
      "1 3\n",
      "1 4\n",
      "1 5\n",
      "1 6\n",
      "2 2\n",
      "2 3\n",
      "2 4\n",
      "2 5\n",
      "2 6\n",
      "3 2\n",
      "3 3\n",
      "3 4\n",
      "3 5\n",
      "3 6\n"
     ]
    }
   ],
   "source": [
    "l=[]\n",
    "for i in range(0,4):\n",
    "    for j in range(2,7):\n",
    "        print(i,j)"
   ]
  },
  {
   "cell_type": "code",
   "execution_count": null,
   "metadata": {},
   "outputs": [
    {
     "name": "stdout",
     "output_type": "stream",
     "text": [
      "0\n",
      "1\n",
      "2\n",
      "3\n",
      "4\n",
      "5\n"
     ]
    }
   ],
   "source": [
    "l=[]\n",
    "num=int(6)\n",
    "for i in range(0,num,1):\n",
    "    print(i)"
   ]
  },
  {
   "cell_type": "code",
   "execution_count": null,
   "metadata": {},
   "outputs": [
    {
     "name": "stdout",
     "output_type": "stream",
     "text": [
      "0\n",
      "1\n",
      "2\n",
      "3\n",
      "4\n",
      "5\n",
      "6\n"
     ]
    }
   ],
   "source": [
    "l=[]\n",
    "num=int(6)\n",
    "for i in range(0,num+1,1):\n",
    "    print(i)"
   ]
  },
  {
   "cell_type": "code",
   "execution_count": null,
   "metadata": {},
   "outputs": [
    {
     "name": "stdout",
     "output_type": "stream",
     "text": [
      "0\n",
      "1\n",
      "2\n",
      "3\n",
      "4\n",
      "5\n"
     ]
    }
   ],
   "source": [
    "l=[]\n",
    "num=int(6)\n",
    "for i in range(num):\n",
    "    print(i)"
   ]
  },
  {
   "cell_type": "code",
   "execution_count": null,
   "metadata": {},
   "outputs": [
    {
     "name": "stdout",
     "output_type": "stream",
     "text": [
      "0\n",
      "1\n",
      "2\n",
      "3\n",
      "4\n",
      "5\n",
      "6\n"
     ]
    }
   ],
   "source": [
    "l=[]\n",
    "num=int(6)\n",
    "for i in range(0,num+1):\n",
    "    print(i)"
   ]
  },
  {
   "cell_type": "code",
   "execution_count": null,
   "metadata": {},
   "outputs": [
    {
     "name": "stdout",
     "output_type": "stream",
     "text": [
      "0\n",
      "1\n",
      "2\n",
      "3\n",
      "4\n",
      "5\n",
      "6\n"
     ]
    }
   ],
   "source": [
    "l=[]\n",
    "num=int(6)\n",
    "for i in range(0,num+1,1):\n",
    "    print(i)"
   ]
  },
  {
   "cell_type": "code",
   "execution_count": null,
   "metadata": {},
   "outputs": [
    {
     "name": "stdout",
     "output_type": "stream",
     "text": [
      "1\n",
      "2\n",
      "3\n",
      "4\n",
      "5\n"
     ]
    }
   ],
   "source": [
    "l=[]\n",
    "num=int(6)\n",
    "for i in range(1,num):\n",
    "    print(i)"
   ]
  },
  {
   "cell_type": "code",
   "execution_count": null,
   "metadata": {},
   "outputs": [
    {
     "name": "stdout",
     "output_type": "stream",
     "text": [
      "2\n",
      "3\n",
      "4\n",
      "5\n"
     ]
    }
   ],
   "source": [
    "l=[]\n",
    "num=int(6)\n",
    "for i in range(2,num,1):\n",
    "    print(i)"
   ]
  },
  {
   "cell_type": "code",
   "execution_count": null,
   "metadata": {},
   "outputs": [
    {
     "name": "stdout",
     "output_type": "stream",
     "text": [
      "2\n",
      "3\n",
      "4\n",
      "5\n",
      "6\n"
     ]
    }
   ],
   "source": [
    "l=[]\n",
    "num=int(6)\n",
    "for i in range(2,num+1,1):\n",
    "    print(i)"
   ]
  },
  {
   "cell_type": "code",
   "execution_count": null,
   "metadata": {},
   "outputs": [
    {
     "name": "stdout",
     "output_type": "stream",
     "text": [
      "2\n",
      "3\n",
      "4\n",
      "5\n"
     ]
    }
   ],
   "source": [
    "l=[]\n",
    "num=int(6)\n",
    "for i in range(2,num):\n",
    "    print(i)"
   ]
  },
  {
   "cell_type": "code",
   "execution_count": null,
   "metadata": {},
   "outputs": [
    {
     "name": "stdout",
     "output_type": "stream",
     "text": [
      "2\n",
      "3\n",
      "4\n",
      "5\n",
      "6\n"
     ]
    }
   ],
   "source": [
    "l=[]\n",
    "num=int(6)\n",
    "for i in range(2,num+1):\n",
    "    print(i)"
   ]
  },
  {
   "cell_type": "code",
   "execution_count": null,
   "metadata": {},
   "outputs": [
    {
     "name": "stdout",
     "output_type": "stream",
     "text": [
      "0\n",
      "1\n",
      "2\n",
      "3\n",
      "4\n",
      "5\n",
      "6\n"
     ]
    }
   ],
   "source": [
    "l=[]\n",
    "num=int(6)\n",
    "for i in range(num+1):\n",
    "    print(i)"
   ]
  },
  {
   "cell_type": "code",
   "execution_count": null,
   "metadata": {},
   "outputs": [
    {
     "name": "stdout",
     "output_type": "stream",
     "text": [
      "0\n",
      "1\n",
      "2\n",
      "3\n",
      "4\n",
      "5\n"
     ]
    }
   ],
   "source": [
    "l=[]\n",
    "num=int(6)\n",
    "for i in range(0,num):\n",
    "    print(i)"
   ]
  },
  {
   "cell_type": "code",
   "execution_count": null,
   "metadata": {},
   "outputs": [
    {
     "name": "stdout",
     "output_type": "stream",
     "text": [
      "6\n",
      "5\n",
      "4\n",
      "3\n",
      "2\n",
      "1\n"
     ]
    }
   ],
   "source": [
    "l=[]\n",
    "num=int(6)\n",
    "for i in range(num,0,-1):\n",
    "    print(i)"
   ]
  },
  {
   "cell_type": "code",
   "execution_count": null,
   "metadata": {},
   "outputs": [
    {
     "name": "stdout",
     "output_type": "stream",
     "text": [
      "6\n",
      "5\n",
      "4\n",
      "3\n",
      "2\n"
     ]
    }
   ],
   "source": [
    "l=[]\n",
    "num=int(6)\n",
    "for i in range(num,1,-1):\n",
    "    print(i)"
   ]
  },
  {
   "cell_type": "code",
   "execution_count": null,
   "metadata": {},
   "outputs": [],
   "source": [
    "l=[]\n",
    "num=int(6)\n",
    "for i in range(num,0):\n",
    "    print(i)"
   ]
  },
  {
   "cell_type": "code",
   "execution_count": null,
   "metadata": {},
   "outputs": [
    {
     "name": "stdout",
     "output_type": "stream",
     "text": [
      "6\n",
      "5\n",
      "4\n",
      "3\n"
     ]
    }
   ],
   "source": [
    "l=[]\n",
    "num=int(6)\n",
    "for i in range(num,2,-1):\n",
    "    print(i)"
   ]
  },
  {
   "cell_type": "code",
   "execution_count": null,
   "metadata": {},
   "outputs": [],
   "source": [
    "l=[]\n",
    "num=int(6)\n",
    "for i in range(num,2):\n",
    "    print(i)"
   ]
  },
  {
   "cell_type": "code",
   "execution_count": null,
   "metadata": {},
   "outputs": [
    {
     "name": "stdout",
     "output_type": "stream",
     "text": [
      "7\n",
      "6\n",
      "5\n",
      "4\n",
      "3\n",
      "2\n",
      "1\n"
     ]
    }
   ],
   "source": [
    "l=[]\n",
    "num=int(6)\n",
    "for i in range(num+1,0,-1):\n",
    "    print(i)"
   ]
  },
  {
   "cell_type": "code",
   "execution_count": null,
   "metadata": {},
   "outputs": [
    {
     "name": "stdout",
     "output_type": "stream",
     "text": [
      "6\n",
      "5\n",
      "4\n",
      "3\n"
     ]
    }
   ],
   "source": [
    "l=[]\n",
    "num=int(6)\n",
    "for i in range(num,2,-1):\n",
    "    print(i)"
   ]
  },
  {
   "cell_type": "code",
   "execution_count": null,
   "metadata": {},
   "outputs": [],
   "source": [
    "l=[]\n",
    "num=int(6)\n",
    "for i in range(num+1,0):\n",
    "    print(i)"
   ]
  },
  {
   "cell_type": "code",
   "execution_count": null,
   "metadata": {},
   "outputs": [
    {
     "name": "stdout",
     "output_type": "stream",
     "text": [
      "7\n",
      "6\n",
      "5\n",
      "4\n",
      "3\n"
     ]
    }
   ],
   "source": [
    "l=[]\n",
    "num=int(6)\n",
    "for i in range(num+1,2,-1):\n",
    "    print(i)"
   ]
  },
  {
   "cell_type": "code",
   "execution_count": 133,
   "metadata": {},
   "outputs": [
    {
     "name": "stdout",
     "output_type": "stream",
     "text": [
      "1\n",
      "2\n"
     ]
    }
   ],
   "source": [
    "num=int(input('add a number'))\n",
    "\n",
    "result=1\n",
    "for i in range(result,num+1):\n",
    "    result=result*i\n",
    "    print(result)"
   ]
  },
  {
   "cell_type": "code",
   "execution_count": null,
   "metadata": {},
   "outputs": [
    {
     "name": "stdout",
     "output_type": "stream",
     "text": [
      "4\n",
      "4\n"
     ]
    }
   ],
   "source": [
    "\n",
    "\n",
    "square= lambda x: x**2\n",
    "print(square(2))\n",
    "print(square(-2))\n"
   ]
  },
  {
   "cell_type": "code",
   "execution_count": null,
   "metadata": {},
   "outputs": [
    {
     "name": "stdout",
     "output_type": "stream",
     "text": [
      "-8\n",
      "-8\n"
     ]
    }
   ],
   "source": [
    "cubic= lambda x: x**3\n",
    "print(cubic(-2))\n",
    "print(cubic(-2))"
   ]
  },
  {
   "cell_type": "code",
   "execution_count": null,
   "metadata": {},
   "outputs": [
    {
     "name": "stdout",
     "output_type": "stream",
     "text": [
      "16\n",
      "64\n"
     ]
    }
   ],
   "source": [
    "exp= lambda x, b: x**b\n",
    "print(exp(4,2))\n",
    "print(exp(4,3))"
   ]
  },
  {
   "cell_type": "code",
   "execution_count": null,
   "metadata": {},
   "outputs": [
    {
     "name": "stdout",
     "output_type": "stream",
     "text": [
      "4\n",
      "1\n"
     ]
    }
   ],
   "source": [
    "eu_dist= lambda x, y: (x-y)**2\n",
    "print(eu_dist(4,2))\n",
    "print(eu_dist(4,3))"
   ]
  },
  {
   "cell_type": "code",
   "execution_count": null,
   "metadata": {},
   "outputs": [
    {
     "name": "stdout",
     "output_type": "stream",
     "text": [
      "20\n"
     ]
    }
   ],
   "source": [
    "eu_dist= lambda x, y: (x[0]-y[0])**2+(x[1]-y[1])**2\n",
    "print(eu_dist([4,1],[2,5]))\n"
   ]
  },
  {
   "cell_type": "code",
   "execution_count": null,
   "metadata": {},
   "outputs": [
    {
     "name": "stdout",
     "output_type": "stream",
     "text": [
      "mario jump..\n"
     ]
    }
   ],
   "source": [
    "def mario_jump():\n",
    "    print('mario jump..')\n",
    "mario_jump()"
   ]
  },
  {
   "cell_type": "code",
   "execution_count": null,
   "metadata": {},
   "outputs": [
    {
     "name": "stdout",
     "output_type": "stream",
     "text": [
      "mario jump..\n",
      "mario jump..\n",
      "mario jump..\n",
      "mario jump..\n",
      "mario jump..\n"
     ]
    }
   ],
   "source": [
    "jump=int(input('how many jumps?'))\n",
    "def mario_jump(time):\n",
    "    for t in range(time):\n",
    "        print('mario jump..')\n",
    "mario_jump(jump)"
   ]
  },
  {
   "cell_type": "code",
   "execution_count": null,
   "metadata": {},
   "outputs": [
    {
     "name": "stdout",
     "output_type": "stream",
     "text": [
      "5\n"
     ]
    }
   ],
   "source": [
    "def add(a,b):\n",
    "    result= a + b\n",
    "    return result\n",
    "\n",
    "x,y=2,3\n",
    "print(add(x,y))"
   ]
  },
  {
   "cell_type": "code",
   "execution_count": null,
   "metadata": {},
   "outputs": [
    {
     "name": "stdout",
     "output_type": "stream",
     "text": [
      "password accepted\n"
     ]
    }
   ],
   "source": [
    "password=input('create a password 6 or more chars')\n",
    "\n",
    "if len(password) >= 6:\n",
    "    print('password accepted')\n",
    "else:\n",
    "    print('password not long enough') "
   ]
  },
  {
   "cell_type": "code",
   "execution_count": null,
   "metadata": {},
   "outputs": [
    {
     "name": "stdout",
     "output_type": "stream",
     "text": [
      "please try again...\n"
     ]
    }
   ],
   "source": [
    "password = input('Create a password (6 or more chars): ')\n",
    "\n",
    "if len(password) >= 6:\n",
    "    if any(char.isupper() for char in password):\n",
    "        print('Password accepted')\n",
    "    else:\n",
    "        print('Password must contain at least one uppercase letter')\n",
    "else:\n",
    "    print('please try again...')\n"
   ]
  },
  {
   "cell_type": "code",
   "execution_count": null,
   "metadata": {},
   "outputs": [
    {
     "name": "stdout",
     "output_type": "stream",
     "text": [
      "True\n",
      "Password accepted\n"
     ]
    }
   ],
   "source": [
    "password = input('Create a password (6 or more chars): ')\n",
    "def check_password(string):\n",
    "    flag=False\n",
    "    for s in string:\n",
    "        if s.isupper():\n",
    "            flag=True\n",
    "            break\n",
    "    return flag\n",
    "check_password(password)\n",
    "\n",
    "letter=check_password(password)\n",
    "print(letter)\n",
    "\n",
    "if len(password) >= 6 and letter==True:\n",
    "     print('Password accepted')\n",
    "elif len(password) >= 6 and letter==False:\n",
    "    print('missing upper case char')\n",
    "elif len(password) < 6 and letter==True:\n",
    "    print('needs at least 6 chars')\n",
    "elif len(password) < 6 and letter==False:\n",
    "    print('needs at least 6 and upper case char')    "
   ]
  },
  {
   "cell_type": "code",
   "execution_count": null,
   "metadata": {},
   "outputs": [
    {
     "name": "stdout",
     "output_type": "stream",
     "text": [
      "mon\n",
      "tue\n",
      "wed\n",
      "thu\n",
      "fri\n",
      "sat\n",
      "sun\n"
     ]
    }
   ],
   "source": [
    "week=['mon','tue','wed','thu','fri','sat','sun']\n",
    "for d in range(len(week)):\n",
    "    print(week[d])"
   ]
  },
  {
   "cell_type": "code",
   "execution_count": null,
   "metadata": {},
   "outputs": [],
   "source": [
    "seq='ACBc'\n",
    "def check(seq):\n",
    "    count=0\n",
    "    for i in range(len(seq)):\n",
    "        if seq[i] >='A' and seq[i] <='Z':\n",
    "            count=1\n",
    "            return count\n",
    "    return count"
   ]
  },
  {
   "cell_type": "code",
   "execution_count": null,
   "metadata": {},
   "outputs": [],
   "source": [
    "seq='ACBc'\n",
    "def check(seq):\n",
    "    count=0\n",
    "    for i in range(len(seq)):\n",
    "        if seq[i] >='A' and seq[i] <='Z':\n",
    "            count=1\n",
    "            return count\n",
    "        else:\n",
    "            pass\n",
    "    return count"
   ]
  },
  {
   "cell_type": "code",
   "execution_count": null,
   "metadata": {},
   "outputs": [
    {
     "name": "stdout",
     "output_type": "stream",
     "text": [
      "mean: 149.954\n",
      "Variance: 21.025904000000008\n"
     ]
    }
   ],
   "source": [
    "L = [155.49, 155.0, 148.56, 146.92, 143.80]\n",
    "def calc_mean(seq):\n",
    "    total = 0\n",
    "    for element in seq:\n",
    "        total += element\n",
    "    \n",
    "    # Calculate the mean\n",
    "    mean = total / len(seq)\n",
    "\n",
    "\n",
    "    return mean\n",
    "\n",
    "# Call the function with the list L\n",
    "result = calc_mean(L)\n",
    "print(\"mean:\", result)\n",
    "\n",
    "def calc_var(seq):\n",
    "    total = 0\n",
    "    for element in seq:\n",
    "        total += element\n",
    "    \n",
    "    # Calculate the mean\n",
    "    mean = total / len(seq)\n",
    "\n",
    "    # Calculate the variance\n",
    "    variance = (sum((element - mean) ** 2 for element in seq)) / len(seq)\n",
    "    return variance\n",
    "\n",
    "# Call the function with the list L\n",
    "result = calc_var(L)\n",
    "print(\"Variance:\", result)\n"
   ]
  },
  {
   "cell_type": "code",
   "execution_count": null,
   "metadata": {},
   "outputs": [
    {
     "name": "stdout",
     "output_type": "stream",
     "text": [
      "0    23.3\n",
      "1    22.8\n",
      "2    25.0\n",
      "3    24.2\n",
      "Name: temp, dtype: float64\n",
      "#~~~~~~~~~~~~~~~~~~~~~~~~~~~~~~~\n",
      "Mean: 23.825\n",
      "var: 0.9491666666666658\n",
      "mean from fx: 23.825\n",
      "variance from fx: 0.7118749999999994\n",
      "#~~~~~~~~~~~~~~~~~~~~~~~~~~~~~~~\n"
     ]
    }
   ],
   "source": [
    "# Libraries used\n",
    "import os\n",
    "import sys\n",
    "import pandas as pd\n",
    "\n",
    "# Paths and directory\n",
    "current_directory = os.getcwd()\n",
    "file = os.path.join(current_directory, \"01-data/weather\", \"weather.txt\")\n",
    "copy = os.path.join(current_directory, \"01-data/weather\", \"weather_copy.txt\")\n",
    "\n",
    "df = pd.read_csv(file)\n",
    "column_names=['city','temp']\n",
    "df.columns = column_names\n",
    "\n",
    "# Access the 'temp' column and store it in a list\n",
    "temp_list = df['temp']\n",
    "print(temp_list)\n",
    "\n",
    "mean_temp = df['temp'].mean()\n",
    "var_temp=df['temp'].var()\n",
    "\n",
    "\n",
    "print('#~~~~~~~~~~~~~~~~~~~~~~~~~~~~~~~')\n",
    "print('Mean:',mean_temp)\n",
    "print('var:',var_temp)\n",
    "print('mean from fx:', calc_mean(temp_list))\n",
    "print('variance from fx:', calc_var(temp_list))\n",
    "print('#~~~~~~~~~~~~~~~~~~~~~~~~~~~~~~~')\n",
    "\n",
    "df.to_csv(copy, index=False)\n",
    "\n"
   ]
  },
  {
   "cell_type": "code",
   "execution_count": null,
   "metadata": {},
   "outputs": [
    {
     "name": "stdout",
     "output_type": "stream",
     "text": [
      "/Users/danramirez/MBS/workspace_class.ipynb\n"
     ]
    }
   ],
   "source": [
    "import os\n",
    "\n",
    "root = os.getcwd()\n",
    "files = [f for f in os.listdir(root) if f.endswith('.ipynb')]\n",
    "\n",
    "for f in files:\n",
    "    full_path = os.path.join(root, f)\n",
    "    print(full_path)\n"
   ]
  },
  {
   "cell_type": "code",
   "execution_count": null,
   "metadata": {},
   "outputs": [],
   "source": [
    "import random\n",
    "\n",
    "num= int('input a number between 0  and 100')\n",
    "while num > 100: \n",
    "    num= int('input a number between 0  and 100')\n",
    "randint=random.randint\n"
   ]
  },
  {
   "cell_type": "code",
   "execution_count": null,
   "metadata": {},
   "outputs": [
    {
     "name": "stdout",
     "output_type": "stream",
     "text": [
      "22\n",
      "Guess a number between 0 and 50\n",
      "The number you guessed is too low\n",
      "The number you guessed is too low\n",
      "Bingo! You guessed the correct number.\n"
     ]
    }
   ],
   "source": [
    "import random\n",
    "\n",
    "max_num = 50\n",
    "code = random.randint(0, max_num)\n",
    "print(code)\n",
    "\n",
    "guess = 0\n",
    "\n",
    "print('Guess a number between 0 and 50')\n",
    "while guess != code:\n",
    "    guess = int(input('What is your guess?'))\n",
    "    if guess < code:\n",
    "        print('The number you guessed is too low')\n",
    "    elif guess > code:\n",
    "        print('The number you guessed is too high')\n",
    "    else:\n",
    "        print('Bingo! You guessed the correct number.')\n"
   ]
  },
  {
   "cell_type": "code",
   "execution_count": null,
   "metadata": {},
   "outputs": [
    {
     "data": {
      "text/plain": [
       "ticker\n",
       "AAPL    153.445022\n",
       "GOOG    118.653742\n",
       "META    247.863966\n",
       "MSFT    279.771100\n",
       "NVDA    228.888209\n",
       "PFE      44.116310\n",
       "PG      144.671433\n",
       "SHEL     50.968987\n",
       "TSLA    247.738862\n",
       "TTE      53.150029\n",
       "WMT     142.987757\n",
       "Name: Close, dtype: float64"
      ]
     },
     "execution_count": 123,
     "metadata": {},
     "output_type": "execute_result"
    }
   ],
   "source": [
    "# Libraries used\n",
    "import os\n",
    "import sys\n",
    "import pandas as pd\n",
    "\n",
    "# Paths and directory\n",
    "current_directory = os.getcwd()\n",
    "file = os.path.join(current_directory, \"01-data/DOW30\", \"Stocks_2021_2023.xlsx\")\n",
    "#copy = os.path.join(current_directory, \"01-data/DOW30\", \"Dow30_2020.xlsx\")\n",
    "\n",
    "df = pd.read_excel(file)\n",
    "#df.loc[(df['High']>=50) & (df['High']<=100)]\n",
    "df_group=df.groupby('ticker').mean(df['Close'])\n",
    "df_group\n",
    "#df.loc[(df['ticker']=='AAPL') | (df['ticker']=='TSLA')]"
   ]
  },
  {
   "cell_type": "code",
   "execution_count": 4,
   "metadata": {},
   "outputs": [
    {
     "name": "stdout",
     "output_type": "stream",
     "text": [
      "status        No Cars Available  Trip Completed\n",
      "Request_hour                                   \n",
      "0                            56              40\n",
      "1                            56              25\n",
      "2                            57              37\n",
      "3                            56              34\n",
      "4                            74              78\n",
      "5                            84             185\n",
      "6                            86             167\n",
      "7                            63             174\n",
      "8                            90             155\n",
      "9                            83             173\n",
      "10                           65             116\n",
      "11                           41             115\n",
      "12                           44             121\n",
      "13                           53              89\n",
      "14                           37              88\n",
      "15                           48             102\n",
      "16                           46              91\n",
      "17                          232             151\n",
      "18                          322             164\n",
      "19                          283             166\n",
      "20                          290             161\n",
      "21                          265             142\n",
      "22                          138             154\n",
      "23                           81             103\n",
      "~~~~~~~~~~~~~~~~~\n",
      "~~~~~~~~~~~~~~~~~\n",
      "status     No Cars Available  Trip Completed\n",
      "Weekday                                     \n",
      "Friday                   580             561\n",
      "Monday                   504             601\n",
      "Thursday                 571             529\n",
      "Tuesday                  505             562\n",
      "Wednesday                490             577\n",
      "~~~~~~~~~~~~~~~~~\n",
      "~~~~~~~~~~~~~~~~~\n",
      "status   No Cars Available  Trip Completed\n",
      "Pickup                                    \n",
      "Airport                191             331\n",
      "City                   359             338\n",
      "status     No Cars Available  Trip Completed\n",
      "Weekday                                     \n",
      "Friday                5455.0          5566.0\n",
      "Monday                  52.0           172.0\n",
      "Thursday              4102.0          4206.5\n",
      "Tuesday               1415.0          1523.0\n",
      "Wednesday             2741.0          2898.0\n",
      "~~~~~~~~~~~~~~~~~\n",
      "~~~~~~~~~~~~~~~~~\n"
     ]
    }
   ],
   "source": [
    "import os\n",
    "import sys\n",
    "import pandas as pd\n",
    "\n",
    "# Paths and directory\n",
    "current_directory = os.getcwd()\n",
    "file = os.path.join(current_directory, \"01-data/uber\", \"Uber_supply_demand.xlsx\")\n",
    "#copy = os.path.join(current_directory, \"01-data/DOW30\", \"Dow30_2020.xlsx\")\n",
    "\n",
    "df = pd.read_excel(file)\n",
    "df.head()\n",
    "\n",
    "filtered_df = df.loc[(df['status']!='Cancelled')]\n",
    "filtered_hrs = df.loc[((df['Request_hour'] <= 6) | (df['Request_hour'] >= 23)) & (df['status'] != 'Cancelled')]\n",
    "filtered_pick = df.loc[((df['Request_hour'] <= 6) | (df['Request_hour'] >= 23)) & (df['status'] != 'Cancelled') & (df['Pickup'] != 'City')]\n",
    "pivot_table_hr = filtered_df.pivot_table(index='Request_hour', columns='status', values='Request_id', aggfunc='count')\n",
    "print(pivot_table_hr)\n",
    "print(\"~~~~~~~~~~~~~~~~~\")\n",
    "print(\"~~~~~~~~~~~~~~~~~\")\n",
    "pivot_table_day = filtered_df.pivot_table(index='Weekday', columns='status', values='Request_id', aggfunc='count')\n",
    "print(pivot_table_day)\n",
    "print(\"~~~~~~~~~~~~~~~~~\")\n",
    "print(\"~~~~~~~~~~~~~~~~~\")\n",
    "pivot_table_pickup = filtered_hrs.pivot_table(index='Pickup', columns='status', values='Request_id', aggfunc='count')\n",
    "print(pivot_table_pickup)\n",
    "\n",
    "pivot_table_pickup = filtered_pick.pivot_table(index='Weekday', columns='status', values='Request_id', aggfunc='median')\n",
    "print(pivot_table_pickup)\n",
    "print(\"~~~~~~~~~~~~~~~~~\")\n",
    "print(\"~~~~~~~~~~~~~~~~~\")\n",
    "\n",
    "#df.loc[(df['ticker']=='AAPL') | (df['ticker']=='TSLA')]\n"
   ]
  },
  {
   "cell_type": "code",
   "execution_count": 7,
   "metadata": {},
   "outputs": [
    {
     "data": {
      "text/html": [
       "<div>\n",
       "<style scoped>\n",
       "    .dataframe tbody tr th:only-of-type {\n",
       "        vertical-align: middle;\n",
       "    }\n",
       "\n",
       "    .dataframe tbody tr th {\n",
       "        vertical-align: top;\n",
       "    }\n",
       "\n",
       "    .dataframe thead th {\n",
       "        text-align: right;\n",
       "    }\n",
       "</style>\n",
       "<table border=\"1\" class=\"dataframe\">\n",
       "  <thead>\n",
       "    <tr style=\"text-align: right;\">\n",
       "      <th></th>\n",
       "      <th>carrier_id</th>\n",
       "      <th>name</th>\n",
       "      <th>flight_no</th>\n",
       "      <th>actual_time</th>\n",
       "      <th>departsate</th>\n",
       "      <th>arrivalstate</th>\n",
       "      <th>Cancelled</th>\n",
       "      <th>Arrival delay count</th>\n",
       "      <th>Departure delay count</th>\n",
       "      <th>Count of Flight</th>\n",
       "    </tr>\n",
       "  </thead>\n",
       "  <tbody>\n",
       "    <tr>\n",
       "      <th>0</th>\n",
       "      <td>WN</td>\n",
       "      <td>Southwest Airlines Co.</td>\n",
       "      <td>2865</td>\n",
       "      <td>325.0</td>\n",
       "      <td>New York</td>\n",
       "      <td>Nebraska</td>\n",
       "      <td>0</td>\n",
       "      <td>1</td>\n",
       "      <td>1</td>\n",
       "      <td>1</td>\n",
       "    </tr>\n",
       "    <tr>\n",
       "      <th>1</th>\n",
       "      <td>WN</td>\n",
       "      <td>Southwest Airlines Co.</td>\n",
       "      <td>1793</td>\n",
       "      <td>323.0</td>\n",
       "      <td>New York</td>\n",
       "      <td>Nebraska</td>\n",
       "      <td>0</td>\n",
       "      <td>1</td>\n",
       "      <td>1</td>\n",
       "      <td>1</td>\n",
       "    </tr>\n",
       "    <tr>\n",
       "      <th>2</th>\n",
       "      <td>HP</td>\n",
       "      <td>America West Airlines Inc. (Merged with US Air...</td>\n",
       "      <td>439</td>\n",
       "      <td>289.0</td>\n",
       "      <td>New York</td>\n",
       "      <td>Nebraska</td>\n",
       "      <td>0</td>\n",
       "      <td>1</td>\n",
       "      <td>1</td>\n",
       "      <td>1</td>\n",
       "    </tr>\n",
       "    <tr>\n",
       "      <th>3</th>\n",
       "      <td>HP</td>\n",
       "      <td>America West Airlines Inc. (Merged with US Air...</td>\n",
       "      <td>844</td>\n",
       "      <td>288.0</td>\n",
       "      <td>New York</td>\n",
       "      <td>Arizona</td>\n",
       "      <td>0</td>\n",
       "      <td>1</td>\n",
       "      <td>1</td>\n",
       "      <td>1</td>\n",
       "    </tr>\n",
       "    <tr>\n",
       "      <th>4</th>\n",
       "      <td>HP</td>\n",
       "      <td>America West Airlines Inc. (Merged with US Air...</td>\n",
       "      <td>842</td>\n",
       "      <td>285.0</td>\n",
       "      <td>New York</td>\n",
       "      <td>Arizona</td>\n",
       "      <td>0</td>\n",
       "      <td>1</td>\n",
       "      <td>1</td>\n",
       "      <td>1</td>\n",
       "    </tr>\n",
       "    <tr>\n",
       "      <th>...</th>\n",
       "      <td>...</td>\n",
       "      <td>...</td>\n",
       "      <td>...</td>\n",
       "      <td>...</td>\n",
       "      <td>...</td>\n",
       "      <td>...</td>\n",
       "      <td>...</td>\n",
       "      <td>...</td>\n",
       "      <td>...</td>\n",
       "      <td>...</td>\n",
       "    </tr>\n",
       "    <tr>\n",
       "      <th>458</th>\n",
       "      <td>US</td>\n",
       "      <td>US Airways Inc.</td>\n",
       "      <td>1299</td>\n",
       "      <td>43.0</td>\n",
       "      <td>New York</td>\n",
       "      <td>North Carolina</td>\n",
       "      <td>0</td>\n",
       "      <td>1</td>\n",
       "      <td>1</td>\n",
       "      <td>1</td>\n",
       "    </tr>\n",
       "    <tr>\n",
       "      <th>459</th>\n",
       "      <td>US</td>\n",
       "      <td>US Airways Inc.</td>\n",
       "      <td>1452</td>\n",
       "      <td>43.0</td>\n",
       "      <td>New York</td>\n",
       "      <td>North Carolina</td>\n",
       "      <td>0</td>\n",
       "      <td>1</td>\n",
       "      <td>1</td>\n",
       "      <td>1</td>\n",
       "    </tr>\n",
       "    <tr>\n",
       "      <th>460</th>\n",
       "      <td>US</td>\n",
       "      <td>US Airways Inc.</td>\n",
       "      <td>1047</td>\n",
       "      <td>41.0</td>\n",
       "      <td>New York</td>\n",
       "      <td>North Carolina</td>\n",
       "      <td>0</td>\n",
       "      <td>1</td>\n",
       "      <td>1</td>\n",
       "      <td>1</td>\n",
       "    </tr>\n",
       "    <tr>\n",
       "      <th>461</th>\n",
       "      <td>AA</td>\n",
       "      <td>American Airlines Inc.</td>\n",
       "      <td>1511</td>\n",
       "      <td>NaN</td>\n",
       "      <td>New York</td>\n",
       "      <td>Tennessee</td>\n",
       "      <td>0</td>\n",
       "      <td>0</td>\n",
       "      <td>1</td>\n",
       "      <td>1</td>\n",
       "    </tr>\n",
       "    <tr>\n",
       "      <th>462</th>\n",
       "      <td>US</td>\n",
       "      <td>US Airways Inc.</td>\n",
       "      <td>1119</td>\n",
       "      <td>NaN</td>\n",
       "      <td>New York</td>\n",
       "      <td>Oregon</td>\n",
       "      <td>0</td>\n",
       "      <td>0</td>\n",
       "      <td>1</td>\n",
       "      <td>1</td>\n",
       "    </tr>\n",
       "  </tbody>\n",
       "</table>\n",
       "<p>463 rows × 10 columns</p>\n",
       "</div>"
      ],
      "text/plain": [
       "    carrier_id                                               name  flight_no  \\\n",
       "0           WN                             Southwest Airlines Co.       2865   \n",
       "1           WN                             Southwest Airlines Co.       1793   \n",
       "2           HP  America West Airlines Inc. (Merged with US Air...        439   \n",
       "3           HP  America West Airlines Inc. (Merged with US Air...        844   \n",
       "4           HP  America West Airlines Inc. (Merged with US Air...        842   \n",
       "..         ...                                                ...        ...   \n",
       "458         US                                    US Airways Inc.       1299   \n",
       "459         US                                    US Airways Inc.       1452   \n",
       "460         US                                    US Airways Inc.       1047   \n",
       "461         AA                             American Airlines Inc.       1511   \n",
       "462         US                                    US Airways Inc.       1119   \n",
       "\n",
       "     actual_time departsate    arrivalstate  Cancelled  Arrival delay count  \\\n",
       "0          325.0   New York        Nebraska          0                    1   \n",
       "1          323.0   New York        Nebraska          0                    1   \n",
       "2          289.0   New York        Nebraska          0                    1   \n",
       "3          288.0   New York         Arizona          0                    1   \n",
       "4          285.0   New York         Arizona          0                    1   \n",
       "..           ...        ...             ...        ...                  ...   \n",
       "458         43.0   New York  North Carolina          0                    1   \n",
       "459         43.0   New York  North Carolina          0                    1   \n",
       "460         41.0   New York  North Carolina          0                    1   \n",
       "461          NaN   New York       Tennessee          0                    0   \n",
       "462          NaN   New York          Oregon          0                    0   \n",
       "\n",
       "     Departure delay count  Count of Flight  \n",
       "0                        1                1  \n",
       "1                        1                1  \n",
       "2                        1                1  \n",
       "3                        1                1  \n",
       "4                        1                1  \n",
       "..                     ...              ...  \n",
       "458                      1                1  \n",
       "459                      1                1  \n",
       "460                      1                1  \n",
       "461                      1                1  \n",
       "462                      1                1  \n",
       "\n",
       "[463 rows x 10 columns]"
      ]
     },
     "execution_count": 7,
     "metadata": {},
     "output_type": "execute_result"
    }
   ],
   "source": [
    "import os\n",
    "import sys\n",
    "import pandas as pd\n",
    "import sqlite3\n",
    "\n",
    "# Paths and directory\n",
    "current_directory = os.getcwd()\n",
    "file = os.path.join(current_directory, \"01-data/flightdata\", \"flight.db\")\n",
    "conn = sqlite3.connect(file)\n",
    "\n",
    "query =  \"\"\"\n",
    "\n",
    "    SELECT\n",
    "        a.carrier_id,\n",
    "        b.name,\n",
    "\t\ta.flight_no,\n",
    "\t\ta.actual_time,\n",
    "         d.state as [departsate],\n",
    "\t\t c.state as [arrivalstate],\n",
    "        SUM(a.cancelled) as [Cancelled],\n",
    "        COUNT(a.arrival_delay) as [Arrival delay count],\n",
    "        COUNT(a.departure_delay) as [Departure delay count],\n",
    "        COUNT(a.fid) as [Count of Flight]\n",
    "    FROM flights a\n",
    "    LEFT JOIN carriers b ON a.carrier_id = b.cid\n",
    "    LEFT JOIN airports c ON a.arrival_aid = c.aid\n",
    "    LEFT JOIN airports d ON a.departure_aid = d.aid\n",
    "\t\n",
    "    WHERE  a.cancelled = 0 and a.month_id=7  and a.day_of_month=1  and d.state='New York'\n",
    "\n",
    "\tgroup by        \n",
    "    \ta.carrier_id,\n",
    "        b.name,\n",
    "\t\ta.flight_no,\n",
    "\t\t d.state,\n",
    "\t\t c.state\n",
    "\t\t \n",
    "    ORDER BY a.actual_time DESC\n",
    "     \"\"\"\n",
    "\n",
    "df = pd.read_sql_query(query, conn)\n",
    "\n",
    "# Close the connection\n",
    "conn.close()\n",
    "\n",
    "df"
   ]
  },
  {
   "cell_type": "code",
   "execution_count": 184,
   "metadata": {},
   "outputs": [],
   "source": [
    "import os\n",
    "import sys\n",
    "import pandas as pd\n",
    "import sqlite3\n",
    "\n",
    "# Paths and directory\n",
    "current_directory = os.getcwd()\n",
    "file = os.path.join(current_directory, \"01-data/musicdata\", \"pop_music.db\")\n",
    "conn = sqlite3.connect(file)\n",
    "\n",
    "#SQL queries code blocks~~~~~~~~~~~~~~~~~~~~~~~~~~~~~~~~~~~~~~~~~~~~~\n",
    "queryartists =  \"\"\"\n",
    "select * from artists\n",
    "limit 10\n",
    "\n",
    "     \"\"\"\n",
    "\n",
    "queryalbums =  \"\"\"\n",
    "select * from albums\n",
    "limt 10\n",
    "\n",
    "     \"\"\"\n",
    "\n",
    "querysongs =  \"\"\"\n",
    "select * from songs \n",
    "limit 10\n",
    "     \"\"\"\n",
    "\n",
    "Q01 =  \"\"\"\n",
    "select distinct b.name as[album], c.name as [artist]\n",
    "\n",
    "from songs a\n",
    "LEFT JOIN albums b ON a.album = b._id\n",
    "LEFT JOIN artists c ON b.artist = c._id\n",
    "\n",
    "where c.name like '%AC DC%'\n",
    "     \"\"\"\n",
    "\n",
    "Q02 =  \"\"\"\n",
    "select distinct a.title, c.name as [artist]\n",
    "\n",
    "from songs a\n",
    "LEFT JOIN albums b ON a.album = b._id\n",
    "LEFT JOIN artists c ON b.artist = c._id\n",
    "\n",
    "where c.name like '%beatles%'\n",
    "     \"\"\"\n",
    "\n",
    "Q03 =  \"\"\"\n",
    "select distinct c.name as [artist],count(a.title) as [Love Song count]\n",
    "\n",
    "from songs a\n",
    "LEFT JOIN albums b ON a.album = b._id\n",
    "LEFT JOIN artists c ON b.artist = c._id\n",
    "where a.title like '%love%'\n",
    "group by c.name\n",
    "order by count(a.title) desc\n",
    "     \"\"\"\n",
    "\n",
    "Q04 =  \"\"\"\n",
    "select distinct \n",
    "c.name as [artist],count(1) as [song count]\n",
    "\n",
    "from songs a\n",
    "LEFT JOIN albums b ON a.album = b._id\n",
    "LEFT JOIN artists c ON b.artist = c._id\n",
    "\n",
    "group by c.name\n",
    "\n",
    "order by count(b.name) desc\n",
    "     \"\"\"\n",
    "\n",
    "Q05 =  \"\"\"\n",
    "select distinct \n",
    "b.name as [artist],count(a.name) as [album couunt]\n",
    "\n",
    "from albums a\n",
    "LEFT JOIN artists b ON a.artist = b._id\n",
    "\n",
    "group by b.name\n",
    "order by count(a.name) desc\n",
    "limit 5\n",
    "\n",
    "     \"\"\"\n",
    "\n",
    "Q06 =  \"\"\"\n",
    "select distinct b.name as[album],a.title,c.name\n",
    "\n",
    "from songs a\n",
    "LEFT JOIN albums b ON a.album = b._id\n",
    "LEFT JOIN artists c ON b.artist = c._id\n",
    "\n",
    "where c.name like '%queen%'\n",
    "\n",
    "order by b.name\n",
    "     \"\"\"\n",
    "\n",
    "#SQL code execution~~~~~~~~~~~~~~~~~~~~~~~~~~~~~~~~~~~~~~~~~~~~~~~~~~~~~\n",
    "dfq1 = pd.read_sql_query(Q01, conn)\n",
    "dfq2 = pd.read_sql_query(Q02, conn)\n",
    "dfq3 = pd.read_sql_query(Q03 , conn)\n",
    "dfq4 = pd.read_sql_query(Q04 , conn)\n",
    "dfq5 = pd.read_sql_query(Q05 , conn)\n",
    "dfq6 = pd.read_sql_query(Q06 , conn)\n",
    "\n",
    "# Close the connection\n",
    "conn.close()\n",
    "\n",
    "\n"
   ]
  },
  {
   "cell_type": "code",
   "execution_count": 185,
   "metadata": {},
   "outputs": [
    {
     "name": "stdout",
     "output_type": "stream",
     "text": [
      "10 records from songs table\n"
     ]
    }
   ],
   "source": [
    "print('10 records from songs table')"
   ]
  },
  {
   "cell_type": "code",
   "execution_count": 186,
   "metadata": {},
   "outputs": [
    {
     "name": "stdout",
     "output_type": "stream",
     "text": [
      "Q1. Display all the albums by AC DC\n"
     ]
    },
    {
     "data": {
      "text/html": [
       "<div>\n",
       "<style scoped>\n",
       "    .dataframe tbody tr th:only-of-type {\n",
       "        vertical-align: middle;\n",
       "    }\n",
       "\n",
       "    .dataframe tbody tr th {\n",
       "        vertical-align: top;\n",
       "    }\n",
       "\n",
       "    .dataframe thead th {\n",
       "        text-align: right;\n",
       "    }\n",
       "</style>\n",
       "<table border=\"1\" class=\"dataframe\">\n",
       "  <thead>\n",
       "    <tr style=\"text-align: right;\">\n",
       "      <th></th>\n",
       "      <th>album</th>\n",
       "      <th>artist</th>\n",
       "    </tr>\n",
       "  </thead>\n",
       "  <tbody>\n",
       "    <tr>\n",
       "      <th>0</th>\n",
       "      <td>For Those About To Rock (We Salute You)</td>\n",
       "      <td>AC DC</td>\n",
       "    </tr>\n",
       "    <tr>\n",
       "      <th>1</th>\n",
       "      <td>If You Want Blood You've Got It</td>\n",
       "      <td>AC DC</td>\n",
       "    </tr>\n",
       "  </tbody>\n",
       "</table>\n",
       "</div>"
      ],
      "text/plain": [
       "                                     album artist\n",
       "0  For Those About To Rock (We Salute You)  AC DC\n",
       "1          If You Want Blood You've Got It  AC DC"
      ]
     },
     "execution_count": 186,
     "metadata": {},
     "output_type": "execute_result"
    }
   ],
   "source": [
    "print('Q1. Display all the albums by AC DC')\n",
    "dfq1"
   ]
  },
  {
   "cell_type": "code",
   "execution_count": 187,
   "metadata": {},
   "outputs": [
    {
     "name": "stdout",
     "output_type": "stream",
     "text": [
      "Q2. Display all songs by \"Beatles\n"
     ]
    },
    {
     "data": {
      "text/html": [
       "<div>\n",
       "<style scoped>\n",
       "    .dataframe tbody tr th:only-of-type {\n",
       "        vertical-align: middle;\n",
       "    }\n",
       "\n",
       "    .dataframe tbody tr th {\n",
       "        vertical-align: top;\n",
       "    }\n",
       "\n",
       "    .dataframe thead th {\n",
       "        text-align: right;\n",
       "    }\n",
       "</style>\n",
       "<table border=\"1\" class=\"dataframe\">\n",
       "  <thead>\n",
       "    <tr style=\"text-align: right;\">\n",
       "      <th></th>\n",
       "      <th>title</th>\n",
       "      <th>artist</th>\n",
       "    </tr>\n",
       "  </thead>\n",
       "  <tbody>\n",
       "    <tr>\n",
       "      <th>0</th>\n",
       "      <td>Sgt. Pepper's Lonely Hearts Club Band</td>\n",
       "      <td>Beatles</td>\n",
       "    </tr>\n",
       "    <tr>\n",
       "      <th>1</th>\n",
       "      <td>With A Little Help From My Friends</td>\n",
       "      <td>Beatles</td>\n",
       "    </tr>\n",
       "    <tr>\n",
       "      <th>2</th>\n",
       "      <td>Lucy In The Sky With Diamonds</td>\n",
       "      <td>Beatles</td>\n",
       "    </tr>\n",
       "    <tr>\n",
       "      <th>3</th>\n",
       "      <td>A Day In The Life</td>\n",
       "      <td>Beatles</td>\n",
       "    </tr>\n",
       "    <tr>\n",
       "      <th>4</th>\n",
       "      <td>Good Morning Good Morning</td>\n",
       "      <td>Beatles</td>\n",
       "    </tr>\n",
       "    <tr>\n",
       "      <th>5</th>\n",
       "      <td>Fixing A Hole</td>\n",
       "      <td>Beatles</td>\n",
       "    </tr>\n",
       "    <tr>\n",
       "      <th>6</th>\n",
       "      <td>Lovely Rita</td>\n",
       "      <td>Beatles</td>\n",
       "    </tr>\n",
       "    <tr>\n",
       "      <th>7</th>\n",
       "      <td>She's Leaving Home</td>\n",
       "      <td>Beatles</td>\n",
       "    </tr>\n",
       "    <tr>\n",
       "      <th>8</th>\n",
       "      <td>When I'm Sixty-Four</td>\n",
       "      <td>Beatles</td>\n",
       "    </tr>\n",
       "    <tr>\n",
       "      <th>9</th>\n",
       "      <td>Being For The Benefit Of Mr. Kite</td>\n",
       "      <td>Beatles</td>\n",
       "    </tr>\n",
       "    <tr>\n",
       "      <th>10</th>\n",
       "      <td>Within You Without You</td>\n",
       "      <td>Beatles</td>\n",
       "    </tr>\n",
       "    <tr>\n",
       "      <th>11</th>\n",
       "      <td>Getting Better</td>\n",
       "      <td>Beatles</td>\n",
       "    </tr>\n",
       "    <tr>\n",
       "      <th>12</th>\n",
       "      <td>Sgt. Pepper's Lonely Hearts Club Band (reprise)</td>\n",
       "      <td>Beatles</td>\n",
       "    </tr>\n",
       "  </tbody>\n",
       "</table>\n",
       "</div>"
      ],
      "text/plain": [
       "                                              title   artist\n",
       "0             Sgt. Pepper's Lonely Hearts Club Band  Beatles\n",
       "1                With A Little Help From My Friends  Beatles\n",
       "2                     Lucy In The Sky With Diamonds  Beatles\n",
       "3                                 A Day In The Life  Beatles\n",
       "4                         Good Morning Good Morning  Beatles\n",
       "5                                     Fixing A Hole  Beatles\n",
       "6                                       Lovely Rita  Beatles\n",
       "7                                She's Leaving Home  Beatles\n",
       "8                               When I'm Sixty-Four  Beatles\n",
       "9                 Being For The Benefit Of Mr. Kite  Beatles\n",
       "10                           Within You Without You  Beatles\n",
       "11                                   Getting Better  Beatles\n",
       "12  Sgt. Pepper's Lonely Hearts Club Band (reprise)  Beatles"
      ]
     },
     "execution_count": 187,
     "metadata": {},
     "output_type": "execute_result"
    }
   ],
   "source": [
    "print('Q2. Display all songs by \"Beatles')\n",
    "dfq2"
   ]
  },
  {
   "cell_type": "code",
   "execution_count": 188,
   "metadata": {},
   "outputs": [
    {
     "name": "stdout",
     "output_type": "stream",
     "text": [
      "Q3. Show all information about the song with love in its title (i.e., song title,album name, and artist name.)\n"
     ]
    },
    {
     "data": {
      "text/html": [
       "<div>\n",
       "<style scoped>\n",
       "    .dataframe tbody tr th:only-of-type {\n",
       "        vertical-align: middle;\n",
       "    }\n",
       "\n",
       "    .dataframe tbody tr th {\n",
       "        vertical-align: top;\n",
       "    }\n",
       "\n",
       "    .dataframe thead th {\n",
       "        text-align: right;\n",
       "    }\n",
       "</style>\n",
       "<table border=\"1\" class=\"dataframe\">\n",
       "  <thead>\n",
       "    <tr style=\"text-align: right;\">\n",
       "      <th></th>\n",
       "      <th>artist</th>\n",
       "      <th>Love Song count</th>\n",
       "    </tr>\n",
       "  </thead>\n",
       "  <tbody>\n",
       "    <tr>\n",
       "      <th>0</th>\n",
       "      <td>Led Zeppelin</td>\n",
       "      <td>10</td>\n",
       "    </tr>\n",
       "    <tr>\n",
       "      <th>1</th>\n",
       "      <td>Fleetwood Mac</td>\n",
       "      <td>9</td>\n",
       "    </tr>\n",
       "    <tr>\n",
       "      <th>2</th>\n",
       "      <td>Deep Purple</td>\n",
       "      <td>9</td>\n",
       "    </tr>\n",
       "    <tr>\n",
       "      <th>3</th>\n",
       "      <td>Kate Bush</td>\n",
       "      <td>6</td>\n",
       "    </tr>\n",
       "    <tr>\n",
       "      <th>4</th>\n",
       "      <td>Troggs</td>\n",
       "      <td>5</td>\n",
       "    </tr>\n",
       "    <tr>\n",
       "      <th>...</th>\n",
       "      <td>...</td>\n",
       "      <td>...</td>\n",
       "    </tr>\n",
       "    <tr>\n",
       "      <th>91</th>\n",
       "      <td>Bad Company</td>\n",
       "      <td>1</td>\n",
       "    </tr>\n",
       "    <tr>\n",
       "      <th>92</th>\n",
       "      <td>B.B. King</td>\n",
       "      <td>1</td>\n",
       "    </tr>\n",
       "    <tr>\n",
       "      <th>93</th>\n",
       "      <td>Animals</td>\n",
       "      <td>1</td>\n",
       "    </tr>\n",
       "    <tr>\n",
       "      <th>94</th>\n",
       "      <td>Alice Cooper</td>\n",
       "      <td>1</td>\n",
       "    </tr>\n",
       "    <tr>\n",
       "      <th>95</th>\n",
       "      <td>10cc</td>\n",
       "      <td>1</td>\n",
       "    </tr>\n",
       "  </tbody>\n",
       "</table>\n",
       "<p>96 rows × 2 columns</p>\n",
       "</div>"
      ],
      "text/plain": [
       "           artist  Love Song count\n",
       "0    Led Zeppelin               10\n",
       "1   Fleetwood Mac                9\n",
       "2     Deep Purple                9\n",
       "3       Kate Bush                6\n",
       "4          Troggs                5\n",
       "..            ...              ...\n",
       "91    Bad Company                1\n",
       "92      B.B. King                1\n",
       "93        Animals                1\n",
       "94   Alice Cooper                1\n",
       "95           10cc                1\n",
       "\n",
       "[96 rows x 2 columns]"
      ]
     },
     "execution_count": 188,
     "metadata": {},
     "output_type": "execute_result"
    }
   ],
   "source": [
    "print('Q3. Show all information about the song with love in its title (i.e., song title,album name, and artist name.)')\n",
    "dfq3"
   ]
  },
  {
   "cell_type": "code",
   "execution_count": 189,
   "metadata": {},
   "outputs": [
    {
     "name": "stdout",
     "output_type": "stream",
     "text": [
      "Q4. In the database, which artist or band has recorded the most songs ever?\n"
     ]
    },
    {
     "data": {
      "text/html": [
       "<div>\n",
       "<style scoped>\n",
       "    .dataframe tbody tr th:only-of-type {\n",
       "        vertical-align: middle;\n",
       "    }\n",
       "\n",
       "    .dataframe tbody tr th {\n",
       "        vertical-align: top;\n",
       "    }\n",
       "\n",
       "    .dataframe thead th {\n",
       "        text-align: right;\n",
       "    }\n",
       "</style>\n",
       "<table border=\"1\" class=\"dataframe\">\n",
       "  <thead>\n",
       "    <tr style=\"text-align: right;\">\n",
       "      <th></th>\n",
       "      <th>artist</th>\n",
       "      <th>song count</th>\n",
       "    </tr>\n",
       "  </thead>\n",
       "  <tbody>\n",
       "    <tr>\n",
       "      <th>0</th>\n",
       "      <td>Led Zeppelin</td>\n",
       "      <td>166</td>\n",
       "    </tr>\n",
       "    <tr>\n",
       "      <th>1</th>\n",
       "      <td>Black Sabbath</td>\n",
       "      <td>158</td>\n",
       "    </tr>\n",
       "    <tr>\n",
       "      <th>2</th>\n",
       "      <td>Axel Rudi Pell</td>\n",
       "      <td>157</td>\n",
       "    </tr>\n",
       "    <tr>\n",
       "      <th>3</th>\n",
       "      <td>Deep Purple</td>\n",
       "      <td>155</td>\n",
       "    </tr>\n",
       "    <tr>\n",
       "      <th>4</th>\n",
       "      <td>Aerosmith</td>\n",
       "      <td>151</td>\n",
       "    </tr>\n",
       "    <tr>\n",
       "      <th>...</th>\n",
       "      <td>...</td>\n",
       "      <td>...</td>\n",
       "    </tr>\n",
       "    <tr>\n",
       "      <th>195</th>\n",
       "      <td>Vladimir Vysotsky</td>\n",
       "      <td>1</td>\n",
       "    </tr>\n",
       "    <tr>\n",
       "      <th>196</th>\n",
       "      <td>Meredith Brooks</td>\n",
       "      <td>1</td>\n",
       "    </tr>\n",
       "    <tr>\n",
       "      <th>197</th>\n",
       "      <td>Corey Taylor</td>\n",
       "      <td>1</td>\n",
       "    </tr>\n",
       "    <tr>\n",
       "      <th>198</th>\n",
       "      <td>Bruce Springsteen</td>\n",
       "      <td>1</td>\n",
       "    </tr>\n",
       "    <tr>\n",
       "      <th>199</th>\n",
       "      <td>Billy Joel</td>\n",
       "      <td>1</td>\n",
       "    </tr>\n",
       "  </tbody>\n",
       "</table>\n",
       "<p>200 rows × 2 columns</p>\n",
       "</div>"
      ],
      "text/plain": [
       "                artist  song count\n",
       "0         Led Zeppelin         166\n",
       "1        Black Sabbath         158\n",
       "2       Axel Rudi Pell         157\n",
       "3          Deep Purple         155\n",
       "4            Aerosmith         151\n",
       "..                 ...         ...\n",
       "195  Vladimir Vysotsky           1\n",
       "196    Meredith Brooks           1\n",
       "197       Corey Taylor           1\n",
       "198  Bruce Springsteen           1\n",
       "199         Billy Joel           1\n",
       "\n",
       "[200 rows x 2 columns]"
      ]
     },
     "execution_count": 189,
     "metadata": {},
     "output_type": "execute_result"
    }
   ],
   "source": [
    "print('Q4. In the database, which artist or band has recorded the most songs ever?')\n",
    "dfq4"
   ]
  },
  {
   "cell_type": "code",
   "execution_count": 190,
   "metadata": {},
   "outputs": [
    {
     "name": "stdout",
     "output_type": "stream",
     "text": [
      "Q5. Show the top 5 artists (including bands) with the most albums.\n"
     ]
    },
    {
     "data": {
      "text/html": [
       "<div>\n",
       "<style scoped>\n",
       "    .dataframe tbody tr th:only-of-type {\n",
       "        vertical-align: middle;\n",
       "    }\n",
       "\n",
       "    .dataframe tbody tr th {\n",
       "        vertical-align: top;\n",
       "    }\n",
       "\n",
       "    .dataframe thead th {\n",
       "        text-align: right;\n",
       "    }\n",
       "</style>\n",
       "<table border=\"1\" class=\"dataframe\">\n",
       "  <thead>\n",
       "    <tr style=\"text-align: right;\">\n",
       "      <th></th>\n",
       "      <th>artist</th>\n",
       "      <th>album couunt</th>\n",
       "    </tr>\n",
       "  </thead>\n",
       "  <tbody>\n",
       "    <tr>\n",
       "      <th>0</th>\n",
       "      <td>Black Sabbath</td>\n",
       "      <td>18</td>\n",
       "    </tr>\n",
       "    <tr>\n",
       "      <th>1</th>\n",
       "      <td>Axel Rudi Pell</td>\n",
       "      <td>15</td>\n",
       "    </tr>\n",
       "    <tr>\n",
       "      <th>2</th>\n",
       "      <td>Led Zeppelin</td>\n",
       "      <td>14</td>\n",
       "    </tr>\n",
       "    <tr>\n",
       "      <th>3</th>\n",
       "      <td>Deep Purple</td>\n",
       "      <td>13</td>\n",
       "    </tr>\n",
       "    <tr>\n",
       "      <th>4</th>\n",
       "      <td>Aerosmith</td>\n",
       "      <td>13</td>\n",
       "    </tr>\n",
       "  </tbody>\n",
       "</table>\n",
       "</div>"
      ],
      "text/plain": [
       "           artist  album couunt\n",
       "0   Black Sabbath            18\n",
       "1  Axel Rudi Pell            15\n",
       "2    Led Zeppelin            14\n",
       "3     Deep Purple            13\n",
       "4       Aerosmith            13"
      ]
     },
     "execution_count": 190,
     "metadata": {},
     "output_type": "execute_result"
    }
   ],
   "source": [
    "print('Q5. Show the top 5 artists (including bands) with the most albums.')\n",
    "dfq5"
   ]
  },
  {
   "cell_type": "code",
   "execution_count": 191,
   "metadata": {},
   "outputs": [
    {
     "name": "stdout",
     "output_type": "stream",
     "text": [
      "Q6. Show all songs and the album information of each song by Queen,including song title, album name, and artist name.(note: Queen is an artist.)\n"
     ]
    },
    {
     "data": {
      "text/html": [
       "<div>\n",
       "<style scoped>\n",
       "    .dataframe tbody tr th:only-of-type {\n",
       "        vertical-align: middle;\n",
       "    }\n",
       "\n",
       "    .dataframe tbody tr th {\n",
       "        vertical-align: top;\n",
       "    }\n",
       "\n",
       "    .dataframe thead th {\n",
       "        text-align: right;\n",
       "    }\n",
       "</style>\n",
       "<table border=\"1\" class=\"dataframe\">\n",
       "  <thead>\n",
       "    <tr style=\"text-align: right;\">\n",
       "      <th></th>\n",
       "      <th>album</th>\n",
       "      <th>title</th>\n",
       "      <th>name</th>\n",
       "    </tr>\n",
       "  </thead>\n",
       "  <tbody>\n",
       "    <tr>\n",
       "      <th>0</th>\n",
       "      <td>Innuendo</td>\n",
       "      <td>Headlong</td>\n",
       "      <td>Queen</td>\n",
       "    </tr>\n",
       "    <tr>\n",
       "      <th>1</th>\n",
       "      <td>Innuendo</td>\n",
       "      <td>All God's People</td>\n",
       "      <td>Queen</td>\n",
       "    </tr>\n",
       "    <tr>\n",
       "      <th>2</th>\n",
       "      <td>Innuendo</td>\n",
       "      <td>The Show Must Go On</td>\n",
       "      <td>Queen</td>\n",
       "    </tr>\n",
       "    <tr>\n",
       "      <th>3</th>\n",
       "      <td>Innuendo</td>\n",
       "      <td>Bijou</td>\n",
       "      <td>Queen</td>\n",
       "    </tr>\n",
       "    <tr>\n",
       "      <th>4</th>\n",
       "      <td>Innuendo</td>\n",
       "      <td>I Can't Live With You</td>\n",
       "      <td>Queen</td>\n",
       "    </tr>\n",
       "    <tr>\n",
       "      <th>5</th>\n",
       "      <td>Innuendo</td>\n",
       "      <td>The Hitman</td>\n",
       "      <td>Queen</td>\n",
       "    </tr>\n",
       "    <tr>\n",
       "      <th>6</th>\n",
       "      <td>Innuendo</td>\n",
       "      <td>Innuendo</td>\n",
       "      <td>Queen</td>\n",
       "    </tr>\n",
       "    <tr>\n",
       "      <th>7</th>\n",
       "      <td>Innuendo</td>\n",
       "      <td>I'm Going Slightly Mad</td>\n",
       "      <td>Queen</td>\n",
       "    </tr>\n",
       "    <tr>\n",
       "      <th>8</th>\n",
       "      <td>Innuendo</td>\n",
       "      <td>Ride the Wild Wind</td>\n",
       "      <td>Queen</td>\n",
       "    </tr>\n",
       "    <tr>\n",
       "      <th>9</th>\n",
       "      <td>Innuendo</td>\n",
       "      <td>Delilah</td>\n",
       "      <td>Queen</td>\n",
       "    </tr>\n",
       "    <tr>\n",
       "      <th>10</th>\n",
       "      <td>Innuendo</td>\n",
       "      <td>These Are the Days of Our Lives</td>\n",
       "      <td>Queen</td>\n",
       "    </tr>\n",
       "    <tr>\n",
       "      <th>11</th>\n",
       "      <td>Innuendo</td>\n",
       "      <td>Don't Try So Hard</td>\n",
       "      <td>Queen</td>\n",
       "    </tr>\n",
       "    <tr>\n",
       "      <th>12</th>\n",
       "      <td>Innuendo Disk 2</td>\n",
       "      <td>Headlong (embryo with guide vocal)</td>\n",
       "      <td>Queen</td>\n",
       "    </tr>\n",
       "    <tr>\n",
       "      <th>13</th>\n",
       "      <td>Innuendo Disk 2</td>\n",
       "      <td>I'm Going Slightly Mad (mad_mix)</td>\n",
       "      <td>Queen</td>\n",
       "    </tr>\n",
       "    <tr>\n",
       "      <th>14</th>\n",
       "      <td>Innuendo Disk 2</td>\n",
       "      <td>Lost Opportunity (B-Side)</td>\n",
       "      <td>Queen</td>\n",
       "    </tr>\n",
       "    <tr>\n",
       "      <th>15</th>\n",
       "      <td>Innuendo Disk 2</td>\n",
       "      <td>I Can't Live With You (1997 - Rocks retake)</td>\n",
       "      <td>Queen</td>\n",
       "    </tr>\n",
       "    <tr>\n",
       "      <th>16</th>\n",
       "      <td>Innuendo Disk 2</td>\n",
       "      <td>Ride the Wild Wind (early version with guide v...</td>\n",
       "      <td>Queen</td>\n",
       "    </tr>\n",
       "    <tr>\n",
       "      <th>17</th>\n",
       "      <td>Sheer Heart Attack</td>\n",
       "      <td>In The Lap Of The Gods</td>\n",
       "      <td>Queen</td>\n",
       "    </tr>\n",
       "    <tr>\n",
       "      <th>18</th>\n",
       "      <td>Sheer Heart Attack</td>\n",
       "      <td>In The Lap Of The Gods ... Revisited</td>\n",
       "      <td>Queen</td>\n",
       "    </tr>\n",
       "    <tr>\n",
       "      <th>19</th>\n",
       "      <td>Sheer Heart Attack</td>\n",
       "      <td>Brighton Rock</td>\n",
       "      <td>Queen</td>\n",
       "    </tr>\n",
       "    <tr>\n",
       "      <th>20</th>\n",
       "      <td>Sheer Heart Attack</td>\n",
       "      <td>She Makes Me (Stormtrooper In Stilettos)</td>\n",
       "      <td>Queen</td>\n",
       "    </tr>\n",
       "    <tr>\n",
       "      <th>21</th>\n",
       "      <td>Sheer Heart Attack</td>\n",
       "      <td>Lily Of The Valley</td>\n",
       "      <td>Queen</td>\n",
       "    </tr>\n",
       "    <tr>\n",
       "      <th>22</th>\n",
       "      <td>Sheer Heart Attack</td>\n",
       "      <td>Tenement Funster</td>\n",
       "      <td>Queen</td>\n",
       "    </tr>\n",
       "    <tr>\n",
       "      <th>23</th>\n",
       "      <td>Sheer Heart Attack</td>\n",
       "      <td>Now I'm Here</td>\n",
       "      <td>Queen</td>\n",
       "    </tr>\n",
       "    <tr>\n",
       "      <th>24</th>\n",
       "      <td>Sheer Heart Attack</td>\n",
       "      <td>Killer Queen</td>\n",
       "      <td>Queen</td>\n",
       "    </tr>\n",
       "    <tr>\n",
       "      <th>25</th>\n",
       "      <td>Sheer Heart Attack</td>\n",
       "      <td>Dear Friends</td>\n",
       "      <td>Queen</td>\n",
       "    </tr>\n",
       "    <tr>\n",
       "      <th>26</th>\n",
       "      <td>Sheer Heart Attack</td>\n",
       "      <td>Flick Of The Wrist</td>\n",
       "      <td>Queen</td>\n",
       "    </tr>\n",
       "    <tr>\n",
       "      <th>27</th>\n",
       "      <td>Sheer Heart Attack</td>\n",
       "      <td>Stone Cold Crazy</td>\n",
       "      <td>Queen</td>\n",
       "    </tr>\n",
       "    <tr>\n",
       "      <th>28</th>\n",
       "      <td>Sheer Heart Attack</td>\n",
       "      <td>Bring Back That Leroy Brown</td>\n",
       "      <td>Queen</td>\n",
       "    </tr>\n",
       "    <tr>\n",
       "      <th>29</th>\n",
       "      <td>Sheer Heart Attack</td>\n",
       "      <td>Misfire</td>\n",
       "      <td>Queen</td>\n",
       "    </tr>\n",
       "    <tr>\n",
       "      <th>30</th>\n",
       "      <td>The Miracle</td>\n",
       "      <td>Breakthru</td>\n",
       "      <td>Queen</td>\n",
       "    </tr>\n",
       "    <tr>\n",
       "      <th>31</th>\n",
       "      <td>The Miracle</td>\n",
       "      <td>My Baby Does Me</td>\n",
       "      <td>Queen</td>\n",
       "    </tr>\n",
       "    <tr>\n",
       "      <th>32</th>\n",
       "      <td>The Miracle</td>\n",
       "      <td>The Invisible Man</td>\n",
       "      <td>Queen</td>\n",
       "    </tr>\n",
       "    <tr>\n",
       "      <th>33</th>\n",
       "      <td>The Miracle</td>\n",
       "      <td>Hang On In There</td>\n",
       "      <td>Queen</td>\n",
       "    </tr>\n",
       "    <tr>\n",
       "      <th>34</th>\n",
       "      <td>The Miracle</td>\n",
       "      <td>Chinese Torture</td>\n",
       "      <td>Queen</td>\n",
       "    </tr>\n",
       "    <tr>\n",
       "      <th>35</th>\n",
       "      <td>The Miracle</td>\n",
       "      <td>Scandal</td>\n",
       "      <td>Queen</td>\n",
       "    </tr>\n",
       "    <tr>\n",
       "      <th>36</th>\n",
       "      <td>The Miracle</td>\n",
       "      <td>The Miracle</td>\n",
       "      <td>Queen</td>\n",
       "    </tr>\n",
       "    <tr>\n",
       "      <th>37</th>\n",
       "      <td>The Miracle</td>\n",
       "      <td>I Want It All</td>\n",
       "      <td>Queen</td>\n",
       "    </tr>\n",
       "    <tr>\n",
       "      <th>38</th>\n",
       "      <td>The Miracle</td>\n",
       "      <td>Rain Must Fall</td>\n",
       "      <td>Queen</td>\n",
       "    </tr>\n",
       "    <tr>\n",
       "      <th>39</th>\n",
       "      <td>The Miracle</td>\n",
       "      <td>Khashoggi's Ship</td>\n",
       "      <td>Queen</td>\n",
       "    </tr>\n",
       "    <tr>\n",
       "      <th>40</th>\n",
       "      <td>The Miracle</td>\n",
       "      <td>Was It All Worth It</td>\n",
       "      <td>Queen</td>\n",
       "    </tr>\n",
       "    <tr>\n",
       "      <th>41</th>\n",
       "      <td>The Miracle</td>\n",
       "      <td>Party</td>\n",
       "      <td>Queen</td>\n",
       "    </tr>\n",
       "  </tbody>\n",
       "</table>\n",
       "</div>"
      ],
      "text/plain": [
       "                 album                                              title  \\\n",
       "0             Innuendo                                           Headlong   \n",
       "1             Innuendo                                   All God's People   \n",
       "2             Innuendo                                The Show Must Go On   \n",
       "3             Innuendo                                              Bijou   \n",
       "4             Innuendo                              I Can't Live With You   \n",
       "5             Innuendo                                         The Hitman   \n",
       "6             Innuendo                                           Innuendo   \n",
       "7             Innuendo                             I'm Going Slightly Mad   \n",
       "8             Innuendo                                 Ride the Wild Wind   \n",
       "9             Innuendo                                            Delilah   \n",
       "10            Innuendo                    These Are the Days of Our Lives   \n",
       "11            Innuendo                                  Don't Try So Hard   \n",
       "12     Innuendo Disk 2                 Headlong (embryo with guide vocal)   \n",
       "13     Innuendo Disk 2                   I'm Going Slightly Mad (mad_mix)   \n",
       "14     Innuendo Disk 2                          Lost Opportunity (B-Side)   \n",
       "15     Innuendo Disk 2        I Can't Live With You (1997 - Rocks retake)   \n",
       "16     Innuendo Disk 2  Ride the Wild Wind (early version with guide v...   \n",
       "17  Sheer Heart Attack                             In The Lap Of The Gods   \n",
       "18  Sheer Heart Attack               In The Lap Of The Gods ... Revisited   \n",
       "19  Sheer Heart Attack                                      Brighton Rock   \n",
       "20  Sheer Heart Attack           She Makes Me (Stormtrooper In Stilettos)   \n",
       "21  Sheer Heart Attack                                 Lily Of The Valley   \n",
       "22  Sheer Heart Attack                                   Tenement Funster   \n",
       "23  Sheer Heart Attack                                       Now I'm Here   \n",
       "24  Sheer Heart Attack                                       Killer Queen   \n",
       "25  Sheer Heart Attack                                       Dear Friends   \n",
       "26  Sheer Heart Attack                                 Flick Of The Wrist   \n",
       "27  Sheer Heart Attack                                   Stone Cold Crazy   \n",
       "28  Sheer Heart Attack                        Bring Back That Leroy Brown   \n",
       "29  Sheer Heart Attack                                            Misfire   \n",
       "30         The Miracle                                          Breakthru   \n",
       "31         The Miracle                                    My Baby Does Me   \n",
       "32         The Miracle                                  The Invisible Man   \n",
       "33         The Miracle                                   Hang On In There   \n",
       "34         The Miracle                                    Chinese Torture   \n",
       "35         The Miracle                                            Scandal   \n",
       "36         The Miracle                                        The Miracle   \n",
       "37         The Miracle                                      I Want It All   \n",
       "38         The Miracle                                     Rain Must Fall   \n",
       "39         The Miracle                                   Khashoggi's Ship   \n",
       "40         The Miracle                                Was It All Worth It   \n",
       "41         The Miracle                                              Party   \n",
       "\n",
       "     name  \n",
       "0   Queen  \n",
       "1   Queen  \n",
       "2   Queen  \n",
       "3   Queen  \n",
       "4   Queen  \n",
       "5   Queen  \n",
       "6   Queen  \n",
       "7   Queen  \n",
       "8   Queen  \n",
       "9   Queen  \n",
       "10  Queen  \n",
       "11  Queen  \n",
       "12  Queen  \n",
       "13  Queen  \n",
       "14  Queen  \n",
       "15  Queen  \n",
       "16  Queen  \n",
       "17  Queen  \n",
       "18  Queen  \n",
       "19  Queen  \n",
       "20  Queen  \n",
       "21  Queen  \n",
       "22  Queen  \n",
       "23  Queen  \n",
       "24  Queen  \n",
       "25  Queen  \n",
       "26  Queen  \n",
       "27  Queen  \n",
       "28  Queen  \n",
       "29  Queen  \n",
       "30  Queen  \n",
       "31  Queen  \n",
       "32  Queen  \n",
       "33  Queen  \n",
       "34  Queen  \n",
       "35  Queen  \n",
       "36  Queen  \n",
       "37  Queen  \n",
       "38  Queen  \n",
       "39  Queen  \n",
       "40  Queen  \n",
       "41  Queen  "
      ]
     },
     "execution_count": 191,
     "metadata": {},
     "output_type": "execute_result"
    }
   ],
   "source": [
    "print('Q6. Show all songs and the album information of each song by Queen,including song title, album name, and artist name.\\\n",
    "(note: Queen is an artist.)')\n",
    "dfq6"
   ]
  }
 ],
 "metadata": {
  "kernelspec": {
   "display_name": ".venv",
   "language": "python",
   "name": "python3"
  },
  "language_info": {
   "codemirror_mode": {
    "name": "ipython",
    "version": 3
   },
   "file_extension": ".py",
   "mimetype": "text/x-python",
   "name": "python",
   "nbconvert_exporter": "python",
   "pygments_lexer": "ipython3",
   "version": "3.11.2"
  }
 },
 "nbformat": 4,
 "nbformat_minor": 2
}
