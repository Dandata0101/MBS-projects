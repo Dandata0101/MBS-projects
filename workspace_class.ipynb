{
 "cells": [
  {
   "cell_type": "code",
   "execution_count": 20,
   "metadata": {},
   "outputs": [
    {
     "name": "stdout",
     "output_type": "stream",
     "text": [
      "<class 'int'>\n"
     ]
    }
   ],
   "source": [
    "#printing data types\n",
    "temp= 20\n",
    "print(type(temp))"
   ]
  },
  {
   "cell_type": "code",
   "execution_count": 21,
   "metadata": {},
   "outputs": [
    {
     "name": "stdout",
     "output_type": "stream",
     "text": [
      "dasdsa adasdsadada\n"
     ]
    }
   ],
   "source": [
    "#joining two strings\n",
    "import pandas as pd\n",
    "import requests\n",
    "\n",
    "str='dasdsa'\n",
    "str2='adasdsadada'\n",
    "\n",
    "combo=str + ' ' + str2\n",
    "\n",
    "print(combo)\n"
   ]
  },
  {
   "cell_type": "code",
   "execution_count": 22,
   "metadata": {},
   "outputs": [
    {
     "name": "stdout",
     "output_type": "stream",
     "text": [
      "<class 'str'>\n",
      " something\n"
     ]
    }
   ],
   "source": [
    "#input variable example\n",
    "num=input('input something')\n",
    "print(type(num))\n",
    "print(num,'something')\n"
   ]
  },
  {
   "cell_type": "code",
   "execution_count": 23,
   "metadata": {},
   "outputs": [
    {
     "name": "stdout",
     "output_type": "stream",
     "text": [
      "0 paris\n",
      "1 tokyo\n",
      "2 Los Angeles\n",
      "3 New York\n",
      "['tokyo', 'Los Angeles']\n"
     ]
    }
   ],
   "source": [
    "#list enumeration\n",
    "list=['paris','tokyo','Los Angeles','New York']\n",
    "for index, item in enumerate(list):\n",
    "    print(index, item)\n",
    "print(list[1:3])\n"
   ]
  },
  {
   "cell_type": "code",
   "execution_count": 24,
   "metadata": {},
   "outputs": [
    {
     "name": "stdout",
     "output_type": "stream",
     "text": [
      "5\n"
     ]
    }
   ],
   "source": [
    "#print position example\n",
    "num=[1,3,4,5,6,7]\n",
    "print(len(num)-1)"
   ]
  },
  {
   "cell_type": "code",
   "execution_count": 25,
   "metadata": {},
   "outputs": [],
   "source": [
    "#empty list and extend example\n",
    "l=[]\n",
    "l.extend([1,2,3,4,5])\n"
   ]
  },
  {
   "cell_type": "code",
   "execution_count": 26,
   "metadata": {},
   "outputs": [
    {
     "name": "stdout",
     "output_type": "stream",
     "text": [
      "28\n"
     ]
    }
   ],
   "source": [
    "#dictionary example~~~~~~~~~~~~~~~~~~~~~~\n",
    "user_profile = {\n",
    "    \"username\": \"john_doe_123\",\n",
    "    \"first_name\": \"John\",\n",
    "    \"last_name\": \"Doe\",\n",
    "    \"email\": \"john.doe@example.com\",\n",
    "    \"age\": 28,\n",
    "    \"country\": \"USA\",\n",
    "    \"city\": \"New York\",\n",
    "    \"address\": \"123 Main St\",\n",
    "    \"phone\": \"123-456-7890\",\n",
    "    \"gender\": \"Male\",\n",
    "    \"occupation\": \"Software Developer\",\n",
    "    \"company\": \"Tech Corp\",\n",
    "    \"website\": \"www.johndoe.com\",\n",
    "    \"joined\": \"2020-05-01\",\n",
    "    \"last_login\": \"2023-10-01\",\n",
    "    \"followers\": 4500,\n",
    "    \"following\": 328,\n",
    "    \"posts\": 120,\n",
    "    \"likes\": 15000,\n",
    "    \"profile_pic\": \"path/to/profile_pic.jpg\"\n",
    "}\n",
    "\n",
    "# Accessing a value by its key\n",
    "age=user_profile['age']\n",
    "followers=user_profile['followers']\n",
    "print(age)\n",
    "\n",
    "\n",
    "\n",
    "\n"
   ]
  },
  {
   "cell_type": "code",
   "execution_count": 27,
   "metadata": {},
   "outputs": [
    {
     "ename": "IndexError",
     "evalue": "string index out of range",
     "output_type": "error",
     "traceback": [
      "\u001b[0;31m---------------------------------------------------------------------------\u001b[0m",
      "\u001b[0;31mIndexError\u001b[0m                                Traceback (most recent call last)",
      "\u001b[1;32m/Users/danramirez/MBS/workspace_class.ipynb Cell 8\u001b[0m line \u001b[0;36m3\n\u001b[1;32m      <a href='vscode-notebook-cell:/Users/danramirez/MBS/workspace_class.ipynb#X10sZmlsZQ%3D%3D?line=0'>1</a>\u001b[0m \u001b[39m#basic if statement example 1\u001b[39;00m\n\u001b[1;32m      <a href='vscode-notebook-cell:/Users/danramirez/MBS/workspace_class.ipynb#X10sZmlsZQ%3D%3D?line=1'>2</a>\u001b[0m answer\u001b[39m=\u001b[39m\u001b[39minput\u001b[39m()\n\u001b[0;32m----> <a href='vscode-notebook-cell:/Users/danramirez/MBS/workspace_class.ipynb#X10sZmlsZQ%3D%3D?line=2'>3</a>\u001b[0m \u001b[39mif\u001b[39;00m answer[\u001b[39m0\u001b[39;49m]\u001b[39m>\u001b[39m\u001b[39m=\u001b[39m\u001b[39m'\u001b[39m\u001b[39mA\u001b[39m\u001b[39m'\u001b[39m \u001b[39mand\u001b[39;00m answer[\u001b[39m0\u001b[39m]\u001b[39m<\u001b[39m\u001b[39m=\u001b[39m\u001b[39m'\u001b[39m\u001b[39mZ\u001b[39m\u001b[39m'\u001b[39m:\n\u001b[1;32m      <a href='vscode-notebook-cell:/Users/danramirez/MBS/workspace_class.ipynb#X10sZmlsZQ%3D%3D?line=3'>4</a>\u001b[0m     \u001b[39mprint\u001b[39m(\u001b[39m'\u001b[39m\u001b[39muppercase\u001b[39m\u001b[39m'\u001b[39m)\n\u001b[1;32m      <a href='vscode-notebook-cell:/Users/danramirez/MBS/workspace_class.ipynb#X10sZmlsZQ%3D%3D?line=4'>5</a>\u001b[0m \u001b[39melse\u001b[39;00m:\n",
      "\u001b[0;31mIndexError\u001b[0m: string index out of range"
     ]
    }
   ],
   "source": [
    "#basic if statement example 1\n",
    "answer=input()\n",
    "if answer[0]>='A' and answer[0]<='Z':\n",
    "    print('uppercase')\n",
    "else:\n",
    "    print('lowercase')"
   ]
  },
  {
   "cell_type": "code",
   "execution_count": null,
   "metadata": {},
   "outputs": [
    {
     "name": "stdout",
     "output_type": "stream",
     "text": [
      "3\n",
      "free!!!!!!!!!!!!!!!!!!!!!!\n"
     ]
    }
   ],
   "source": [
    "#basic if statement example 2\n",
    "age=input('enter your age' )\n",
    "age=int(age)\n",
    "print(age)\n",
    "\n",
    "if age>=12 and age<=26:\n",
    "    print('youth advantage card')\n",
    "elif age>=27 and age<=59:\n",
    "    print('adult advantage card')\n",
    "elif age>=60:\n",
    "    print('Senior advantage card')\n",
    "else:\n",
    "    pass\n",
    "    print('free!!!!!!!!!!!!!!!!!!!!!!')\n",
    "\n",
    "\n",
    "\n",
    "\n"
   ]
  },
  {
   "cell_type": "code",
   "execution_count": null,
   "metadata": {},
   "outputs": [
    {
     "name": "stdout",
     "output_type": "stream",
     "text": [
      "paris\n",
      "london\n",
      "peking\n",
      "tokyo\n",
      "Vienna\n"
     ]
    }
   ],
   "source": [
    "country=['paris','london','peking','tokyo','Vienna']\n",
    "for c in country:\n",
    "    print(c)"
   ]
  },
  {
   "cell_type": "code",
   "execution_count": 29,
   "metadata": {},
   "outputs": [
    {
     "name": "stdout",
     "output_type": "stream",
     "text": [
      "0 paris\n",
      "1 london\n",
      "2 peking\n",
      "3 tokyo\n",
      "4 Vienna\n"
     ]
    }
   ],
   "source": [
    "country=['paris','london','peking','tokyo','Vienna']\n",
    "for index,element in enumerate(country):\n",
    "    print(index,element)"
   ]
  },
  {
   "cell_type": "code",
   "execution_count": 30,
   "metadata": {},
   "outputs": [
    {
     "name": "stdout",
     "output_type": "stream",
     "text": [
      "[0]\n",
      "[0, 1]\n",
      "[0, 1, 2]\n",
      "[0, 1, 2, 3]\n",
      "[0, 1, 2, 3, 4]\n"
     ]
    }
   ],
   "source": [
    "l=[]\n",
    "for i in range(5):\n",
    "    l.append(i)\n",
    "    print(l)"
   ]
  },
  {
   "cell_type": "code",
   "execution_count": 37,
   "metadata": {},
   "outputs": [
    {
     "name": "stdout",
     "output_type": "stream",
     "text": [
      "[3]\n",
      "[3, 5]\n",
      "[3, 5, 7]\n",
      "[3, 5, 7, 9]\n",
      "[3, 5, 7, 9, 11]\n",
      "[3, 5, 7, 9, 11, 13]\n",
      "[3, 5, 7, 9, 11, 13, 15]\n"
     ]
    }
   ],
   "source": [
    "l=[]\n",
    "for i in range(3,(17),2):\n",
    "    l.append(i)\n",
    "    print(l)"
   ]
  },
  {
   "cell_type": "code",
   "execution_count": 39,
   "metadata": {},
   "outputs": [
    {
     "name": "stdout",
     "output_type": "stream",
     "text": [
      "0 2\n",
      "0 3\n",
      "0 4\n",
      "0 5\n",
      "0 6\n",
      "1 2\n",
      "1 3\n",
      "1 4\n",
      "1 5\n",
      "1 6\n",
      "2 2\n",
      "2 3\n",
      "2 4\n",
      "2 5\n",
      "2 6\n",
      "3 2\n",
      "3 3\n",
      "3 4\n",
      "3 5\n",
      "3 6\n"
     ]
    }
   ],
   "source": [
    "l=[]\n",
    "for i in range(0,4):\n",
    "    for j in range(2,7):\n",
    "        print(i,j)"
   ]
  },
  {
   "cell_type": "code",
   "execution_count": 40,
   "metadata": {},
   "outputs": [
    {
     "name": "stdout",
     "output_type": "stream",
     "text": [
      "0\n",
      "1\n",
      "2\n",
      "3\n",
      "4\n",
      "5\n"
     ]
    }
   ],
   "source": [
    "l=[]\n",
    "num=int(6)\n",
    "for i in range(0,num,1):\n",
    "    print(i)"
   ]
  },
  {
   "cell_type": "code",
   "execution_count": 41,
   "metadata": {},
   "outputs": [
    {
     "name": "stdout",
     "output_type": "stream",
     "text": [
      "0\n",
      "1\n",
      "2\n",
      "3\n",
      "4\n",
      "5\n",
      "6\n"
     ]
    }
   ],
   "source": [
    "l=[]\n",
    "num=int(6)\n",
    "for i in range(0,num+1,1):\n",
    "    print(i)"
   ]
  },
  {
   "cell_type": "code",
   "execution_count": 42,
   "metadata": {},
   "outputs": [
    {
     "name": "stdout",
     "output_type": "stream",
     "text": [
      "0\n",
      "1\n",
      "2\n",
      "3\n",
      "4\n",
      "5\n"
     ]
    }
   ],
   "source": [
    "l=[]\n",
    "num=int(6)\n",
    "for i in range(num):\n",
    "    print(i)"
   ]
  },
  {
   "cell_type": "code",
   "execution_count": 43,
   "metadata": {},
   "outputs": [
    {
     "name": "stdout",
     "output_type": "stream",
     "text": [
      "0\n",
      "1\n",
      "2\n",
      "3\n",
      "4\n",
      "5\n",
      "6\n"
     ]
    }
   ],
   "source": [
    "l=[]\n",
    "num=int(6)\n",
    "for i in range(0,num+1):\n",
    "    print(i)"
   ]
  },
  {
   "cell_type": "code",
   "execution_count": 54,
   "metadata": {},
   "outputs": [
    {
     "name": "stdout",
     "output_type": "stream",
     "text": [
      "0\n",
      "1\n",
      "2\n",
      "3\n",
      "4\n",
      "5\n",
      "6\n"
     ]
    }
   ],
   "source": [
    "l=[]\n",
    "num=int(6)\n",
    "for i in range(0,num+1,1):\n",
    "    print(i)"
   ]
  },
  {
   "cell_type": "code",
   "execution_count": 45,
   "metadata": {},
   "outputs": [
    {
     "name": "stdout",
     "output_type": "stream",
     "text": [
      "1\n",
      "2\n",
      "3\n",
      "4\n",
      "5\n"
     ]
    }
   ],
   "source": [
    "l=[]\n",
    "num=int(6)\n",
    "for i in range(1,num):\n",
    "    print(i)"
   ]
  },
  {
   "cell_type": "code",
   "execution_count": 46,
   "metadata": {},
   "outputs": [
    {
     "name": "stdout",
     "output_type": "stream",
     "text": [
      "2\n",
      "3\n",
      "4\n",
      "5\n"
     ]
    }
   ],
   "source": [
    "l=[]\n",
    "num=int(6)\n",
    "for i in range(2,num,1):\n",
    "    print(i)"
   ]
  },
  {
   "cell_type": "code",
   "execution_count": 47,
   "metadata": {},
   "outputs": [
    {
     "name": "stdout",
     "output_type": "stream",
     "text": [
      "2\n",
      "3\n",
      "4\n",
      "5\n",
      "6\n"
     ]
    }
   ],
   "source": [
    "l=[]\n",
    "num=int(6)\n",
    "for i in range(2,num+1,1):\n",
    "    print(i)"
   ]
  },
  {
   "cell_type": "code",
   "execution_count": 48,
   "metadata": {},
   "outputs": [
    {
     "name": "stdout",
     "output_type": "stream",
     "text": [
      "2\n",
      "3\n",
      "4\n",
      "5\n"
     ]
    }
   ],
   "source": [
    "l=[]\n",
    "num=int(6)\n",
    "for i in range(2,num):\n",
    "    print(i)"
   ]
  },
  {
   "cell_type": "code",
   "execution_count": 56,
   "metadata": {},
   "outputs": [
    {
     "name": "stdout",
     "output_type": "stream",
     "text": [
      "2\n",
      "3\n",
      "4\n",
      "5\n",
      "6\n"
     ]
    }
   ],
   "source": [
    "l=[]\n",
    "num=int(6)\n",
    "for i in range(2,num+1):\n",
    "    print(i)"
   ]
  },
  {
   "cell_type": "code",
   "execution_count": 58,
   "metadata": {},
   "outputs": [
    {
     "name": "stdout",
     "output_type": "stream",
     "text": [
      "0\n",
      "1\n",
      "2\n",
      "3\n",
      "4\n",
      "5\n",
      "6\n"
     ]
    }
   ],
   "source": [
    "l=[]\n",
    "num=int(6)\n",
    "for i in range(num+1):\n",
    "    print(i)"
   ]
  },
  {
   "cell_type": "code",
   "execution_count": 60,
   "metadata": {},
   "outputs": [
    {
     "name": "stdout",
     "output_type": "stream",
     "text": [
      "0\n",
      "1\n",
      "2\n",
      "3\n",
      "4\n",
      "5\n"
     ]
    }
   ],
   "source": [
    "l=[]\n",
    "num=int(6)\n",
    "for i in range(0,num):\n",
    "    print(i)"
   ]
  },
  {
   "cell_type": "code",
   "execution_count": 62,
   "metadata": {},
   "outputs": [
    {
     "name": "stdout",
     "output_type": "stream",
     "text": [
      "6\n",
      "5\n",
      "4\n",
      "3\n",
      "2\n",
      "1\n"
     ]
    }
   ],
   "source": [
    "l=[]\n",
    "num=int(6)\n",
    "for i in range(num,0,-1):\n",
    "    print(i)"
   ]
  },
  {
   "cell_type": "code",
   "execution_count": 63,
   "metadata": {},
   "outputs": [
    {
     "name": "stdout",
     "output_type": "stream",
     "text": [
      "6\n",
      "5\n",
      "4\n",
      "3\n",
      "2\n"
     ]
    }
   ],
   "source": [
    "l=[]\n",
    "num=int(6)\n",
    "for i in range(num,1,-1):\n",
    "    print(i)"
   ]
  },
  {
   "cell_type": "code",
   "execution_count": 65,
   "metadata": {},
   "outputs": [],
   "source": [
    "l=[]\n",
    "num=int(6)\n",
    "for i in range(num,0):\n",
    "    print(i)"
   ]
  },
  {
   "cell_type": "code",
   "execution_count": 66,
   "metadata": {},
   "outputs": [
    {
     "name": "stdout",
     "output_type": "stream",
     "text": [
      "6\n",
      "5\n",
      "4\n",
      "3\n"
     ]
    }
   ],
   "source": [
    "l=[]\n",
    "num=int(6)\n",
    "for i in range(num,2,-1):\n",
    "    print(i)"
   ]
  },
  {
   "cell_type": "code",
   "execution_count": 67,
   "metadata": {},
   "outputs": [],
   "source": [
    "l=[]\n",
    "num=int(6)\n",
    "for i in range(num,2):\n",
    "    print(i)"
   ]
  },
  {
   "cell_type": "code",
   "execution_count": 68,
   "metadata": {},
   "outputs": [
    {
     "name": "stdout",
     "output_type": "stream",
     "text": [
      "7\n",
      "6\n",
      "5\n",
      "4\n",
      "3\n",
      "2\n",
      "1\n"
     ]
    }
   ],
   "source": [
    "l=[]\n",
    "num=int(6)\n",
    "for i in range(num+1,0,-1):\n",
    "    print(i)"
   ]
  },
  {
   "cell_type": "code",
   "execution_count": 69,
   "metadata": {},
   "outputs": [
    {
     "name": "stdout",
     "output_type": "stream",
     "text": [
      "6\n",
      "5\n",
      "4\n",
      "3\n"
     ]
    }
   ],
   "source": [
    "l=[]\n",
    "num=int(6)\n",
    "for i in range(num,2,-1):\n",
    "    print(i)"
   ]
  },
  {
   "cell_type": "code",
   "execution_count": 70,
   "metadata": {},
   "outputs": [],
   "source": [
    "l=[]\n",
    "num=int(6)\n",
    "for i in range(num+1,0):\n",
    "    print(i)"
   ]
  },
  {
   "cell_type": "code",
   "execution_count": 73,
   "metadata": {},
   "outputs": [],
   "source": [
    "l=[]\n",
    "num=int(6)\n",
    "for i in range(num+1,2,-1):\n",
    "    print(i)"
   ]
  },
  {
   "cell_type": "code",
   "execution_count": 86,
   "metadata": {},
   "outputs": [
    {
     "name": "stdout",
     "output_type": "stream",
     "text": [
      "1\n",
      "2\n",
      "6\n",
      "24\n"
     ]
    }
   ],
   "source": [
    "num=int(input('add a number'))\n",
    "\n",
    "result=1\n",
    "for i in range(result,num+1):\n",
    "    result=result*i\n",
    "    print(result)"
   ]
  },
  {
   "cell_type": "code",
   "execution_count": 95,
   "metadata": {},
   "outputs": [
    {
     "name": "stdout",
     "output_type": "stream",
     "text": [
      "4\n",
      "4\n"
     ]
    }
   ],
   "source": [
    "\n",
    "\n",
    "square= lambda x: x**2\n",
    "print(square(2))\n",
    "print(square(-2))\n"
   ]
  },
  {
   "cell_type": "code",
   "execution_count": 97,
   "metadata": {},
   "outputs": [
    {
     "name": "stdout",
     "output_type": "stream",
     "text": [
      "-8\n",
      "-8\n"
     ]
    }
   ],
   "source": [
    "cubic= lambda x: x**3\n",
    "print(cubic(-2))\n",
    "print(cubic(-2))"
   ]
  },
  {
   "cell_type": "code",
   "execution_count": 99,
   "metadata": {},
   "outputs": [
    {
     "name": "stdout",
     "output_type": "stream",
     "text": [
      "16\n",
      "64\n"
     ]
    }
   ],
   "source": [
    "exp= lambda x, b: x**b\n",
    "print(exp(4,2))\n",
    "print(exp(4,3))"
   ]
  },
  {
   "cell_type": "code",
   "execution_count": null,
   "metadata": {},
   "outputs": [],
   "source": []
  },
  {
   "cell_type": "code",
   "execution_count": 100,
   "metadata": {},
   "outputs": [
    {
     "name": "stdout",
     "output_type": "stream",
     "text": [
      "4\n",
      "1\n"
     ]
    }
   ],
   "source": [
    "eu_dist= lambda x, y: (x-y)**2\n",
    "print(eu_dist(4,2))\n",
    "print(eu_dist(4,3))"
   ]
  },
  {
   "cell_type": "code",
   "execution_count": 103,
   "metadata": {},
   "outputs": [
    {
     "name": "stdout",
     "output_type": "stream",
     "text": [
      "20\n"
     ]
    }
   ],
   "source": [
    "eu_dist= lambda x, y: (x[0]-y[0])**2+(x[1]-y[1])**2\n",
    "print(eu_dist([4,1],[2,5]))\n"
   ]
  },
  {
   "cell_type": "code",
   "execution_count": 104,
   "metadata": {},
   "outputs": [
    {
     "name": "stdout",
     "output_type": "stream",
     "text": [
      "mario jump..\n"
     ]
    }
   ],
   "source": [
    "def mario_jump():\n",
    "    print('mario jump..')\n",
    "mario_jump()"
   ]
  },
  {
   "cell_type": "code",
   "execution_count": 108,
   "metadata": {},
   "outputs": [
    {
     "name": "stdout",
     "output_type": "stream",
     "text": [
      "mario jump..\n",
      "mario jump..\n",
      "mario jump..\n",
      "mario jump..\n",
      "mario jump..\n"
     ]
    }
   ],
   "source": [
    "jump=int(input('how many jumps?'))\n",
    "def mario_jump(time):\n",
    "    for t in range(time):\n",
    "        print('mario jump..')\n",
    "mario_jump(jump)"
   ]
  },
  {
   "cell_type": "code",
   "execution_count": 113,
   "metadata": {},
   "outputs": [
    {
     "name": "stdout",
     "output_type": "stream",
     "text": [
      "5\n"
     ]
    }
   ],
   "source": [
    "def add(a,b):\n",
    "    result= a + b\n",
    "    return result\n",
    "\n",
    "x,y=2,3\n",
    "print(add(x,y))"
   ]
  },
  {
   "cell_type": "code",
   "execution_count": 116,
   "metadata": {},
   "outputs": [
    {
     "name": "stdout",
     "output_type": "stream",
     "text": [
      "password accepted\n"
     ]
    }
   ],
   "source": [
    "password=input('create a password 6 or more chars')\n",
    "\n",
    "if len(password) >= 6:\n",
    "    print('password accepted')\n",
    "else:\n",
    "    print('password not long enough') "
   ]
  },
  {
   "cell_type": "code",
   "execution_count": 121,
   "metadata": {},
   "outputs": [
    {
     "name": "stdout",
     "output_type": "stream",
     "text": [
      "please try again...\n"
     ]
    }
   ],
   "source": [
    "password = input('Create a password (6 or more chars): ')\n",
    "\n",
    "if len(password) >= 6:\n",
    "    if any(char.isupper() for char in password):\n",
    "        print('Password accepted')\n",
    "    else:\n",
    "        print('Password must contain at least one uppercase letter')\n",
    "else:\n",
    "    print('please try again...')\n"
   ]
  },
  {
   "cell_type": "code",
   "execution_count": null,
   "metadata": {},
   "outputs": [],
   "source": []
  },
  {
   "cell_type": "code",
   "execution_count": 132,
   "metadata": {},
   "outputs": [
    {
     "name": "stdout",
     "output_type": "stream",
     "text": [
      "True\n",
      "needs at least 6 chars\n"
     ]
    }
   ],
   "source": [
    "password = input('Create a password (6 or more chars): ')\n",
    "def check_password(string):\n",
    "    flag=False\n",
    "    for s in string:\n",
    "        if s.isupper():\n",
    "            flag=True\n",
    "            break\n",
    "    return flag\n",
    "check_password(password)\n",
    "\n",
    "letter=check_password(password)\n",
    "print(letter)\n",
    "\n",
    "if len(password) >= 6 and letter==True:\n",
    "     print('Password accepted')\n",
    "elif len(password) >= 6 and letter==False:\n",
    "    print('missing upper case char')\n",
    "elif len(password) < 6 and letter==True:\n",
    "    print('needs at least 6 chars')\n",
    "elif len(password) < 6 and letter==False:\n",
    "    print('needs at least 6 and upper case char')    "
   ]
  }
 ],
 "metadata": {
  "kernelspec": {
   "display_name": ".venv",
   "language": "python",
   "name": "python3"
  },
  "language_info": {
   "codemirror_mode": {
    "name": "ipython",
    "version": 3
   },
   "file_extension": ".py",
   "mimetype": "text/x-python",
   "name": "python",
   "nbconvert_exporter": "python",
   "pygments_lexer": "ipython3",
   "version": "3.11.2"
  }
 },
 "nbformat": 4,
 "nbformat_minor": 2
}
