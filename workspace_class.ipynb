{
 "cells": [
  {
   "cell_type": "code",
   "execution_count": 2,
   "metadata": {},
   "outputs": [
    {
     "name": "stdout",
     "output_type": "stream",
     "text": [
      "<class 'int'>\n"
     ]
    }
   ],
   "source": [
    "#printing data types\n",
    "temp= 20\n",
    "print(type(temp))"
   ]
  },
  {
   "cell_type": "code",
   "execution_count": 3,
   "metadata": {},
   "outputs": [
    {
     "name": "stdout",
     "output_type": "stream",
     "text": [
      "dasdsa adasdsadada\n"
     ]
    }
   ],
   "source": [
    "#joining two strings\n",
    "import pandas as pd\n",
    "import requests\n",
    "\n",
    "str='dasdsa'\n",
    "str2='adasdsadada'\n",
    "\n",
    "combo=str + ' ' + str2\n",
    "\n",
    "print(combo)\n"
   ]
  },
  {
   "cell_type": "code",
   "execution_count": 4,
   "metadata": {},
   "outputs": [
    {
     "ename": "KeyboardInterrupt",
     "evalue": "Interrupted by user",
     "output_type": "error",
     "traceback": [
      "\u001b[0;31m---------------------------------------------------------------------------\u001b[0m",
      "\u001b[0;31mKeyboardInterrupt\u001b[0m                         Traceback (most recent call last)",
      "\u001b[1;32m/Users/danramirez/MBS/workspace_class.ipynb Cell 3\u001b[0m line \u001b[0;36m2\n\u001b[1;32m      <a href='vscode-notebook-cell:/Users/danramirez/MBS/workspace_class.ipynb#W2sZmlsZQ%3D%3D?line=0'>1</a>\u001b[0m \u001b[39m#input variable example\u001b[39;00m\n\u001b[0;32m----> <a href='vscode-notebook-cell:/Users/danramirez/MBS/workspace_class.ipynb#W2sZmlsZQ%3D%3D?line=1'>2</a>\u001b[0m num\u001b[39m=\u001b[39m\u001b[39minput\u001b[39;49m(\u001b[39m'\u001b[39;49m\u001b[39minput something\u001b[39;49m\u001b[39m'\u001b[39;49m)\n\u001b[1;32m      <a href='vscode-notebook-cell:/Users/danramirez/MBS/workspace_class.ipynb#W2sZmlsZQ%3D%3D?line=2'>3</a>\u001b[0m \u001b[39mprint\u001b[39m(\u001b[39mtype\u001b[39m(num))\n\u001b[1;32m      <a href='vscode-notebook-cell:/Users/danramirez/MBS/workspace_class.ipynb#W2sZmlsZQ%3D%3D?line=3'>4</a>\u001b[0m \u001b[39mprint\u001b[39m(num,\u001b[39m'\u001b[39m\u001b[39msomething\u001b[39m\u001b[39m'\u001b[39m)\n",
      "File \u001b[0;32m~/MBS/.venv/lib/python3.11/site-packages/ipykernel/kernelbase.py:1202\u001b[0m, in \u001b[0;36mKernel.raw_input\u001b[0;34m(self, prompt)\u001b[0m\n\u001b[1;32m   1200\u001b[0m     msg \u001b[39m=\u001b[39m \u001b[39m\"\u001b[39m\u001b[39mraw_input was called, but this frontend does not support input requests.\u001b[39m\u001b[39m\"\u001b[39m\n\u001b[1;32m   1201\u001b[0m     \u001b[39mraise\u001b[39;00m StdinNotImplementedError(msg)\n\u001b[0;32m-> 1202\u001b[0m \u001b[39mreturn\u001b[39;00m \u001b[39mself\u001b[39;49m\u001b[39m.\u001b[39;49m_input_request(\n\u001b[1;32m   1203\u001b[0m     \u001b[39mstr\u001b[39;49m(prompt),\n\u001b[1;32m   1204\u001b[0m     \u001b[39mself\u001b[39;49m\u001b[39m.\u001b[39;49m_parent_ident[\u001b[39m\"\u001b[39;49m\u001b[39mshell\u001b[39;49m\u001b[39m\"\u001b[39;49m],\n\u001b[1;32m   1205\u001b[0m     \u001b[39mself\u001b[39;49m\u001b[39m.\u001b[39;49mget_parent(\u001b[39m\"\u001b[39;49m\u001b[39mshell\u001b[39;49m\u001b[39m\"\u001b[39;49m),\n\u001b[1;32m   1206\u001b[0m     password\u001b[39m=\u001b[39;49m\u001b[39mFalse\u001b[39;49;00m,\n\u001b[1;32m   1207\u001b[0m )\n",
      "File \u001b[0;32m~/MBS/.venv/lib/python3.11/site-packages/ipykernel/kernelbase.py:1245\u001b[0m, in \u001b[0;36mKernel._input_request\u001b[0;34m(self, prompt, ident, parent, password)\u001b[0m\n\u001b[1;32m   1242\u001b[0m \u001b[39mexcept\u001b[39;00m \u001b[39mKeyboardInterrupt\u001b[39;00m:\n\u001b[1;32m   1243\u001b[0m     \u001b[39m# re-raise KeyboardInterrupt, to truncate traceback\u001b[39;00m\n\u001b[1;32m   1244\u001b[0m     msg \u001b[39m=\u001b[39m \u001b[39m\"\u001b[39m\u001b[39mInterrupted by user\u001b[39m\u001b[39m\"\u001b[39m\n\u001b[0;32m-> 1245\u001b[0m     \u001b[39mraise\u001b[39;00m \u001b[39mKeyboardInterrupt\u001b[39;00m(msg) \u001b[39mfrom\u001b[39;00m \u001b[39mNone\u001b[39;00m\n\u001b[1;32m   1246\u001b[0m \u001b[39mexcept\u001b[39;00m \u001b[39mException\u001b[39;00m:\n\u001b[1;32m   1247\u001b[0m     \u001b[39mself\u001b[39m\u001b[39m.\u001b[39mlog\u001b[39m.\u001b[39mwarning(\u001b[39m\"\u001b[39m\u001b[39mInvalid Message:\u001b[39m\u001b[39m\"\u001b[39m, exc_info\u001b[39m=\u001b[39m\u001b[39mTrue\u001b[39;00m)\n",
      "\u001b[0;31mKeyboardInterrupt\u001b[0m: Interrupted by user"
     ]
    }
   ],
   "source": [
    "#input variable example\n",
    "num=input('input something')\n",
    "print(type(num))\n",
    "print(num,'something')\n"
   ]
  },
  {
   "cell_type": "code",
   "execution_count": null,
   "metadata": {},
   "outputs": [
    {
     "name": "stdout",
     "output_type": "stream",
     "text": [
      "0 paris\n",
      "1 tokyo\n",
      "2 Los Angeles\n",
      "3 New York\n",
      "['tokyo', 'Los Angeles']\n"
     ]
    }
   ],
   "source": [
    "#list enumeration\n",
    "list=['paris','tokyo','Los Angeles','New York']\n",
    "for index, item in enumerate(list):\n",
    "    print(index, item)\n",
    "print(list[1:3])\n"
   ]
  },
  {
   "cell_type": "code",
   "execution_count": null,
   "metadata": {},
   "outputs": [
    {
     "name": "stdout",
     "output_type": "stream",
     "text": [
      "5\n"
     ]
    }
   ],
   "source": [
    "#print position example\n",
    "num=[1,3,4,5,6,7]\n",
    "print(len(num)-1)"
   ]
  },
  {
   "cell_type": "code",
   "execution_count": null,
   "metadata": {},
   "outputs": [],
   "source": [
    "#empty list and extend example\n",
    "l=[]\n",
    "l.extend([1,2,3,4,5])\n"
   ]
  },
  {
   "cell_type": "code",
   "execution_count": null,
   "metadata": {},
   "outputs": [
    {
     "name": "stdout",
     "output_type": "stream",
     "text": [
      "28\n"
     ]
    }
   ],
   "source": [
    "#dictionary example~~~~~~~~~~~~~~~~~~~~~~\n",
    "user_profile = {\n",
    "    \"username\": \"john_doe_123\",\n",
    "    \"first_name\": \"John\",\n",
    "    \"last_name\": \"Doe\",\n",
    "    \"email\": \"john.doe@example.com\",\n",
    "    \"age\": 28,\n",
    "    \"country\": \"USA\",\n",
    "    \"city\": \"New York\",\n",
    "    \"address\": \"123 Main St\",\n",
    "    \"phone\": \"123-456-7890\",\n",
    "    \"gender\": \"Male\",\n",
    "    \"occupation\": \"Software Developer\",\n",
    "    \"company\": \"Tech Corp\",\n",
    "    \"website\": \"www.johndoe.com\",\n",
    "    \"joined\": \"2020-05-01\",\n",
    "    \"last_login\": \"2023-10-01\",\n",
    "    \"followers\": 4500,\n",
    "    \"following\": 328,\n",
    "    \"posts\": 120,\n",
    "    \"likes\": 15000,\n",
    "    \"profile_pic\": \"path/to/profile_pic.jpg\"\n",
    "}\n",
    "\n",
    "# Accessing a value by its key\n",
    "age=user_profile['age']\n",
    "followers=user_profile['followers']\n",
    "print(age)\n",
    "\n",
    "\n",
    "\n",
    "\n"
   ]
  },
  {
   "cell_type": "code",
   "execution_count": null,
   "metadata": {},
   "outputs": [
    {
     "name": "stdout",
     "output_type": "stream",
     "text": [
      "lowercase\n"
     ]
    }
   ],
   "source": [
    "#basic if statement example 1\n",
    "answer=input()\n",
    "if answer[0]>='A' and answer[0]<='Z':\n",
    "    print('uppercase')\n",
    "else:\n",
    "    print('lowercase')"
   ]
  },
  {
   "cell_type": "code",
   "execution_count": null,
   "metadata": {},
   "outputs": [
    {
     "name": "stdout",
     "output_type": "stream",
     "text": [
      "2\n",
      "free!!!!!!!!!!!!!!!!!!!!!!\n"
     ]
    }
   ],
   "source": [
    "#basic if statement example 2\n",
    "age=input('enter your age' )\n",
    "age=int(age)\n",
    "print(age)\n",
    "\n",
    "if age>=12 and age<=26:\n",
    "    print('youth advantage card')\n",
    "elif age>=27 and age<=59:\n",
    "    print('adult advantage card')\n",
    "elif age>=60:\n",
    "    print('Senior advantage card')\n",
    "else:\n",
    "    pass\n",
    "    print('free!!!!!!!!!!!!!!!!!!!!!!')\n",
    "\n",
    "\n",
    "\n",
    "\n"
   ]
  },
  {
   "cell_type": "code",
   "execution_count": null,
   "metadata": {},
   "outputs": [
    {
     "name": "stdout",
     "output_type": "stream",
     "text": [
      "paris\n",
      "london\n",
      "peking\n",
      "tokyo\n",
      "Vienna\n"
     ]
    }
   ],
   "source": [
    "country=['paris','london','peking','tokyo','Vienna']\n",
    "for c in country:\n",
    "    print(c)"
   ]
  },
  {
   "cell_type": "code",
   "execution_count": null,
   "metadata": {},
   "outputs": [
    {
     "name": "stdout",
     "output_type": "stream",
     "text": [
      "0 paris\n",
      "1 london\n",
      "2 peking\n",
      "3 tokyo\n",
      "4 Vienna\n"
     ]
    }
   ],
   "source": [
    "country=['paris','london','peking','tokyo','Vienna']\n",
    "for index,element in enumerate(country):\n",
    "    print(index,element)"
   ]
  },
  {
   "cell_type": "code",
   "execution_count": null,
   "metadata": {},
   "outputs": [
    {
     "name": "stdout",
     "output_type": "stream",
     "text": [
      "[0]\n",
      "[0, 1]\n",
      "[0, 1, 2]\n",
      "[0, 1, 2, 3]\n",
      "[0, 1, 2, 3, 4]\n"
     ]
    }
   ],
   "source": [
    "l=[]\n",
    "for i in range(5):\n",
    "    l.append(i)\n",
    "    print(l)"
   ]
  },
  {
   "cell_type": "code",
   "execution_count": null,
   "metadata": {},
   "outputs": [
    {
     "name": "stdout",
     "output_type": "stream",
     "text": [
      "[3]\n",
      "[3, 5]\n",
      "[3, 5, 7]\n",
      "[3, 5, 7, 9]\n",
      "[3, 5, 7, 9, 11]\n",
      "[3, 5, 7, 9, 11, 13]\n",
      "[3, 5, 7, 9, 11, 13, 15]\n"
     ]
    }
   ],
   "source": [
    "l=[]\n",
    "for i in range(3,(17),2):\n",
    "    l.append(i)\n",
    "    print(l)"
   ]
  },
  {
   "cell_type": "code",
   "execution_count": null,
   "metadata": {},
   "outputs": [
    {
     "name": "stdout",
     "output_type": "stream",
     "text": [
      "0 2\n",
      "0 3\n",
      "0 4\n",
      "0 5\n",
      "0 6\n",
      "1 2\n",
      "1 3\n",
      "1 4\n",
      "1 5\n",
      "1 6\n",
      "2 2\n",
      "2 3\n",
      "2 4\n",
      "2 5\n",
      "2 6\n",
      "3 2\n",
      "3 3\n",
      "3 4\n",
      "3 5\n",
      "3 6\n"
     ]
    }
   ],
   "source": [
    "l=[]\n",
    "for i in range(0,4):\n",
    "    for j in range(2,7):\n",
    "        print(i,j)"
   ]
  },
  {
   "cell_type": "code",
   "execution_count": null,
   "metadata": {},
   "outputs": [
    {
     "name": "stdout",
     "output_type": "stream",
     "text": [
      "0\n",
      "1\n",
      "2\n",
      "3\n",
      "4\n",
      "5\n"
     ]
    }
   ],
   "source": [
    "l=[]\n",
    "num=int(6)\n",
    "for i in range(0,num,1):\n",
    "    print(i)"
   ]
  },
  {
   "cell_type": "code",
   "execution_count": null,
   "metadata": {},
   "outputs": [
    {
     "name": "stdout",
     "output_type": "stream",
     "text": [
      "0\n",
      "1\n",
      "2\n",
      "3\n",
      "4\n",
      "5\n",
      "6\n"
     ]
    }
   ],
   "source": [
    "l=[]\n",
    "num=int(6)\n",
    "for i in range(0,num+1,1):\n",
    "    print(i)"
   ]
  },
  {
   "cell_type": "code",
   "execution_count": null,
   "metadata": {},
   "outputs": [
    {
     "name": "stdout",
     "output_type": "stream",
     "text": [
      "0\n",
      "1\n",
      "2\n",
      "3\n",
      "4\n",
      "5\n"
     ]
    }
   ],
   "source": [
    "l=[]\n",
    "num=int(6)\n",
    "for i in range(num):\n",
    "    print(i)"
   ]
  },
  {
   "cell_type": "code",
   "execution_count": null,
   "metadata": {},
   "outputs": [
    {
     "name": "stdout",
     "output_type": "stream",
     "text": [
      "0\n",
      "1\n",
      "2\n",
      "3\n",
      "4\n",
      "5\n",
      "6\n"
     ]
    }
   ],
   "source": [
    "l=[]\n",
    "num=int(6)\n",
    "for i in range(0,num+1):\n",
    "    print(i)"
   ]
  },
  {
   "cell_type": "code",
   "execution_count": null,
   "metadata": {},
   "outputs": [
    {
     "name": "stdout",
     "output_type": "stream",
     "text": [
      "0\n",
      "1\n",
      "2\n",
      "3\n",
      "4\n",
      "5\n",
      "6\n"
     ]
    }
   ],
   "source": [
    "l=[]\n",
    "num=int(6)\n",
    "for i in range(0,num+1,1):\n",
    "    print(i)"
   ]
  },
  {
   "cell_type": "code",
   "execution_count": null,
   "metadata": {},
   "outputs": [
    {
     "name": "stdout",
     "output_type": "stream",
     "text": [
      "1\n",
      "2\n",
      "3\n",
      "4\n",
      "5\n"
     ]
    }
   ],
   "source": [
    "l=[]\n",
    "num=int(6)\n",
    "for i in range(1,num):\n",
    "    print(i)"
   ]
  },
  {
   "cell_type": "code",
   "execution_count": null,
   "metadata": {},
   "outputs": [
    {
     "name": "stdout",
     "output_type": "stream",
     "text": [
      "2\n",
      "3\n",
      "4\n",
      "5\n"
     ]
    }
   ],
   "source": [
    "l=[]\n",
    "num=int(6)\n",
    "for i in range(2,num,1):\n",
    "    print(i)"
   ]
  },
  {
   "cell_type": "code",
   "execution_count": null,
   "metadata": {},
   "outputs": [
    {
     "name": "stdout",
     "output_type": "stream",
     "text": [
      "2\n",
      "3\n",
      "4\n",
      "5\n",
      "6\n"
     ]
    }
   ],
   "source": [
    "l=[]\n",
    "num=int(6)\n",
    "for i in range(2,num+1,1):\n",
    "    print(i)"
   ]
  },
  {
   "cell_type": "code",
   "execution_count": null,
   "metadata": {},
   "outputs": [
    {
     "name": "stdout",
     "output_type": "stream",
     "text": [
      "2\n",
      "3\n",
      "4\n",
      "5\n"
     ]
    }
   ],
   "source": [
    "l=[]\n",
    "num=int(6)\n",
    "for i in range(2,num):\n",
    "    print(i)"
   ]
  },
  {
   "cell_type": "code",
   "execution_count": null,
   "metadata": {},
   "outputs": [
    {
     "name": "stdout",
     "output_type": "stream",
     "text": [
      "2\n",
      "3\n",
      "4\n",
      "5\n",
      "6\n"
     ]
    }
   ],
   "source": [
    "l=[]\n",
    "num=int(6)\n",
    "for i in range(2,num+1):\n",
    "    print(i)"
   ]
  },
  {
   "cell_type": "code",
   "execution_count": null,
   "metadata": {},
   "outputs": [
    {
     "name": "stdout",
     "output_type": "stream",
     "text": [
      "0\n",
      "1\n",
      "2\n",
      "3\n",
      "4\n",
      "5\n",
      "6\n"
     ]
    }
   ],
   "source": [
    "l=[]\n",
    "num=int(6)\n",
    "for i in range(num+1):\n",
    "    print(i)"
   ]
  },
  {
   "cell_type": "code",
   "execution_count": null,
   "metadata": {},
   "outputs": [
    {
     "name": "stdout",
     "output_type": "stream",
     "text": [
      "0\n",
      "1\n",
      "2\n",
      "3\n",
      "4\n",
      "5\n"
     ]
    }
   ],
   "source": [
    "l=[]\n",
    "num=int(6)\n",
    "for i in range(0,num):\n",
    "    print(i)"
   ]
  },
  {
   "cell_type": "code",
   "execution_count": null,
   "metadata": {},
   "outputs": [
    {
     "name": "stdout",
     "output_type": "stream",
     "text": [
      "6\n",
      "5\n",
      "4\n",
      "3\n",
      "2\n",
      "1\n"
     ]
    }
   ],
   "source": [
    "l=[]\n",
    "num=int(6)\n",
    "for i in range(num,0,-1):\n",
    "    print(i)"
   ]
  },
  {
   "cell_type": "code",
   "execution_count": null,
   "metadata": {},
   "outputs": [
    {
     "name": "stdout",
     "output_type": "stream",
     "text": [
      "6\n",
      "5\n",
      "4\n",
      "3\n",
      "2\n"
     ]
    }
   ],
   "source": [
    "l=[]\n",
    "num=int(6)\n",
    "for i in range(num,1,-1):\n",
    "    print(i)"
   ]
  },
  {
   "cell_type": "code",
   "execution_count": null,
   "metadata": {},
   "outputs": [],
   "source": [
    "l=[]\n",
    "num=int(6)\n",
    "for i in range(num,0):\n",
    "    print(i)"
   ]
  },
  {
   "cell_type": "code",
   "execution_count": null,
   "metadata": {},
   "outputs": [
    {
     "name": "stdout",
     "output_type": "stream",
     "text": [
      "6\n",
      "5\n",
      "4\n",
      "3\n"
     ]
    }
   ],
   "source": [
    "l=[]\n",
    "num=int(6)\n",
    "for i in range(num,2,-1):\n",
    "    print(i)"
   ]
  },
  {
   "cell_type": "code",
   "execution_count": null,
   "metadata": {},
   "outputs": [],
   "source": [
    "l=[]\n",
    "num=int(6)\n",
    "for i in range(num,2):\n",
    "    print(i)"
   ]
  },
  {
   "cell_type": "code",
   "execution_count": null,
   "metadata": {},
   "outputs": [
    {
     "name": "stdout",
     "output_type": "stream",
     "text": [
      "7\n",
      "6\n",
      "5\n",
      "4\n",
      "3\n",
      "2\n",
      "1\n"
     ]
    }
   ],
   "source": [
    "l=[]\n",
    "num=int(6)\n",
    "for i in range(num+1,0,-1):\n",
    "    print(i)"
   ]
  },
  {
   "cell_type": "code",
   "execution_count": null,
   "metadata": {},
   "outputs": [
    {
     "name": "stdout",
     "output_type": "stream",
     "text": [
      "6\n",
      "5\n",
      "4\n",
      "3\n"
     ]
    }
   ],
   "source": [
    "l=[]\n",
    "num=int(6)\n",
    "for i in range(num,2,-1):\n",
    "    print(i)"
   ]
  },
  {
   "cell_type": "code",
   "execution_count": null,
   "metadata": {},
   "outputs": [],
   "source": [
    "l=[]\n",
    "num=int(6)\n",
    "for i in range(num+1,0):\n",
    "    print(i)"
   ]
  },
  {
   "cell_type": "code",
   "execution_count": null,
   "metadata": {},
   "outputs": [
    {
     "name": "stdout",
     "output_type": "stream",
     "text": [
      "7\n",
      "6\n",
      "5\n",
      "4\n",
      "3\n"
     ]
    }
   ],
   "source": [
    "l=[]\n",
    "num=int(6)\n",
    "for i in range(num+1,2,-1):\n",
    "    print(i)"
   ]
  },
  {
   "cell_type": "code",
   "execution_count": null,
   "metadata": {},
   "outputs": [
    {
     "ename": "ValueError",
     "evalue": "invalid literal for int() with base 10: ''",
     "output_type": "error",
     "traceback": [
      "\u001b[0;31m---------------------------------------------------------------------------\u001b[0m",
      "\u001b[0;31mValueError\u001b[0m                                Traceback (most recent call last)",
      "\u001b[1;32m/Users/danramirez/MBS/workspace_class.ipynb Cell 36\u001b[0m line \u001b[0;36m1\n\u001b[0;32m----> <a href='vscode-notebook-cell:/Users/danramirez/MBS/workspace_class.ipynb#X50sZmlsZQ%3D%3D?line=0'>1</a>\u001b[0m num\u001b[39m=\u001b[39m\u001b[39mint\u001b[39;49m(\u001b[39minput\u001b[39;49m(\u001b[39m'\u001b[39;49m\u001b[39madd a number\u001b[39;49m\u001b[39m'\u001b[39;49m))\n\u001b[1;32m      <a href='vscode-notebook-cell:/Users/danramirez/MBS/workspace_class.ipynb#X50sZmlsZQ%3D%3D?line=2'>3</a>\u001b[0m result\u001b[39m=\u001b[39m\u001b[39m1\u001b[39m\n\u001b[1;32m      <a href='vscode-notebook-cell:/Users/danramirez/MBS/workspace_class.ipynb#X50sZmlsZQ%3D%3D?line=3'>4</a>\u001b[0m \u001b[39mfor\u001b[39;00m i \u001b[39min\u001b[39;00m \u001b[39mrange\u001b[39m(result,num\u001b[39m+\u001b[39m\u001b[39m1\u001b[39m):\n",
      "\u001b[0;31mValueError\u001b[0m: invalid literal for int() with base 10: ''"
     ]
    }
   ],
   "source": [
    "num=int(input('add a number'))\n",
    "\n",
    "result=1\n",
    "for i in range(result,num+1):\n",
    "    result=result*i\n",
    "    print(result)"
   ]
  },
  {
   "cell_type": "code",
   "execution_count": null,
   "metadata": {},
   "outputs": [
    {
     "name": "stdout",
     "output_type": "stream",
     "text": [
      "4\n",
      "4\n"
     ]
    }
   ],
   "source": [
    "\n",
    "\n",
    "square= lambda x: x**2\n",
    "print(square(2))\n",
    "print(square(-2))\n"
   ]
  },
  {
   "cell_type": "code",
   "execution_count": null,
   "metadata": {},
   "outputs": [
    {
     "name": "stdout",
     "output_type": "stream",
     "text": [
      "-8\n",
      "-8\n"
     ]
    }
   ],
   "source": [
    "cubic= lambda x: x**3\n",
    "print(cubic(-2))\n",
    "print(cubic(-2))"
   ]
  },
  {
   "cell_type": "code",
   "execution_count": null,
   "metadata": {},
   "outputs": [
    {
     "name": "stdout",
     "output_type": "stream",
     "text": [
      "16\n",
      "64\n"
     ]
    }
   ],
   "source": [
    "exp= lambda x, b: x**b\n",
    "print(exp(4,2))\n",
    "print(exp(4,3))"
   ]
  },
  {
   "cell_type": "code",
   "execution_count": null,
   "metadata": {},
   "outputs": [],
   "source": []
  },
  {
   "cell_type": "code",
   "execution_count": null,
   "metadata": {},
   "outputs": [
    {
     "name": "stdout",
     "output_type": "stream",
     "text": [
      "4\n",
      "1\n"
     ]
    }
   ],
   "source": [
    "eu_dist= lambda x, y: (x-y)**2\n",
    "print(eu_dist(4,2))\n",
    "print(eu_dist(4,3))"
   ]
  },
  {
   "cell_type": "code",
   "execution_count": null,
   "metadata": {},
   "outputs": [
    {
     "name": "stdout",
     "output_type": "stream",
     "text": [
      "20\n"
     ]
    }
   ],
   "source": [
    "eu_dist= lambda x, y: (x[0]-y[0])**2+(x[1]-y[1])**2\n",
    "print(eu_dist([4,1],[2,5]))\n"
   ]
  },
  {
   "cell_type": "code",
   "execution_count": null,
   "metadata": {},
   "outputs": [
    {
     "name": "stdout",
     "output_type": "stream",
     "text": [
      "mario jump..\n"
     ]
    }
   ],
   "source": [
    "def mario_jump():\n",
    "    print('mario jump..')\n",
    "mario_jump()"
   ]
  },
  {
   "cell_type": "code",
   "execution_count": null,
   "metadata": {},
   "outputs": [
    {
     "name": "stdout",
     "output_type": "stream",
     "text": [
      "mario jump..\n",
      "mario jump..\n",
      "mario jump..\n",
      "mario jump..\n",
      "mario jump..\n"
     ]
    }
   ],
   "source": [
    "jump=int(input('how many jumps?'))\n",
    "def mario_jump(time):\n",
    "    for t in range(time):\n",
    "        print('mario jump..')\n",
    "mario_jump(jump)"
   ]
  },
  {
   "cell_type": "code",
   "execution_count": null,
   "metadata": {},
   "outputs": [
    {
     "name": "stdout",
     "output_type": "stream",
     "text": [
      "5\n"
     ]
    }
   ],
   "source": [
    "def add(a,b):\n",
    "    result= a + b\n",
    "    return result\n",
    "\n",
    "x,y=2,3\n",
    "print(add(x,y))"
   ]
  },
  {
   "cell_type": "code",
   "execution_count": null,
   "metadata": {},
   "outputs": [
    {
     "name": "stdout",
     "output_type": "stream",
     "text": [
      "password accepted\n"
     ]
    }
   ],
   "source": [
    "password=input('create a password 6 or more chars')\n",
    "\n",
    "if len(password) >= 6:\n",
    "    print('password accepted')\n",
    "else:\n",
    "    print('password not long enough') "
   ]
  },
  {
   "cell_type": "code",
   "execution_count": null,
   "metadata": {},
   "outputs": [
    {
     "name": "stdout",
     "output_type": "stream",
     "text": [
      "please try again...\n"
     ]
    }
   ],
   "source": [
    "password = input('Create a password (6 or more chars): ')\n",
    "\n",
    "if len(password) >= 6:\n",
    "    if any(char.isupper() for char in password):\n",
    "        print('Password accepted')\n",
    "    else:\n",
    "        print('Password must contain at least one uppercase letter')\n",
    "else:\n",
    "    print('please try again...')\n"
   ]
  },
  {
   "cell_type": "code",
   "execution_count": null,
   "metadata": {},
   "outputs": [],
   "source": []
  },
  {
   "cell_type": "code",
   "execution_count": null,
   "metadata": {},
   "outputs": [
    {
     "name": "stdout",
     "output_type": "stream",
     "text": [
      "True\n",
      "Password accepted\n"
     ]
    }
   ],
   "source": [
    "password = input('Create a password (6 or more chars): ')\n",
    "def check_password(string):\n",
    "    flag=False\n",
    "    for s in string:\n",
    "        if s.isupper():\n",
    "            flag=True\n",
    "            break\n",
    "    return flag\n",
    "check_password(password)\n",
    "\n",
    "letter=check_password(password)\n",
    "print(letter)\n",
    "\n",
    "if len(password) >= 6 and letter==True:\n",
    "     print('Password accepted')\n",
    "elif len(password) >= 6 and letter==False:\n",
    "    print('missing upper case char')\n",
    "elif len(password) < 6 and letter==True:\n",
    "    print('needs at least 6 chars')\n",
    "elif len(password) < 6 and letter==False:\n",
    "    print('needs at least 6 and upper case char')    "
   ]
  },
  {
   "cell_type": "code",
   "execution_count": null,
   "metadata": {},
   "outputs": [
    {
     "name": "stdout",
     "output_type": "stream",
     "text": [
      "mon\n",
      "tue\n",
      "wed\n",
      "thu\n",
      "fri\n",
      "sat\n",
      "sun\n"
     ]
    }
   ],
   "source": [
    "week=['mon','tue','wed','thu','fri','sat','sun']\n",
    "for d in range(len(week)):\n",
    "    print(week[d])"
   ]
  },
  {
   "cell_type": "code",
   "execution_count": null,
   "metadata": {},
   "outputs": [],
   "source": []
  },
  {
   "cell_type": "code",
   "execution_count": null,
   "metadata": {},
   "outputs": [],
   "source": [
    "seq='ACBc'\n",
    "def check(seq):\n",
    "    count=0\n",
    "    for i in range(len(seq)):\n",
    "        if seq[i] >='A' and seq[i] <='Z':\n",
    "            count=1\n",
    "            return count\n",
    "    return count"
   ]
  },
  {
   "cell_type": "code",
   "execution_count": null,
   "metadata": {},
   "outputs": [],
   "source": [
    "seq='ACBc'\n",
    "def check(seq):\n",
    "    count=0\n",
    "    for i in range(len(seq)):\n",
    "        if seq[i] >='A' and seq[i] <='Z':\n",
    "            count=1\n",
    "            return count\n",
    "        else:\n",
    "            pass\n",
    "    return count"
   ]
  },
  {
   "cell_type": "code",
   "execution_count": null,
   "metadata": {},
   "outputs": [],
   "source": []
  },
  {
   "cell_type": "code",
   "execution_count": null,
   "metadata": {},
   "outputs": [
    {
     "name": "stdout",
     "output_type": "stream",
     "text": [
      "mean: 149.954\n",
      "Variance: 21.025904000000008\n"
     ]
    }
   ],
   "source": [
    "L = [155.49, 155.0, 148.56, 146.92, 143.80]\n",
    "def calc_mean(seq):\n",
    "    total = 0\n",
    "    for element in seq:\n",
    "        total += element\n",
    "    \n",
    "    # Calculate the mean\n",
    "    mean = total / len(seq)\n",
    "\n",
    "\n",
    "    return mean\n",
    "\n",
    "# Call the function with the list L\n",
    "result = calc_mean(L)\n",
    "print(\"mean:\", result)\n",
    "\n",
    "def calc_var(seq):\n",
    "    total = 0\n",
    "    for element in seq:\n",
    "        total += element\n",
    "    \n",
    "    # Calculate the mean\n",
    "    mean = total / len(seq)\n",
    "\n",
    "    # Calculate the variance\n",
    "    variance = (sum((element - mean) ** 2 for element in seq)) / len(seq)\n",
    "    return variance\n",
    "\n",
    "# Call the function with the list L\n",
    "result = calc_var(L)\n",
    "print(\"Variance:\", result)\n"
   ]
  },
  {
   "cell_type": "code",
   "execution_count": null,
   "metadata": {},
   "outputs": [
    {
     "name": "stdout",
     "output_type": "stream",
     "text": [
      "0    23.3\n",
      "1    22.8\n",
      "2    25.0\n",
      "3    24.2\n",
      "Name: temp, dtype: float64\n",
      "#~~~~~~~~~~~~~~~~~~~~~~~~~~~~~~~\n",
      "Mean: 23.825\n",
      "var: 0.9491666666666658\n",
      "mean from fx: 23.825\n",
      "variance from fx: 0.7118749999999994\n",
      "#~~~~~~~~~~~~~~~~~~~~~~~~~~~~~~~\n"
     ]
    }
   ],
   "source": [
    "# Libraries used\n",
    "import os\n",
    "import sys\n",
    "import pandas as pd\n",
    "\n",
    "# Paths and directory\n",
    "current_directory = os.getcwd()\n",
    "file = os.path.join(current_directory, \"01-data/weather\", \"weather.txt\")\n",
    "copy = os.path.join(current_directory, \"01-data/weather\", \"weather_copy.txt\")\n",
    "\n",
    "df = pd.read_csv(file)\n",
    "column_names=['city','temp']\n",
    "df.columns = column_names\n",
    "\n",
    "# Access the 'temp' column and store it in a list\n",
    "temp_list = df['temp']\n",
    "print(temp_list)\n",
    "\n",
    "mean_temp = df['temp'].mean()\n",
    "var_temp=df['temp'].var()\n",
    "\n",
    "\n",
    "print('#~~~~~~~~~~~~~~~~~~~~~~~~~~~~~~~')\n",
    "print('Mean:',mean_temp)\n",
    "print('var:',var_temp)\n",
    "print('mean from fx:', calc_mean(temp_list))\n",
    "print('variance from fx:', calc_var(temp_list))\n",
    "print('#~~~~~~~~~~~~~~~~~~~~~~~~~~~~~~~')\n",
    "\n",
    "df.to_csv(copy, index=False)\n",
    "\n"
   ]
  },
  {
   "cell_type": "code",
   "execution_count": null,
   "metadata": {},
   "outputs": [],
   "source": []
  },
  {
   "cell_type": "code",
   "execution_count": null,
   "metadata": {},
   "outputs": [
    {
     "name": "stdout",
     "output_type": "stream",
     "text": [
      "/Users/danramirez/MBS/workspace_class.ipynb\n"
     ]
    }
   ],
   "source": [
    "import os\n",
    "\n",
    "root = os.getcwd()\n",
    "files = [f for f in os.listdir(root) if f.endswith('.ipynb')]\n",
    "\n",
    "for f in files:\n",
    "    full_path = os.path.join(root, f)\n",
    "    print(full_path)\n"
   ]
  },
  {
   "cell_type": "code",
   "execution_count": null,
   "metadata": {},
   "outputs": [],
   "source": [
    "import random\n",
    "\n",
    "num= int('input a number between 0  and 100')\n",
    "while num > 100: \n",
    "    num= int('input a number between 0  and 100')\n",
    "randint=random.randint\n"
   ]
  },
  {
   "cell_type": "code",
   "execution_count": null,
   "metadata": {},
   "outputs": [],
   "source": []
  },
  {
   "cell_type": "code",
   "execution_count": null,
   "metadata": {},
   "outputs": [
    {
     "name": "stdout",
     "output_type": "stream",
     "text": [
      "22\n",
      "Guess a number between 0 and 50\n",
      "The number you guessed is too low\n",
      "The number you guessed is too low\n",
      "Bingo! You guessed the correct number.\n"
     ]
    }
   ],
   "source": [
    "import random\n",
    "\n",
    "max_num = 50\n",
    "code = random.randint(0, max_num)\n",
    "print(code)\n",
    "\n",
    "guess = 0\n",
    "\n",
    "print('Guess a number between 0 and 50')\n",
    "while guess != code:\n",
    "    guess = int(input('What is your guess?'))\n",
    "    if guess < code:\n",
    "        print('The number you guessed is too low')\n",
    "    elif guess > code:\n",
    "        print('The number you guessed is too high')\n",
    "    else:\n",
    "        print('Bingo! You guessed the correct number.')\n"
   ]
  },
  {
   "cell_type": "code",
   "execution_count": null,
   "metadata": {},
   "outputs": [
    {
     "data": {
      "text/plain": [
       "ticker\n",
       "AAPL    153.445022\n",
       "GOOG    118.653742\n",
       "META    247.863966\n",
       "MSFT    279.771100\n",
       "NVDA    228.888209\n",
       "PFE      44.116310\n",
       "PG      144.671433\n",
       "SHEL     50.968987\n",
       "TSLA    247.738862\n",
       "TTE      53.150029\n",
       "WMT     142.987757\n",
       "Name: Close, dtype: float64"
      ]
     },
     "execution_count": 123,
     "metadata": {},
     "output_type": "execute_result"
    }
   ],
   "source": [
    "# Libraries used\n",
    "import os\n",
    "import sys\n",
    "import pandas as pd\n",
    "\n",
    "# Paths and directory\n",
    "current_directory = os.getcwd()\n",
    "file = os.path.join(current_directory, \"01-data/DOW30\", \"Stocks_2021_2023.xlsx\")\n",
    "#copy = os.path.join(current_directory, \"01-data/DOW30\", \"Dow30_2020.xlsx\")\n",
    "\n",
    "df = pd.read_excel(file)\n",
    "#df.loc[(df['High']>=50) & (df['High']<=100)]\n",
    "df_group=df.groupby('ticker').mean(df['Close'])\n",
    "df_group\n",
    "#df.loc[(df['ticker']=='AAPL') | (df['ticker']=='TSLA')]"
   ]
  },
  {
   "cell_type": "code",
   "execution_count": null,
   "metadata": {},
   "outputs": [],
   "source": []
  },
  {
   "cell_type": "code",
   "execution_count": 4,
   "metadata": {},
   "outputs": [
    {
     "name": "stdout",
     "output_type": "stream",
     "text": [
      "status        No Cars Available  Trip Completed\n",
      "Request_hour                                   \n",
      "0                            56              40\n",
      "1                            56              25\n",
      "2                            57              37\n",
      "3                            56              34\n",
      "4                            74              78\n",
      "5                            84             185\n",
      "6                            86             167\n",
      "7                            63             174\n",
      "8                            90             155\n",
      "9                            83             173\n",
      "10                           65             116\n",
      "11                           41             115\n",
      "12                           44             121\n",
      "13                           53              89\n",
      "14                           37              88\n",
      "15                           48             102\n",
      "16                           46              91\n",
      "17                          232             151\n",
      "18                          322             164\n",
      "19                          283             166\n",
      "20                          290             161\n",
      "21                          265             142\n",
      "22                          138             154\n",
      "23                           81             103\n",
      "~~~~~~~~~~~~~~~~~\n",
      "~~~~~~~~~~~~~~~~~\n",
      "status     No Cars Available  Trip Completed\n",
      "Weekday                                     \n",
      "Friday                   580             561\n",
      "Monday                   504             601\n",
      "Thursday                 571             529\n",
      "Tuesday                  505             562\n",
      "Wednesday                490             577\n",
      "~~~~~~~~~~~~~~~~~\n",
      "~~~~~~~~~~~~~~~~~\n",
      "status   No Cars Available  Trip Completed\n",
      "Pickup                                    \n",
      "Airport                191             331\n",
      "City                   359             338\n",
      "status     No Cars Available  Trip Completed\n",
      "Weekday                                     \n",
      "Friday                5455.0          5566.0\n",
      "Monday                  52.0           172.0\n",
      "Thursday              4102.0          4206.5\n",
      "Tuesday               1415.0          1523.0\n",
      "Wednesday             2741.0          2898.0\n",
      "~~~~~~~~~~~~~~~~~\n",
      "~~~~~~~~~~~~~~~~~\n"
     ]
    }
   ],
   "source": [
    "import os\n",
    "import sys\n",
    "import pandas as pd\n",
    "\n",
    "# Paths and directory\n",
    "current_directory = os.getcwd()\n",
    "file = os.path.join(current_directory, \"01-data/uber\", \"Uber_supply_demand.xlsx\")\n",
    "#copy = os.path.join(current_directory, \"01-data/DOW30\", \"Dow30_2020.xlsx\")\n",
    "\n",
    "df = pd.read_excel(file)\n",
    "df.head()\n",
    "\n",
    "filtered_df = df.loc[(df['status']!='Cancelled')]\n",
    "filtered_hrs = df.loc[((df['Request_hour'] <= 6) | (df['Request_hour'] >= 23)) & (df['status'] != 'Cancelled')]\n",
    "filtered_pick = df.loc[((df['Request_hour'] <= 6) | (df['Request_hour'] >= 23)) & (df['status'] != 'Cancelled') & (df['Pickup'] != 'City')]\n",
    "pivot_table_hr = filtered_df.pivot_table(index='Request_hour', columns='status', values='Request_id', aggfunc='count')\n",
    "print(pivot_table_hr)\n",
    "print(\"~~~~~~~~~~~~~~~~~\")\n",
    "print(\"~~~~~~~~~~~~~~~~~\")\n",
    "pivot_table_day = filtered_df.pivot_table(index='Weekday', columns='status', values='Request_id', aggfunc='count')\n",
    "print(pivot_table_day)\n",
    "print(\"~~~~~~~~~~~~~~~~~\")\n",
    "print(\"~~~~~~~~~~~~~~~~~\")\n",
    "pivot_table_pickup = filtered_hrs.pivot_table(index='Pickup', columns='status', values='Request_id', aggfunc='count')\n",
    "print(pivot_table_pickup)\n",
    "\n",
    "pivot_table_pickup = filtered_pick.pivot_table(index='Weekday', columns='status', values='Request_id', aggfunc='median')\n",
    "print(pivot_table_pickup)\n",
    "print(\"~~~~~~~~~~~~~~~~~\")\n",
    "print(\"~~~~~~~~~~~~~~~~~\")\n",
    "\n",
    "#df.loc[(df['ticker']=='AAPL') | (df['ticker']=='TSLA')]\n"
   ]
  },
  {
   "cell_type": "code",
   "execution_count": 7,
   "metadata": {},
   "outputs": [
    {
     "data": {
      "text/html": [
       "<div>\n",
       "<style scoped>\n",
       "    .dataframe tbody tr th:only-of-type {\n",
       "        vertical-align: middle;\n",
       "    }\n",
       "\n",
       "    .dataframe tbody tr th {\n",
       "        vertical-align: top;\n",
       "    }\n",
       "\n",
       "    .dataframe thead th {\n",
       "        text-align: right;\n",
       "    }\n",
       "</style>\n",
       "<table border=\"1\" class=\"dataframe\">\n",
       "  <thead>\n",
       "    <tr style=\"text-align: right;\">\n",
       "      <th></th>\n",
       "      <th>carrier_id</th>\n",
       "      <th>name</th>\n",
       "      <th>flight_no</th>\n",
       "      <th>actual_time</th>\n",
       "      <th>departsate</th>\n",
       "      <th>arrivalstate</th>\n",
       "      <th>Cancelled</th>\n",
       "      <th>Arrival delay count</th>\n",
       "      <th>Departure delay count</th>\n",
       "      <th>Count of Flight</th>\n",
       "    </tr>\n",
       "  </thead>\n",
       "  <tbody>\n",
       "    <tr>\n",
       "      <th>0</th>\n",
       "      <td>WN</td>\n",
       "      <td>Southwest Airlines Co.</td>\n",
       "      <td>2865</td>\n",
       "      <td>325.0</td>\n",
       "      <td>New York</td>\n",
       "      <td>Nebraska</td>\n",
       "      <td>0</td>\n",
       "      <td>1</td>\n",
       "      <td>1</td>\n",
       "      <td>1</td>\n",
       "    </tr>\n",
       "    <tr>\n",
       "      <th>1</th>\n",
       "      <td>WN</td>\n",
       "      <td>Southwest Airlines Co.</td>\n",
       "      <td>1793</td>\n",
       "      <td>323.0</td>\n",
       "      <td>New York</td>\n",
       "      <td>Nebraska</td>\n",
       "      <td>0</td>\n",
       "      <td>1</td>\n",
       "      <td>1</td>\n",
       "      <td>1</td>\n",
       "    </tr>\n",
       "    <tr>\n",
       "      <th>2</th>\n",
       "      <td>HP</td>\n",
       "      <td>America West Airlines Inc. (Merged with US Air...</td>\n",
       "      <td>439</td>\n",
       "      <td>289.0</td>\n",
       "      <td>New York</td>\n",
       "      <td>Nebraska</td>\n",
       "      <td>0</td>\n",
       "      <td>1</td>\n",
       "      <td>1</td>\n",
       "      <td>1</td>\n",
       "    </tr>\n",
       "    <tr>\n",
       "      <th>3</th>\n",
       "      <td>HP</td>\n",
       "      <td>America West Airlines Inc. (Merged with US Air...</td>\n",
       "      <td>844</td>\n",
       "      <td>288.0</td>\n",
       "      <td>New York</td>\n",
       "      <td>Arizona</td>\n",
       "      <td>0</td>\n",
       "      <td>1</td>\n",
       "      <td>1</td>\n",
       "      <td>1</td>\n",
       "    </tr>\n",
       "    <tr>\n",
       "      <th>4</th>\n",
       "      <td>HP</td>\n",
       "      <td>America West Airlines Inc. (Merged with US Air...</td>\n",
       "      <td>842</td>\n",
       "      <td>285.0</td>\n",
       "      <td>New York</td>\n",
       "      <td>Arizona</td>\n",
       "      <td>0</td>\n",
       "      <td>1</td>\n",
       "      <td>1</td>\n",
       "      <td>1</td>\n",
       "    </tr>\n",
       "    <tr>\n",
       "      <th>...</th>\n",
       "      <td>...</td>\n",
       "      <td>...</td>\n",
       "      <td>...</td>\n",
       "      <td>...</td>\n",
       "      <td>...</td>\n",
       "      <td>...</td>\n",
       "      <td>...</td>\n",
       "      <td>...</td>\n",
       "      <td>...</td>\n",
       "      <td>...</td>\n",
       "    </tr>\n",
       "    <tr>\n",
       "      <th>458</th>\n",
       "      <td>US</td>\n",
       "      <td>US Airways Inc.</td>\n",
       "      <td>1299</td>\n",
       "      <td>43.0</td>\n",
       "      <td>New York</td>\n",
       "      <td>North Carolina</td>\n",
       "      <td>0</td>\n",
       "      <td>1</td>\n",
       "      <td>1</td>\n",
       "      <td>1</td>\n",
       "    </tr>\n",
       "    <tr>\n",
       "      <th>459</th>\n",
       "      <td>US</td>\n",
       "      <td>US Airways Inc.</td>\n",
       "      <td>1452</td>\n",
       "      <td>43.0</td>\n",
       "      <td>New York</td>\n",
       "      <td>North Carolina</td>\n",
       "      <td>0</td>\n",
       "      <td>1</td>\n",
       "      <td>1</td>\n",
       "      <td>1</td>\n",
       "    </tr>\n",
       "    <tr>\n",
       "      <th>460</th>\n",
       "      <td>US</td>\n",
       "      <td>US Airways Inc.</td>\n",
       "      <td>1047</td>\n",
       "      <td>41.0</td>\n",
       "      <td>New York</td>\n",
       "      <td>North Carolina</td>\n",
       "      <td>0</td>\n",
       "      <td>1</td>\n",
       "      <td>1</td>\n",
       "      <td>1</td>\n",
       "    </tr>\n",
       "    <tr>\n",
       "      <th>461</th>\n",
       "      <td>AA</td>\n",
       "      <td>American Airlines Inc.</td>\n",
       "      <td>1511</td>\n",
       "      <td>NaN</td>\n",
       "      <td>New York</td>\n",
       "      <td>Tennessee</td>\n",
       "      <td>0</td>\n",
       "      <td>0</td>\n",
       "      <td>1</td>\n",
       "      <td>1</td>\n",
       "    </tr>\n",
       "    <tr>\n",
       "      <th>462</th>\n",
       "      <td>US</td>\n",
       "      <td>US Airways Inc.</td>\n",
       "      <td>1119</td>\n",
       "      <td>NaN</td>\n",
       "      <td>New York</td>\n",
       "      <td>Oregon</td>\n",
       "      <td>0</td>\n",
       "      <td>0</td>\n",
       "      <td>1</td>\n",
       "      <td>1</td>\n",
       "    </tr>\n",
       "  </tbody>\n",
       "</table>\n",
       "<p>463 rows × 10 columns</p>\n",
       "</div>"
      ],
      "text/plain": [
       "    carrier_id                                               name  flight_no  \\\n",
       "0           WN                             Southwest Airlines Co.       2865   \n",
       "1           WN                             Southwest Airlines Co.       1793   \n",
       "2           HP  America West Airlines Inc. (Merged with US Air...        439   \n",
       "3           HP  America West Airlines Inc. (Merged with US Air...        844   \n",
       "4           HP  America West Airlines Inc. (Merged with US Air...        842   \n",
       "..         ...                                                ...        ...   \n",
       "458         US                                    US Airways Inc.       1299   \n",
       "459         US                                    US Airways Inc.       1452   \n",
       "460         US                                    US Airways Inc.       1047   \n",
       "461         AA                             American Airlines Inc.       1511   \n",
       "462         US                                    US Airways Inc.       1119   \n",
       "\n",
       "     actual_time departsate    arrivalstate  Cancelled  Arrival delay count  \\\n",
       "0          325.0   New York        Nebraska          0                    1   \n",
       "1          323.0   New York        Nebraska          0                    1   \n",
       "2          289.0   New York        Nebraska          0                    1   \n",
       "3          288.0   New York         Arizona          0                    1   \n",
       "4          285.0   New York         Arizona          0                    1   \n",
       "..           ...        ...             ...        ...                  ...   \n",
       "458         43.0   New York  North Carolina          0                    1   \n",
       "459         43.0   New York  North Carolina          0                    1   \n",
       "460         41.0   New York  North Carolina          0                    1   \n",
       "461          NaN   New York       Tennessee          0                    0   \n",
       "462          NaN   New York          Oregon          0                    0   \n",
       "\n",
       "     Departure delay count  Count of Flight  \n",
       "0                        1                1  \n",
       "1                        1                1  \n",
       "2                        1                1  \n",
       "3                        1                1  \n",
       "4                        1                1  \n",
       "..                     ...              ...  \n",
       "458                      1                1  \n",
       "459                      1                1  \n",
       "460                      1                1  \n",
       "461                      1                1  \n",
       "462                      1                1  \n",
       "\n",
       "[463 rows x 10 columns]"
      ]
     },
     "execution_count": 7,
     "metadata": {},
     "output_type": "execute_result"
    }
   ],
   "source": [
    "import os\n",
    "import sys\n",
    "import pandas as pd\n",
    "import sqlite3\n",
    "\n",
    "\n",
    "# Paths and directory\n",
    "current_directory = os.getcwd()\n",
    "file = os.path.join(current_directory, \"01-data/flightdata\", \"flight.db\")\n",
    "conn = sqlite3.connect(file)\n",
    "\n",
    "query =  \"\"\"\n",
    "\n",
    "    SELECT\n",
    "        a.carrier_id,\n",
    "        b.name,\n",
    "\t\ta.flight_no,\n",
    "\t\ta.actual_time,\n",
    "         d.state as [departsate],\n",
    "\t\t c.state as [arrivalstate],\n",
    "        SUM(a.cancelled) as [Cancelled],\n",
    "        COUNT(a.arrival_delay) as [Arrival delay count],\n",
    "        COUNT(a.departure_delay) as [Departure delay count],\n",
    "        COUNT(a.fid) as [Count of Flight]\n",
    "    FROM flights a\n",
    "    LEFT JOIN carriers b ON a.carrier_id = b.cid\n",
    "    LEFT JOIN airports c ON a.arrival_aid = c.aid\n",
    "    LEFT JOIN airports d ON a.departure_aid = d.aid\n",
    "\t\n",
    "    WHERE  a.cancelled = 0 and a.month_id=7  and a.day_of_month=1  and d.state='New York'\n",
    "\n",
    "\tgroup by        \n",
    "    \ta.carrier_id,\n",
    "        b.name,\n",
    "\t\ta.flight_no,\n",
    "\t\t d.state,\n",
    "\t\t c.state\n",
    "\t\t \n",
    "    ORDER BY a.actual_time DESC\n",
    "     \"\"\"\n",
    "\n",
    "df = pd.read_sql_query(query, conn)\n",
    "\n",
    "# Close the connection\n",
    "conn.close()\n",
    "\n",
    "\n",
    "df"
   ]
  }
 ],
 "metadata": {
  "kernelspec": {
   "display_name": ".venv",
   "language": "python",
   "name": "python3"
  },
  "language_info": {
   "codemirror_mode": {
    "name": "ipython",
    "version": 3
   },
   "file_extension": ".py",
   "mimetype": "text/x-python",
   "name": "python",
   "nbconvert_exporter": "python",
   "pygments_lexer": "ipython3",
   "version": "3.11.2"
  }
 },
 "nbformat": 4,
 "nbformat_minor": 2
}
