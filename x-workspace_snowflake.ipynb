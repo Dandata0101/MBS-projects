{
 "cells": [
  {
   "cell_type": "code",
   "execution_count": 39,
   "metadata": {},
   "outputs": [
    {
     "name": "stdout",
     "output_type": "stream",
     "text": [
      "\u001b[H\u001b[2J/Users/danramirez/MBS\n",
      "edlastp-nq46411\n",
      "ID                object\n",
      "GENDER            object\n",
      "ETHNICITY         object\n",
      "EDUCATION         object\n",
      "PARENT            object\n",
      "                   ...  \n",
      "Y_BUMO_BRAND07     int64\n",
      "Y_BUMO_BRAND09     int64\n",
      "Y_BUMO_BRANDX      int64\n",
      "BUMO              object\n",
      "CLUSTER            int64\n",
      "Length: 75, dtype: object\n"
     ]
    }
   ],
   "source": [
    "from snowflake.snowpark import Session\n",
    "import snowflake.connector\n",
    "import logging\n",
    "import requests\n",
    "import json\n",
    "import configparser\n",
    "import sys, os\n",
    "import warnings\n",
    "import base64\n",
    "import glob\n",
    "import pandas as pd\n",
    "\n",
    "\n",
    "\n",
    "\n",
    "sys.path.append(os.path.realpath('..'))\n",
    "warnings.filterwarnings(\"ignore\")\n",
    "os.system('cls' if os.name == 'nt' else 'clear')\n",
    "masterdir = os.getcwd()\n",
    "print(masterdir)\n",
    "\n",
    "import configparser\n",
    "config = configparser.ConfigParser()\n",
    "config.read(masterdir+'/03-configfiles/pw-config.ini')\n",
    "\n",
    "acct= config.get('snowflake','acct')\n",
    "user=config.get('snowflake','user')\n",
    "pwd=config.get('snowflake','password')\n",
    "role=config.get('snowflake','role')\n",
    "wh=config.get('snowflake','warehouse')\n",
    "db=config.get('snowflake','database')\n",
    "sch=config.get('snowflake','schema')\n",
    "\n",
    "print(acct)\n",
    "\n",
    "try:\n",
    "# Configure a connection\n",
    "    conn = snowflake.connector.connect(\n",
    "        user=user,\n",
    "        password=pwd,\n",
    "        account=acct,\n",
    "        warehouse=wh,\n",
    "        database=db,\n",
    "        schema=sch\n",
    "    )\n",
    "\n",
    "    # Create a cursor object\n",
    "    cur = conn.cursor()\n",
    "    cur.execute(\"SELECT * FROM surveydata\")\n",
    "    # Fetch all the results\n",
    "    results = cur.fetchall()\n",
    "\n",
    "    # Convert results into a DataFrame\n",
    "    # Assuming `cur.description` contains the column names\n",
    "    column_names = [col[0] for col in cur.description]\n",
    "    df = pd.DataFrame(results, columns=column_names)\n",
    "\n",
    "    # Display the DataFrame\n",
    "    print(df.dtypes)\n",
    " \n",
    "\n",
    "\n",
    "except Exception as e:\n",
    "    print(f\"Error connecting to Snowflake: {e}\")\n"
   ]
  }
 ],
 "metadata": {
  "kernelspec": {
   "display_name": ".venv",
   "language": "python",
   "name": "python3"
  },
  "language_info": {
   "codemirror_mode": {
    "name": "ipython",
    "version": 3
   },
   "file_extension": ".py",
   "mimetype": "text/x-python",
   "name": "python",
   "nbconvert_exporter": "python",
   "pygments_lexer": "ipython3",
   "version": "3.11.2"
  }
 },
 "nbformat": 4,
 "nbformat_minor": 2
}
