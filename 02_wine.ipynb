{
 "cells": [
  {
   "cell_type": "code",
   "execution_count": 1,
   "metadata": {},
   "outputs": [
    {
     "name": "stdout",
     "output_type": "stream",
     "text": [
      "Table: Grape\n",
      "   cid     name     type  notnull dflt_value  pk\n",
      "0    0       id  INTEGER        0       None   1\n",
      "1    1  variety     TEXT        0       None   0\n",
      "\n",
      "Table: Winery\n",
      "   cid      name     type  notnull dflt_value  pk\n",
      "0    0        id  INTEGER        0       None   1\n",
      "1    1   country     TEXT        0       None   0\n",
      "2    2  province     TEXT        0       None   0\n",
      "3    3    winery     TEXT        0       None   0\n",
      "\n",
      "Table: Rater\n",
      "   cid            name     type  notnull dflt_value  pk\n",
      "0    0              id  INTEGER        0       None   1\n",
      "1    1            name     TEXT        0       None   0\n",
      "2    2  twitter_handle     TEXT        0       None   0\n",
      "\n",
      "Table: Wine\n",
      "   cid         name     type  notnull dflt_value  pk\n",
      "0    0           id  INTEGER        0       None   1\n",
      "1    1       points  INTEGER        0       None   0\n",
      "2    2        title     TEXT        0       None   0\n",
      "3    3  description     TEXT        0       None   0\n",
      "4    4        price  INTEGER        0       None   0\n",
      "5    5  designation     TEXT        0       None   0\n",
      "6    6         year  INTEGER        0       None   0\n",
      "7    7          gid  INTEGER        0       None   0\n",
      "8    8          wid     REAL        0       None   0\n",
      "9    9          rid  INTEGER        0       None   0\n",
      "\n"
     ]
    }
   ],
   "source": [
    "import os\n",
    "import sys\n",
    "import pandas as pd\n",
    "import sqlite3\n",
    "import my_packages.Sql_table_details\n",
    "\n",
    "# Paths and directory\n",
    "current_directory = os.getcwd()\n",
    "fifa = os.path.join(current_directory, \"01-data/wine\", \"wine.db\")\n",
    "\n",
    "# function that checks table details\n",
    "my_packages.Sql_table_details.display_table_details(fifa)\n",
    "\n",
    "#my_packages.Sql_table_details.read_table_from_db(fifa,'Requests')\n"
   ]
  }
 ],
 "metadata": {
  "kernelspec": {
   "display_name": ".venv",
   "language": "python",
   "name": "python3"
  },
  "language_info": {
   "codemirror_mode": {
    "name": "ipython",
    "version": 3
   },
   "file_extension": ".py",
   "mimetype": "text/x-python",
   "name": "python",
   "nbconvert_exporter": "python",
   "pygments_lexer": "ipython3",
   "version": "3.11.2"
  }
 },
 "nbformat": 4,
 "nbformat_minor": 2
}
