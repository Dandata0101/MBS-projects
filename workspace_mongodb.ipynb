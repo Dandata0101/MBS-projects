{
 "cells": [
  {
   "cell_type": "code",
   "execution_count": 48,
   "metadata": {},
   "outputs": [
    {
     "name": "stdout",
     "output_type": "stream",
     "text": [
      "    borough           cuisine  count        avg  min  max\n",
      "0  Brooklyn          Japanese      9  15.888889    7   27\n",
      "1    Queens          Japanese     44  12.068182    2   36\n",
      "2  Brooklyn  Chinese/Japanese      5  10.800000    5   23\n",
      "CSV output completed\n"
     ]
    }
   ],
   "source": [
    "import os\n",
    "import configparser\n",
    "import pymongo\n",
    "import pandas as pd\n",
    "import warnings\n",
    "\n",
    "# To ignore all warnings\n",
    "warnings.filterwarnings(\"ignore\")\n",
    "\n",
    "# Paths and directory\n",
    "current_directory = os.getcwd()\n",
    "config = configparser.ConfigParser()\n",
    "\n",
    "config_file_path = os.path.join(current_directory, '03-configfiles', 'pw-config.ini')\n",
    "config.read(config_file_path)\n",
    "\n",
    "# Get the MongoDB connection string from the config file\n",
    "mongo_client = config.get('mongo', 'connectiondb')\n",
    "mongo_collection = config.get('mongo', 'collectionmongo')\n",
    "mongo_db = config.get('mongo', 'dbmonog')\n",
    "\n",
    "# Establish connection to MongoDB\n",
    "client = pymongo.MongoClient(mongo_client)\n",
    "\n",
    "# Select the database and collection\n",
    "db = client[mongo_db]  \n",
    "collection = db[mongo_collection]  \n",
    "\n",
    "# Define the aggregation pipeline\n",
    "pipeline = [\n",
    "    {\"$unwind\": \"$grades\"},\n",
    "    {\n",
    "        \"$match\": {\n",
    "            \"$and\": [\n",
    "                {\"cuisine\": {\"$regex\": \"Japan\"}},\n",
    "                {\"borough\": {\"$in\": [\"Queens\", \"Brooklyn\"]}}\n",
    "            ]\n",
    "        }\n",
    "    },\n",
    "    {\"$group\": {\n",
    "        \"_id\": {\"cuisine\": \"$cuisine\", \"borough\": \"$borough\"},\n",
    "        \"avg\": {\"$avg\": \"$grades.score\"},\n",
    "        \"count\": {\"$sum\": 1},\n",
    "        \"min\": {\"$min\": \"$grades.score\"},\n",
    "        \"max\": {\"$max\": \"$grades.score\"}\n",
    "    }},\n",
    "    {\"$project\": {\n",
    "        \"_id\": 0,\n",
    "        \"borough\": \"$_id.borough\",\n",
    "        \"cuisine\": \"$_id.cuisine\",\n",
    "        \"avg\": 1,\n",
    "        \"count\": 1,\n",
    "        \"min\": 1,\n",
    "        \"max\": 1\n",
    "    }},\n",
    "    {\"$sort\": {\"avg\": -1}}  # Sorting by 'avg' field in descending order\n",
    "]\n",
    "\n",
    "# Query data from MongoDB using the defined pipeline\n",
    "data = list(collection.aggregate(pipeline))  # Convert the MongoDB cursor to a list\n",
    "\n",
    "# Create a DataFrame\n",
    "df = pd.DataFrame(data)\n",
    "df = df[['borough', 'cuisine', 'count', 'avg', 'min', 'max']]\n",
    "\n",
    "print(df)\n",
    "\n",
    "# Save the filtered data to a CSV file\n",
    "csv_file_path = os.path.join(current_directory, '01-data', 'mongo', 'data_from_mongodb_filtered_BK.csv')\n",
    "try:\n",
    "    df.to_csv(csv_file_path, index=False)\n",
    "    print('CSV output completed')\n",
    "except Exception as e:\n",
    "    print(f\"Error saving CSV file: {e}\")\n"
   ]
  }
 ],
 "metadata": {
  "kernelspec": {
   "display_name": ".venv",
   "language": "python",
   "name": "python3"
  },
  "language_info": {
   "codemirror_mode": {
    "name": "ipython",
    "version": 3
   },
   "file_extension": ".py",
   "mimetype": "text/x-python",
   "name": "python",
   "nbconvert_exporter": "python",
   "pygments_lexer": "ipython3",
   "version": "3.11.2"
  }
 },
 "nbformat": 4,
 "nbformat_minor": 2
}
