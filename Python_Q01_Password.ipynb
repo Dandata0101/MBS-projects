{
 "cells": [
  {
   "cell_type": "markdown",
   "metadata": {},
   "source": [
    "## 1A \n",
    "If the password is recognized as secure if and only if it satisfies both the following\n",
    "requirements,\n",
    "1. at least 9 characters, and\n",
    "2. at least 1 uppercase letter."
   ]
  },
  {
   "cell_type": "code",
   "execution_count": 2,
   "metadata": {},
   "outputs": [
    {
     "name": "stdout",
     "output_type": "stream",
     "text": [
      "True\n",
      "Password accepted\n"
     ]
    }
   ],
   "source": [
    "password = input('Create a password (9 or more chars): ')\n",
    "def check_password(string):\n",
    "    flag=False\n",
    "    for s in string:\n",
    "        if s.isupper():\n",
    "            flag=True\n",
    "            break\n",
    "    return flag\n",
    "check_password(password)\n",
    "\n",
    "letter=check_password(password)\n",
    "print(letter)\n",
    "\n",
    "if len(password) >= 9 and letter==True:\n",
    "     print('Password accepted')\n",
    "elif len(password) >= 9 and letter==False:\n",
    "    print('missing upper case char')\n",
    "elif len(password) < 9 and letter==True:\n",
    "    print('needs at least 9 chars')\n",
    "elif len(password) < 9 and letter==False:\n",
    "    print('needs at least 9 and upper case char')  "
   ]
  },
  {
   "cell_type": "markdown",
   "metadata": {},
   "source": [
    "## 1B\n",
    "Continue with (A), the security level of a password can be enhanced by increasing the\n",
    "requirements of a password. Please write a Python code to implement an advanced password\n",
    "checker that verifies the password satisfies all the following requirements,\n",
    "1. at least 9 characters,\n",
    "2. at least one uppercase letter, and\n",
    "3. at least one lowercase letter."
   ]
  }
 ],
 "metadata": {
  "kernelspec": {
   "display_name": ".venv",
   "language": "python",
   "name": "python3"
  },
  "language_info": {
   "codemirror_mode": {
    "name": "ipython",
    "version": 3
   },
   "file_extension": ".py",
   "mimetype": "text/x-python",
   "name": "python",
   "nbconvert_exporter": "python",
   "pygments_lexer": "ipython3",
   "version": "3.11.2"
  }
 },
 "nbformat": 4,
 "nbformat_minor": 2
}
