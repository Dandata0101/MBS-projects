{
 "cells": [
  {
   "cell_type": "markdown",
   "metadata": {},
   "source": [
    "## MongoDB examples"
   ]
  },
  {
   "cell_type": "code",
   "execution_count": 8,
   "metadata": {},
   "outputs": [
    {
     "name": "stdout",
     "output_type": "stream",
     "text": [
      "/Users/danramirez/MBS/03-configfiles/pw-config.ini\n",
      "                        _id  \\\n",
      "0  630c7ea2c3d7d7262208ef9d   \n",
      "\n",
      "                                             address   borough    cuisine  \\\n",
      "0  {'building': '195', 'coord': [-73.9246028, 40....  Brooklyn  Caribbean   \n",
      "\n",
      "                                              grades  \\\n",
      "0  [{'date': 2014-05-13 00:00:00, 'grade': 'A', '...   \n",
      "\n",
      "                        name restaurant_id  \n",
      "0  Shashemene Int'L Restaura      40362869  \n"
     ]
    }
   ],
   "source": [
    "import os\n",
    "import configparser\n",
    "import pymongo\n",
    "import pandas as pd\n",
    "\n",
    "# Paths and directory\n",
    "current_directory = os.getcwd()\n",
    "config = configparser.ConfigParser()\n",
    "\n",
    "config_file_path = os.path.join(current_directory, '03-configfiles', 'pw-config.ini')\n",
    "print(config_file_path)\n",
    "config.read(config_file_path)\n",
    "\n",
    "# Get the MongoDB connection string from the config file\n",
    "mongo_client = config.get('mongo', 'connectiondb')\n",
    "mongo_collection = config.get('mongo', 'collectionmongo')\n",
    "mongo_db = config.get('mongo', 'dbmonog')\n",
    "\n",
    "# Establish connection to MongoDB\n",
    "client = pymongo.MongoClient(mongo_client)\n",
    "\n",
    "# Select the database and collection\n",
    "db = client[mongo_db]  \n",
    "collection = db[mongo_collection]  \n",
    "\n",
    "# Query data from MongoDB with a filter for restaurant_id=40362869\n",
    "data = collection.find({'restaurant_id': '40362869'})\n",
    "\n",
    "# Convert MongoDB documents to a list of dictionaries\n",
    "data_list = list(data)  # Directly convert the cursor to a list\n",
    "\n",
    "# Create a DataFrame\n",
    "df = pd.DataFrame(data_list)\n",
    "\n",
    "print(df)\n",
    "\n",
    "# Save the filtered data to a CSV file\n",
    "df.to_csv(current_directory+'/01-data/mongo/data_from_mongodb_filtered.csv', index=False)"
   ]
  }
 ],
 "metadata": {
  "kernelspec": {
   "display_name": ".venv",
   "language": "python",
   "name": "python3"
  },
  "language_info": {
   "codemirror_mode": {
    "name": "ipython",
    "version": 3
   },
   "file_extension": ".py",
   "mimetype": "text/x-python",
   "name": "python",
   "nbconvert_exporter": "python",
   "pygments_lexer": "ipython3",
   "version": "3.11.2"
  }
 },
 "nbformat": 4,
 "nbformat_minor": 2
}
