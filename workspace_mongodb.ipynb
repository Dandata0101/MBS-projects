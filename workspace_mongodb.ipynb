{
 "cells": [
  {
   "cell_type": "code",
   "execution_count": null,
   "metadata": {},
   "outputs": [],
   "source": [
    "import os\n",
    "import configparser\n",
    "import pymongo\n",
    "import pandas as pd\n",
    "\n",
    "# Paths and directory\n",
    "current_directory = os.getcwd()\n",
    "config = configparser.ConfigParser()\n",
    "\n",
    "config_file_path = os.path.join(current_directory, '03-configfiles', 'pw-config.ini')\n",
    "config.read(config_file_path)\n",
    "\n",
    "# Get the MongoDB connection string from the config file\n",
    "mongo_client = config.get('mongo', 'connectiondb')\n",
    "mongo_collection = config.get('mongo', 'collectionmongo')\n",
    "mongo_db = config.get('mongo', 'dbmonog')\n",
    "\n",
    "# Establish connection to MongoDB\n",
    "client = pymongo.MongoClient(mongo_client)\n",
    "\n",
    "# Select the database and collection\n",
    "db = client[mongo_db]  \n",
    "collection = db[mongo_collection]  # Replace 'your_collection_name' with your actual collection name\n",
    "\n",
    "# Query data from MongoDB\n",
    "data = collection.find({})\n",
    "\n",
    "# Convert MongoDB documents to a list of dictionaries\n",
    "data_list = list(data)  # Directly convert the cursor to a list\n",
    "\n",
    "# Create a DataFrame\n",
    "df = pd.DataFrame(data_list)\n",
    "\n",
    "df\n",
    "\n",
    "df.to_csv(current_directory+'/01-data/mongo/data_from_mongodb.csv', index=False)\n"
   ]
  }
 ],
 "metadata": {
  "language_info": {
   "name": "python"
  }
 },
 "nbformat": 4,
 "nbformat_minor": 2
}
