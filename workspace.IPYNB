{
 "cells": [
  {
   "cell_type": "code",
   "execution_count": 6,
   "metadata": {},
   "outputs": [
    {
     "name": "stdout",
     "output_type": "stream",
     "text": [
      "          ~~~~~~~~~~MBS Python for Business~~~~~~~~~~~~~~~~\n",
      "!!!!!!!!!!!!!!!!!!!!!!!!!!!!!!!!!!!!!!!!!!!!!!!!!!!!!!!!!!!!!!!!!!!!!!!!!!!\n"
     ]
    },
    {
     "data": {
      "text/html": [
       "<img src=\"https://media1.giphy.com/media/sNb8SrD0x0BO/giphy.gif?cid=2f4d86c76xjg0vj53rjn0f8bcpejqx3rgaa50vik945mhp8w&ep=v1_gifs_search&rid=giphy.gif&ct=g\"/>"
      ],
      "text/plain": [
       "<IPython.core.display.Image object>"
      ]
     },
     "metadata": {},
     "output_type": "display_data"
    }
   ],
   "source": [
    "import requests\n",
    "import random\n",
    "from IPython.display import Image, display\n",
    "print('          ~~~~~~~~~~MBS Python for Business~~~~~~~~~~~~~~~~')\n",
    "print('!!!!!!!!!!!!!!!!!!!!!!!!!!!!!!!!!!!!!!!!!!!!!!!!!!!!!!!!!!!!!!!!!!!!!!!!!!!')\n",
    "\n",
    "GIPHY_API_KEY = 'CcUdCmsZQT1jTKPP56JLP9hLW09KY4iw'  # Replace with your GIPHY API key\n",
    "qimage=\"xmen\"\n",
    "\n",
    "def get_random_office_gif_url(api_key):\n",
    "    base_url = \"https://api.giphy.com/v1/gifs/search\"\n",
    "    \n",
    "    # Search for The Office gifs\n",
    "    params = {\n",
    "        \"api_key\": api_key,\n",
    "            \"q\":qimage,\n",
    "        \"limit\": 100  # You can adjust this limit\n",
    "    }\n",
    "    \n",
    "    response = requests.get(base_url, params=params)\n",
    "    response.raise_for_status()\n",
    "    \n",
    "    gifs = response.json()[\"data\"]\n",
    "    \n",
    "    if not gifs:\n",
    "        print(\"No GIFs found.\")\n",
    "        return\n",
    "    \n",
    "    # Randomly select a gif\n",
    "    random_gif = random.choice(gifs)\n",
    "    \n",
    "    return random_gif[\"images\"][\"original\"][\"url\"]\n",
    "\n",
    "def display_gif_in_notebook(url):\n",
    "    img = Image(url=url)\n",
    "    display(img)\n",
    "\n",
    "# Fetch and display gif\n",
    "gif_url = get_random_office_gif_url(GIPHY_API_KEY)\n",
    "if gif_url:\n",
    "    display_gif_in_notebook(gif_url)\n"
   ]
  }
 ],
 "metadata": {
  "kernelspec": {
   "display_name": ".venv",
   "language": "python",
   "name": "python3"
  },
  "language_info": {
   "codemirror_mode": {
    "name": "ipython",
    "version": 3
   },
   "file_extension": ".py",
   "mimetype": "text/x-python",
   "name": "python",
   "nbconvert_exporter": "python",
   "pygments_lexer": "ipython3",
   "version": "3.11.2"
  }
 },
 "nbformat": 4,
 "nbformat_minor": 2
}
