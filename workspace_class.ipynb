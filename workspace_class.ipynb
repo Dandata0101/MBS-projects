{
 "cells": [
  {
   "cell_type": "code",
   "execution_count": 2,
   "metadata": {},
   "outputs": [
    {
     "name": "stdout",
     "output_type": "stream",
     "text": [
      "<class 'int'>\n"
     ]
    }
   ],
   "source": [
    "#printing data types\n",
    "temp= 20\n",
    "print(type(temp))"
   ]
  },
  {
   "cell_type": "code",
   "execution_count": 1,
   "metadata": {},
   "outputs": [
    {
     "name": "stdout",
     "output_type": "stream",
     "text": [
      "dasdsa adasdsadada\n"
     ]
    }
   ],
   "source": [
    "#joining two strings\n",
    "import pandas as pd\n",
    "import requests\n",
    "\n",
    "str='dasdsa'\n",
    "str2='adasdsadada'\n",
    "\n",
    "combo=str + ' ' + str2\n",
    "\n",
    "print(combo)\n"
   ]
  },
  {
   "cell_type": "code",
   "execution_count": 13,
   "metadata": {},
   "outputs": [
    {
     "name": "stdout",
     "output_type": "stream",
     "text": [
      "<class 'str'>\n",
      " something\n"
     ]
    }
   ],
   "source": [
    "#input variable example\n",
    "num=input('input something')\n",
    "print(type(num))\n",
    "print(num,'something')\n"
   ]
  },
  {
   "cell_type": "code",
   "execution_count": 17,
   "metadata": {},
   "outputs": [
    {
     "name": "stdout",
     "output_type": "stream",
     "text": [
      "0 paris\n",
      "1 tokyo\n",
      "2 Los Angeles\n",
      "3 New York\n",
      "['tokyo', 'Los Angeles']\n"
     ]
    }
   ],
   "source": [
    "#list enumeration\n",
    "list=['paris','tokyo','Los Angeles','New York']\n",
    "for index, item in enumerate(list):\n",
    "    print(index, item)\n",
    "print(list[1:3])\n"
   ]
  },
  {
   "cell_type": "code",
   "execution_count": 19,
   "metadata": {},
   "outputs": [
    {
     "name": "stdout",
     "output_type": "stream",
     "text": [
      "5\n"
     ]
    }
   ],
   "source": [
    "#print position example\n",
    "num=[1,3,4,5,6,7]\n",
    "print(len(num)-1)"
   ]
  },
  {
   "cell_type": "code",
   "execution_count": 39,
   "metadata": {},
   "outputs": [
    {
     "name": "stdout",
     "output_type": "stream",
     "text": [
      "<built-in method index of list object at 0x106637200>\n"
     ]
    }
   ],
   "source": [
    "#empty list and extend example\n",
    "l=[]\n",
    "l.extend([1,2,3,4,5])\n"
   ]
  },
  {
   "cell_type": "code",
   "execution_count": 63,
   "metadata": {},
   "outputs": [
    {
     "name": "stdout",
     "output_type": "stream",
     "text": [
      "28\n",
      "this person is young, 4500 followers\n"
     ]
    }
   ],
   "source": [
    "#dictionary example~~~~~~~~~~~~~~~~~~~~~~\n",
    "user_profile = {\n",
    "    \"username\": \"john_doe_123\",\n",
    "    \"first_name\": \"John\",\n",
    "    \"last_name\": \"Doe\",\n",
    "    \"email\": \"john.doe@example.com\",\n",
    "    \"age\": 28,\n",
    "    \"country\": \"USA\",\n",
    "    \"city\": \"New York\",\n",
    "    \"address\": \"123 Main St\",\n",
    "    \"phone\": \"123-456-7890\",\n",
    "    \"gender\": \"Male\",\n",
    "    \"occupation\": \"Software Developer\",\n",
    "    \"company\": \"Tech Corp\",\n",
    "    \"website\": \"www.johndoe.com\",\n",
    "    \"joined\": \"2020-05-01\",\n",
    "    \"last_login\": \"2023-10-01\",\n",
    "    \"followers\": 4500,\n",
    "    \"following\": 328,\n",
    "    \"posts\": 120,\n",
    "    \"likes\": 15000,\n",
    "    \"profile_pic\": \"path/to/profile_pic.jpg\"\n",
    "}\n",
    "\n",
    "# Accessing a value by its key\n",
    "age=user_profile['age']\n",
    "followers=user_profile['followers']\n",
    "print(age)\n",
    "\n",
    "\n",
    "\n",
    "\n"
   ]
  },
  {
   "cell_type": "code",
   "execution_count": 72,
   "metadata": {},
   "outputs": [
    {
     "name": "stdout",
     "output_type": "stream",
     "text": [
      "lower case\n"
     ]
    }
   ],
   "source": [
    "#basic if statement example 1\n",
    "answer=input()\n",
    "if answer[0]>='A' and answer[0]<='Z':\n",
    "    print('uppercase')\n",
    "else:\n",
    "    print('lowercase')"
   ]
  },
  {
   "cell_type": "code",
   "execution_count": 83,
   "metadata": {},
   "outputs": [
    {
     "name": "stdout",
     "output_type": "stream",
     "text": [
      "3\n",
      "free!!!!!!!!!!!!!!!!!!!!!!\n"
     ]
    }
   ],
   "source": [
    "#basic if statement example 2\n",
    "age=input('enter your age' )\n",
    "age=int(age)\n",
    "print(age)\n",
    "\n",
    "if age>=12 and age<=26:\n",
    "    print('youth advantage card')\n",
    "elif age>=27 and age<=59:\n",
    "    print('adult advantage card')\n",
    "elif age>=60:\n",
    "    print('Senior advantage card')\n",
    "else:\n",
    "    pass\n",
    "    print('free!!!!!!!!!!!!!!!!!!!!!!')\n",
    "\n",
    "\n",
    "\n",
    "\n"
   ]
  }
 ],
 "metadata": {
  "kernelspec": {
   "display_name": ".venv",
   "language": "python",
   "name": "python3"
  },
  "language_info": {
   "codemirror_mode": {
    "name": "ipython",
    "version": 3
   },
   "file_extension": ".py",
   "mimetype": "text/x-python",
   "name": "python",
   "nbconvert_exporter": "python",
   "pygments_lexer": "ipython3",
   "version": "3.11.2"
  }
 },
 "nbformat": 4,
 "nbformat_minor": 2
}
