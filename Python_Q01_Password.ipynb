{
 "cells": [
  {
   "cell_type": "markdown",
   "metadata": {},
   "source": [
    "## 1A \n",
    "If the password is recognized as secure if and only if it satisfies both the following\n",
    "requirements,\n",
    "1. at least 9 characters, and\n",
    "2. at least 1 uppercase letter."
   ]
  },
  {
   "cell_type": "code",
   "execution_count": 4,
   "metadata": {},
   "outputs": [
    {
     "name": "stdout",
     "output_type": "stream",
     "text": [
      "Needs at least 9 characters and an upper case char\n",
      "Password accepted\n"
     ]
    }
   ],
   "source": [
    "while True:\n",
    "    password = input('Create a password (9 or more chars): ')\n",
    "    \n",
    "    def check_password(string):\n",
    "        flag = False\n",
    "        for s in string:\n",
    "            if s.isupper():\n",
    "                flag = True\n",
    "                break\n",
    "        return flag\n",
    "\n",
    "    letter = check_password(password)\n",
    "    \n",
    "    if len(password) >= 9 and letter:\n",
    "        print('Password accepted')\n",
    "        break\n",
    "    elif len(password) >= 9 and not letter:\n",
    "        print('Missing upper case char')\n",
    "    elif len(password) < 9 and letter:\n",
    "        print('Needs at least 9 chars')\n",
    "    elif len(password) < 9 and not letter:\n",
    "        print('Needs at least 9 characters and an upper case char')\n"
   ]
  },
  {
   "cell_type": "markdown",
   "metadata": {},
   "source": [
    "## 1B\n",
    "Continue with (A), the security level of a password can be enhanced by increasing the\n",
    "requirements of a password. Please write a Python code to implement an advanced password\n",
    "checker that verifies the password satisfies all the following requirements,\n",
    "1. at least 9 characters,\n",
    "2. at least one uppercase letter, and\n",
    "3. at least one lowercase letter."
   ]
  },
  {
   "cell_type": "code",
   "execution_count": 2,
   "metadata": {},
   "outputs": [
    {
     "name": "stdout",
     "output_type": "stream",
     "text": [
      "Password needs at least one uppercase character\n",
      "Password accepted\n"
     ]
    }
   ],
   "source": [
    "while True:\n",
    "    password = input('Create a password (9 or more chars): ')\n",
    "\n",
    "    def check_password(string):\n",
    "        has_upper = False\n",
    "        has_lower = False\n",
    "\n",
    "        for s in string:\n",
    "            if s.isupper():\n",
    "                has_upper = True\n",
    "            elif s.islower():\n",
    "                has_lower = True\n",
    "\n",
    "        return has_upper, has_lower\n",
    "\n",
    "    has_upper, has_lower = check_password(password)\n",
    "\n",
    "    if len(password) >= 9 and has_upper and has_lower:\n",
    "        print('Password accepted')\n",
    "        break\n",
    "    elif len(password) < 9:\n",
    "        print('Password needs at least 9 characters')\n",
    "    elif not has_upper:\n",
    "        print('Password needs at least one uppercase character')\n",
    "    elif not has_lower:\n",
    "        print('Password needs at least one lowercase character')\n"
   ]
  }
 ],
 "metadata": {
  "kernelspec": {
   "display_name": ".venv",
   "language": "python",
   "name": "python3"
  },
  "language_info": {
   "codemirror_mode": {
    "name": "ipython",
    "version": 3
   },
   "file_extension": ".py",
   "mimetype": "text/x-python",
   "name": "python",
   "nbconvert_exporter": "python",
   "pygments_lexer": "ipython3",
   "version": "3.11.2"
  }
 },
 "nbformat": 4,
 "nbformat_minor": 2
}
