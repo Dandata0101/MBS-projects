{
 "cells": [
  {
   "cell_type": "code",
   "execution_count": null,
   "metadata": {},
   "outputs": [],
   "source": [
    "import requests\n",
    "import random\n",
    "from IPython.display import Image, display\n",
    "print('          ~~~~~~~~~~MBS Python for Business~~~~~~~~~~~~~~~~')\n",
    "print('!!!!!!!!!!!!!!!!!!!!!!!!!!!!!!!!!!!!!!!!!!!!!!!!!!!!!!!!!!!!!!!!!!!!!!!!!!!')\n",
    "\n",
    "GIPHY_API_KEY = 'CcUdCmsZQT1jTKPP56JLP9hLW09KY4iw'  # Replace with your GIPHY API key\n",
    "\n",
    "def get_random_office_gif_url(api_key):\n",
    "    base_url = \"https://api.giphy.com/v1/gifs/search\"\n",
    "    \n",
    "    # Search for The Office gifs\n",
    "    params = {\n",
    "        \"api_key\": api_key,\n",
    "        \"q\": \"The Office\",\n",
    "        \"limit\": 100  # You can adjust this limit\n",
    "    }\n",
    "    \n",
    "    response = requests.get(base_url, params=params)\n",
    "    response.raise_for_status()\n",
    "    \n",
    "    gifs = response.json()[\"data\"]\n",
    "    \n",
    "    if not gifs:\n",
    "        print(\"No GIFs found.\")\n",
    "        return\n",
    "    \n",
    "    # Randomly select a gif\n",
    "    random_gif = random.choice(gifs)\n",
    "    \n",
    "    return random_gif[\"images\"][\"original\"][\"url\"]\n",
    "\n",
    "def display_gif_in_notebook(url):\n",
    "    img = Image(url=url)\n",
    "    display(img)\n",
    "\n",
    "# Fetch and display gif\n",
    "gif_url = get_random_office_gif_url(GIPHY_API_KEY)\n",
    "if gif_url:\n",
    "    display_gif_in_notebook(gif_url)\n"
   ]
  }
 ],
 "metadata": {
  "language_info": {
   "name": "python"
  }
 },
 "nbformat": 4,
 "nbformat_minor": 2
}
