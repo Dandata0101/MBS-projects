{
 "cells": [
  {
   "cell_type": "markdown",
   "metadata": {},
   "source": [
    "# Day 1\n"
   ]
  },
  {
   "cell_type": "markdown",
   "metadata": {},
   "source": [
    "## Warm up"
   ]
  },
  {
   "cell_type": "code",
   "execution_count": 7,
   "metadata": {},
   "outputs": [
    {
     "name": "stdout",
     "output_type": "stream",
     "text": [
      "/Users/danramirez/MBS\n"
     ]
    },
    {
     "data": {
      "text/plain": [
       "([<matplotlib.axis.YTick at 0x167df7390>,\n",
       "  <matplotlib.axis.YTick at 0x168c72350>,\n",
       "  <matplotlib.axis.YTick at 0x167ea0650>,\n",
       "  <matplotlib.axis.YTick at 0x167ed3b10>,\n",
       "  <matplotlib.axis.YTick at 0x167ed0ad0>,\n",
       "  <matplotlib.axis.YTick at 0x167eeea90>,\n",
       "  <matplotlib.axis.YTick at 0x167ef17d0>,\n",
       "  <matplotlib.axis.YTick at 0x167e4b2d0>,\n",
       "  <matplotlib.axis.YTick at 0x167e49b50>,\n",
       "  <matplotlib.axis.YTick at 0x16806e310>],\n",
       " [Text(0, 0, 'Andorra'),\n",
       "  Text(0, 1, 'Austria'),\n",
       "  Text(0, 2, 'Belgium'),\n",
       "  Text(0, 3, 'Denmark'),\n",
       "  Text(0, 4, 'Finland'),\n",
       "  Text(0, 5, 'France'),\n",
       "  Text(0, 6, 'Germany'),\n",
       "  Text(0, 7, 'Italy'),\n",
       "  Text(0, 8, 'Ireland'),\n",
       "  Text(0, 9, 'Greece')])"
      ]
     },
     "execution_count": 7,
     "metadata": {},
     "output_type": "execute_result"
    },
    {
     "data": {
      "image/png": "[encoded data removed]",
      "text/plain": [
       "<Figure size 640x480 with 1 Axes>"
      ]
     },
     "metadata": {},
     "output_type": "display_data"
    }
   ],
   "source": [
    "import matplotlib.pyplot as plt\n",
    "import os\n",
    "import sys\n",
    "import pandas as pd\n",
    "import numpy as np\n",
    "import openpyxl\n",
    "\n",
    "# Paths and directory\n",
    "current_directory = os.getcwd()\n",
    "print(current_directory)\n",
    "\n",
    "file = os.path.join(current_directory, \"01-data/covid02\", \"covid.xlsx\")\n",
    "df = pd.read_excel(file,index_col='date')\n",
    "\n",
    "x=np.arange(0,df.loc['2020-10-01'].shape[0])\n",
    "y=df.loc['2020-10-01',:].values\n",
    "colormap=plt.cm.tab10(x)\n",
    "plt.barh(x,y,align='center',color=colormap)\n",
    "plt.xlabel('new covid cases')\n",
    "plt.yticks(x,df.columns)\n",
    "#plt.xticks(x,df.columns,rotation=90)\n",
    "\n"
   ]
  },
  {
   "cell_type": "markdown",
   "metadata": {},
   "source": [
    "## Part 1— testing out Yahoo Finance package"
   ]
  },
  {
   "cell_type": "code",
   "execution_count": 1,
   "metadata": {},
   "outputs": [
    {
     "name": "stdout",
     "output_type": "stream",
     "text": [
      "                                 Open        High         Low       Close  \\\n",
      "Date                                                                        \n",
      "2023-02-13 00:00:00-05:00  150.148560  153.440984  150.118721  153.033173   \n",
      "2023-02-14 00:00:00-05:00  151.312329  152.953578  150.059024  152.386597   \n",
      "2023-02-15 00:00:00-05:00  152.297095  154.674406  152.068321  154.505310   \n",
      "2023-02-16 00:00:00-05:00  152.694940  155.499975  152.535801  152.893890   \n",
      "2023-02-17 00:00:00-05:00  151.541116  152.187659  150.049080  151.740051   \n",
      "...                               ...         ...         ...         ...   \n",
      "2024-02-06 00:00:00-05:00  186.621869  189.068743  186.531987  189.058762   \n",
      "2024-02-07 00:00:00-05:00  190.397053  190.806534  188.369641  189.168625   \n",
      "2024-02-08 00:00:00-05:00  189.148646  189.298448  187.111252  188.080017   \n",
      "2024-02-09 00:00:00-05:00  188.649994  189.990005  188.000000  188.850006   \n",
      "2024-02-12 00:00:00-05:00  188.419998  188.669998  186.789993  187.149994   \n",
      "\n",
      "                             Volume  Dividends  Stock Splits  \n",
      "Date                                                          \n",
      "2023-02-13 00:00:00-05:00  62199000       0.00           0.0  \n",
      "2023-02-14 00:00:00-05:00  61707600       0.00           0.0  \n",
      "2023-02-15 00:00:00-05:00  65573800       0.00           0.0  \n",
      "2023-02-16 00:00:00-05:00  68167900       0.00           0.0  \n",
      "2023-02-17 00:00:00-05:00  59144100       0.00           0.0  \n",
      "...                             ...        ...           ...  \n",
      "2024-02-06 00:00:00-05:00  43490800       0.00           0.0  \n",
      "2024-02-07 00:00:00-05:00  53439000       0.00           0.0  \n",
      "2024-02-08 00:00:00-05:00  40962000       0.00           0.0  \n",
      "2024-02-09 00:00:00-05:00  45099900       0.24           0.0  \n",
      "2024-02-12 00:00:00-05:00  41738500       0.00           0.0  \n",
      "\n",
      "[251 rows x 7 columns]\n"
     ]
    }
   ],
   "source": [
    "import yfinance as yf\n",
    "import datetime\n",
    "\n",
    "# Define the ticker symbol\n",
    "tickerSymbol = 'AAPL'\n",
    "yrs= 1\n",
    "\n",
    "# Get data on this ticker\n",
    "tickerData = yf.Ticker(tickerSymbol)\n",
    "\n",
    "end_date = datetime.date.today()  # Today's date\n",
    "start_date = end_date - datetime.timedelta(days=yrs*365) \n",
    "\n",
    "# Get the historical prices for this ticker\n",
    "df = tickerData.history(period='1d', start=start_date, end=end_date) \n",
    "\n",
    "print(df)\n"
   ]
  },
  {
   "cell_type": "markdown",
   "metadata": {},
   "source": [
    "## Part 2— Buying & Selling Singals Function"
   ]
  },
  {
   "cell_type": "code",
   "execution_count": null,
   "metadata": {},
   "outputs": [],
   "source": [
    "import matplotlib.pyplot as plt\n",
    "import os\n",
    "import sys\n",
    "import pandas as pd\n",
    "import numpy as np\n",
    "import openpyxl\n",
    "import warnings\n",
    "warnings.filterwarnings('ignore')\n",
    "\n",
    "#setting long and short paramaters----------------------------------------\n",
    "short, long= 5 ,20\n",
    "\n",
    "# Paths and directory-----------------------------------------------------\n",
    "current_directory = os.getcwd()\n",
    "print(current_directory)\n",
    "\n",
    "df['close_short']=df['Close'].rolling(window=short).mean()\n",
    "df['close_long']=df['Close'].rolling(window=long).mean()\n",
    "df.index = pd.to_datetime(df.index)\n",
    "df.index = df.index.strftime('%Y-%m-%d')\n",
    "\n",
    "x5=df['close_short']\n",
    "x20=df['close_long']\n",
    "close=df['Close']\n",
    "\n",
    "# Buy/Sell function-------------------------------------------------------\n",
    "def buysellfx(df):\n",
    "    status = 0\n",
    "    pricebuy = []\n",
    "    pricesell = []\n",
    "    profit = []\n",
    "    transdays = []\n",
    "    temp_buyprice = []\n",
    "    temp_buyindex = []\n",
    "\n",
    "    for i in range(len(df) - 1):\n",
    "        #buy logic\n",
    "        if df['close_short'][i] > df['close_long'][i]:\n",
    "            if status != 1:\n",
    "                status = 1\n",
    "                pricebuy.append(df['Open'][i + 1])\n",
    "                pricesell.append(np.nan)\n",
    "                profit.append(np.nan)\n",
    "                transdays.append(np.nan)\n",
    "                temp_buyprice.append(df['Open'][i + 1])\n",
    "                temp_buyindex.append(i + 1)\n",
    "            else:\n",
    "                pricebuy.append(np.nan)\n",
    "                pricesell.append(np.nan)\n",
    "                profit.append(np.nan)\n",
    "                transdays.append(np.nan)\n",
    "        \n",
    "        #sell logic\n",
    "        elif df['close_short'][i] < df['close_long'][i]:\n",
    "            if status != 0:\n",
    "                status = 0\n",
    "                pricebuy.append(np.nan)\n",
    "                pricesell.append(df['Open'][i + 1])\n",
    "                profit.append(df['Open'][i + 1] - temp_buyprice[-1])\n",
    "                transdays.append(i + 1 - temp_buyindex[-1])\n",
    "            else:\n",
    "                pricebuy.append(np.nan)\n",
    "                pricesell.append(np.nan)\n",
    "                profit.append(np.nan)\n",
    "                transdays.append(np.nan)\n",
    "        else:\n",
    "            pricebuy.append(np.nan)\n",
    "            pricesell.append(np.nan)\n",
    "            profit.append(np.nan)\n",
    "            transdays.append(np.nan)\n",
    "\n",
    "    pricebuy.append(np.nan)\n",
    "    pricesell.append(np.nan)\n",
    "    profit.append(np.nan)\n",
    "    transdays.append(np.nan)\n",
    "\n",
    "    return pricebuy, pricesell, profit, transdays\n",
    "\n",
    "# Adding new columns------------------------------------------------------\n",
    "df['pricebuy'], df['pricesell'], df['profit'], df['transdays'] = buysellfx(df)\n",
    "# ------------------------------------------------------------------------\n"
   ]
  },
  {
   "cell_type": "markdown",
   "metadata": {},
   "source": [
    "## Part 3— Charting Singals"
   ]
  },
  {
   "cell_type": "code",
   "execution_count": null,
   "metadata": {},
   "outputs": [],
   "source": [
    "#charting data ------------------------------------------------------------\n",
    "plt.figure(figsize=(25, 10))\n",
    "plt.plot(close, label='APPL')\n",
    "#plt.plot(x5, label='Close short')\n",
    "#plt.plot(x20, label='Close long')\n",
    "\n",
    "plt.plot(df.index,df['pricebuy'].values,color='red',label='Buy signal',marker='^',markersize=12)\n",
    "plt.plot(df.index,df['pricesell'].values,color='green',label='Sell signal',marker='v',markersize=12)\n",
    "\n",
    "n = 5  # Adjust n as per your data\n",
    "plt.xticks(ticks=df.index[::n], labels=df.index[::n])\n",
    "plt.xticks(rotation=-75)\n",
    "\n",
    "plt.legend()\n",
    "plt.xlabel('Date',fontsize=12)\n",
    "plt.ylabel('price USD ($)',fontsize=12)\n",
    "plt.grid()"
   ]
  },
  {
   "cell_type": "markdown",
   "metadata": {},
   "source": [
    "## Part 4— Export results to Excel"
   ]
  },
  {
   "cell_type": "code",
   "execution_count": null,
   "metadata": {},
   "outputs": [],
   "source": [
    "#export to excel-------------------------------------------------------------\n",
    "df.to_excel(current_directory+'/02-output/stock.xlsx', index=True)"
   ]
  }
 ],
 "metadata": {
  "kernelspec": {
   "display_name": ".venv",
   "language": "python",
   "name": "python3"
  },
  "language_info": {
   "codemirror_mode": {
    "name": "ipython",
    "version": 3
   },
   "file_extension": ".py",
   "mimetype": "text/x-python",
   "name": "python",
   "nbconvert_exporter": "python",
   "pygments_lexer": "ipython3",
   "version": "3.11.2"
  }
 },
 "nbformat": 4,
 "nbformat_minor": 2
}
