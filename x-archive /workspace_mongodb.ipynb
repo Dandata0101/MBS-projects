{
 "cells": [
  {
   "cell_type": "markdown",
   "metadata": {},
   "source": [
    "# Mongo DB examples"
   ]
  },
  {
   "cell_type": "code",
   "execution_count": 1,
   "metadata": {},
   "outputs": [
    {
     "ename": "ServerSelectionTimeoutError",
     "evalue": "localhost:27018: [Errno 61] Connection refused (configured timeouts: socketTimeoutMS: 10000.0ms, connectTimeoutMS: 10000.0ms), Timeout: 5.0s, Topology Description: <TopologyDescription id: 6553aa99950a53923cffc978, topology_type: Unknown, servers: [<ServerDescription ('localhost', 27018) server_type: Unknown, rtt: None, error=AutoReconnect('localhost:27018: [Errno 61] Connection refused (configured timeouts: socketTimeoutMS: 10000.0ms, connectTimeoutMS: 10000.0ms)')>]>",
     "output_type": "error",
     "traceback": [
      "\u001b[0;31m---------------------------------------------------------------------------\u001b[0m",
      "\u001b[0;31mServerSelectionTimeoutError\u001b[0m               Traceback (most recent call last)",
      "\u001b[1;32m/Users/danramirez/MBS/workspace_mongodb.ipynb Cell 2\u001b[0m line \u001b[0;36m6\n\u001b[1;32m     <a href='vscode-notebook-cell:/Users/danramirez/MBS/workspace_mongodb.ipynb#W2sZmlsZQ%3D%3D?line=29'>30</a>\u001b[0m pipeline \u001b[39m=\u001b[39m [\n\u001b[1;32m     <a href='vscode-notebook-cell:/Users/danramirez/MBS/workspace_mongodb.ipynb#W2sZmlsZQ%3D%3D?line=30'>31</a>\u001b[0m     {\u001b[39m\"\u001b[39m\u001b[39m$unwind\u001b[39m\u001b[39m\"\u001b[39m: \u001b[39m\"\u001b[39m\u001b[39m$grades\u001b[39m\u001b[39m\"\u001b[39m},\n\u001b[1;32m     <a href='vscode-notebook-cell:/Users/danramirez/MBS/workspace_mongodb.ipynb#W2sZmlsZQ%3D%3D?line=31'>32</a>\u001b[0m     {\n\u001b[0;32m   (...)\u001b[0m\n\u001b[1;32m     <a href='vscode-notebook-cell:/Users/danramirez/MBS/workspace_mongodb.ipynb#W2sZmlsZQ%3D%3D?line=56'>57</a>\u001b[0m     {\u001b[39m\"\u001b[39m\u001b[39m$sort\u001b[39m\u001b[39m\"\u001b[39m: {\u001b[39m\"\u001b[39m\u001b[39mavg\u001b[39m\u001b[39m\"\u001b[39m: \u001b[39m-\u001b[39m\u001b[39m1\u001b[39m}}  \u001b[39m# Sorting by 'avg' field in descending order\u001b[39;00m\n\u001b[1;32m     <a href='vscode-notebook-cell:/Users/danramirez/MBS/workspace_mongodb.ipynb#W2sZmlsZQ%3D%3D?line=57'>58</a>\u001b[0m ]\n\u001b[1;32m     <a href='vscode-notebook-cell:/Users/danramirez/MBS/workspace_mongodb.ipynb#W2sZmlsZQ%3D%3D?line=60'>61</a>\u001b[0m \u001b[39m# Query data from MongoDB using the defined pipeline\u001b[39;00m\n\u001b[0;32m---> <a href='vscode-notebook-cell:/Users/danramirez/MBS/workspace_mongodb.ipynb#W2sZmlsZQ%3D%3D?line=61'>62</a>\u001b[0m data \u001b[39m=\u001b[39m \u001b[39mlist\u001b[39m(collection\u001b[39m.\u001b[39;49maggregate(pipeline))  \u001b[39m# Convert the MongoDB cursor to a list\u001b[39;00m\n\u001b[1;32m     <a href='vscode-notebook-cell:/Users/danramirez/MBS/workspace_mongodb.ipynb#W2sZmlsZQ%3D%3D?line=63'>64</a>\u001b[0m \u001b[39m# Create a DataFrame\u001b[39;00m\n\u001b[1;32m     <a href='vscode-notebook-cell:/Users/danramirez/MBS/workspace_mongodb.ipynb#W2sZmlsZQ%3D%3D?line=64'>65</a>\u001b[0m df \u001b[39m=\u001b[39m pd\u001b[39m.\u001b[39mDataFrame(data)\n",
      "File \u001b[0;32m~/MBS/.venv/lib/python3.11/site-packages/pymongo/collection.py:2719\u001b[0m, in \u001b[0;36mCollection.aggregate\u001b[0;34m(self, pipeline, session, let, comment, **kwargs)\u001b[0m\n\u001b[1;32m   2634\u001b[0m \u001b[39mdef\u001b[39;00m \u001b[39maggregate\u001b[39m(\n\u001b[1;32m   2635\u001b[0m     \u001b[39mself\u001b[39m,\n\u001b[1;32m   2636\u001b[0m     pipeline: _Pipeline,\n\u001b[0;32m   (...)\u001b[0m\n\u001b[1;32m   2640\u001b[0m     \u001b[39m*\u001b[39m\u001b[39m*\u001b[39mkwargs: Any,\n\u001b[1;32m   2641\u001b[0m ) \u001b[39m-\u001b[39m\u001b[39m>\u001b[39m CommandCursor[_DocumentType]:\n\u001b[1;32m   2642\u001b[0m \u001b[39m    \u001b[39m\u001b[39m\"\"\"Perform an aggregation using the aggregation framework on this\u001b[39;00m\n\u001b[1;32m   2643\u001b[0m \u001b[39m    collection.\u001b[39;00m\n\u001b[1;32m   2644\u001b[0m \n\u001b[0;32m   (...)\u001b[0m\n\u001b[1;32m   2717\u001b[0m \u001b[39m        https://mongodb.com/docs/manual/reference/command/aggregate\u001b[39;00m\n\u001b[1;32m   2718\u001b[0m \u001b[39m    \"\"\"\u001b[39;00m\n\u001b[0;32m-> 2719\u001b[0m     \u001b[39mwith\u001b[39;49;00m \u001b[39mself\u001b[39;49m\u001b[39m.\u001b[39;49m__database\u001b[39m.\u001b[39;49mclient\u001b[39m.\u001b[39;49m_tmp_session(session, close\u001b[39m=\u001b[39;49m\u001b[39mFalse\u001b[39;49;00m) \u001b[39mas\u001b[39;49;00m s:\n\u001b[1;32m   2720\u001b[0m         \u001b[39mreturn\u001b[39;49;00m \u001b[39mself\u001b[39;49m\u001b[39m.\u001b[39;49m_aggregate(\n\u001b[1;32m   2721\u001b[0m             _CollectionAggregationCommand,\n\u001b[1;32m   2722\u001b[0m             pipeline,\n\u001b[0;32m   (...)\u001b[0m\n\u001b[1;32m   2728\u001b[0m             \u001b[39m*\u001b[39;49m\u001b[39m*\u001b[39;49mkwargs,\n\u001b[1;32m   2729\u001b[0m         )\n",
      "File \u001b[0;32m/opt/homebrew/Cellar/python@3.11/3.11.2_1/Frameworks/Python.framework/Versions/3.11/lib/python3.11/contextlib.py:137\u001b[0m, in \u001b[0;36m_GeneratorContextManager.__enter__\u001b[0;34m(self)\u001b[0m\n\u001b[1;32m    135\u001b[0m \u001b[39mdel\u001b[39;00m \u001b[39mself\u001b[39m\u001b[39m.\u001b[39margs, \u001b[39mself\u001b[39m\u001b[39m.\u001b[39mkwds, \u001b[39mself\u001b[39m\u001b[39m.\u001b[39mfunc\n\u001b[1;32m    136\u001b[0m \u001b[39mtry\u001b[39;00m:\n\u001b[0;32m--> 137\u001b[0m     \u001b[39mreturn\u001b[39;00m \u001b[39mnext\u001b[39m(\u001b[39mself\u001b[39m\u001b[39m.\u001b[39mgen)\n\u001b[1;32m    138\u001b[0m \u001b[39mexcept\u001b[39;00m \u001b[39mStopIteration\u001b[39;00m:\n\u001b[1;32m    139\u001b[0m     \u001b[39mraise\u001b[39;00m \u001b[39mRuntimeError\u001b[39;00m(\u001b[39m\"\u001b[39m\u001b[39mgenerator didn\u001b[39m\u001b[39m'\u001b[39m\u001b[39mt yield\u001b[39m\u001b[39m\"\u001b[39m) \u001b[39mfrom\u001b[39;00m \u001b[39mNone\u001b[39;00m\n",
      "File \u001b[0;32m~/MBS/.venv/lib/python3.11/site-packages/pymongo/mongo_client.py:1840\u001b[0m, in \u001b[0;36mMongoClient._tmp_session\u001b[0;34m(self, session, close)\u001b[0m\n\u001b[1;32m   1837\u001b[0m     \u001b[39myield\u001b[39;00m session\n\u001b[1;32m   1838\u001b[0m     \u001b[39mreturn\u001b[39;00m\n\u001b[0;32m-> 1840\u001b[0m s \u001b[39m=\u001b[39m \u001b[39mself\u001b[39;49m\u001b[39m.\u001b[39;49m_ensure_session(session)\n\u001b[1;32m   1841\u001b[0m \u001b[39mif\u001b[39;00m s:\n\u001b[1;32m   1842\u001b[0m     \u001b[39mtry\u001b[39;00m:\n",
      "File \u001b[0;32m~/MBS/.venv/lib/python3.11/site-packages/pymongo/mongo_client.py:1823\u001b[0m, in \u001b[0;36mMongoClient._ensure_session\u001b[0;34m(self, session)\u001b[0m\n\u001b[1;32m   1818\u001b[0m     \u001b[39mreturn\u001b[39;00m session\n\u001b[1;32m   1820\u001b[0m \u001b[39mtry\u001b[39;00m:\n\u001b[1;32m   1821\u001b[0m     \u001b[39m# Don't make implicit sessions causally consistent. Applications\u001b[39;00m\n\u001b[1;32m   1822\u001b[0m     \u001b[39m# should always opt-in.\u001b[39;00m\n\u001b[0;32m-> 1823\u001b[0m     \u001b[39mreturn\u001b[39;00m \u001b[39mself\u001b[39;49m\u001b[39m.\u001b[39;49m__start_session(\u001b[39mTrue\u001b[39;49;00m, causal_consistency\u001b[39m=\u001b[39;49m\u001b[39mFalse\u001b[39;49;00m)\n\u001b[1;32m   1824\u001b[0m \u001b[39mexcept\u001b[39;00m (ConfigurationError, InvalidOperation):\n\u001b[1;32m   1825\u001b[0m     \u001b[39m# Sessions not supported.\u001b[39;00m\n\u001b[1;32m   1826\u001b[0m     \u001b[39mreturn\u001b[39;00m \u001b[39mNone\u001b[39;00m\n",
      "File \u001b[0;32m~/MBS/.venv/lib/python3.11/site-packages/pymongo/mongo_client.py:1766\u001b[0m, in \u001b[0;36mMongoClient.__start_session\u001b[0;34m(self, implicit, **kwargs)\u001b[0m\n\u001b[1;32m   1763\u001b[0m \u001b[39mdef\u001b[39;00m \u001b[39m__start_session\u001b[39m(\u001b[39mself\u001b[39m, implicit: \u001b[39mbool\u001b[39m, \u001b[39m*\u001b[39m\u001b[39m*\u001b[39mkwargs: Any) \u001b[39m-\u001b[39m\u001b[39m>\u001b[39m ClientSession:\n\u001b[1;32m   1764\u001b[0m     \u001b[39m# Raises ConfigurationError if sessions are not supported.\u001b[39;00m\n\u001b[1;32m   1765\u001b[0m     \u001b[39mif\u001b[39;00m implicit:\n\u001b[0;32m-> 1766\u001b[0m         \u001b[39mself\u001b[39;49m\u001b[39m.\u001b[39;49m_topology\u001b[39m.\u001b[39;49m_check_implicit_session_support()\n\u001b[1;32m   1767\u001b[0m         server_session: Union[_EmptyServerSession, _ServerSession] \u001b[39m=\u001b[39m _EmptyServerSession()\n\u001b[1;32m   1768\u001b[0m     \u001b[39melse\u001b[39;00m:\n",
      "File \u001b[0;32m~/MBS/.venv/lib/python3.11/site-packages/pymongo/topology.py:573\u001b[0m, in \u001b[0;36mTopology._check_implicit_session_support\u001b[0;34m(self)\u001b[0m\n\u001b[1;32m    571\u001b[0m \u001b[39mdef\u001b[39;00m \u001b[39m_check_implicit_session_support\u001b[39m(\u001b[39mself\u001b[39m) \u001b[39m-\u001b[39m\u001b[39m>\u001b[39m \u001b[39mNone\u001b[39;00m:\n\u001b[1;32m    572\u001b[0m     \u001b[39mwith\u001b[39;00m \u001b[39mself\u001b[39m\u001b[39m.\u001b[39m_lock:\n\u001b[0;32m--> 573\u001b[0m         \u001b[39mself\u001b[39;49m\u001b[39m.\u001b[39;49m_check_session_support()\n",
      "File \u001b[0;32m~/MBS/.venv/lib/python3.11/site-packages/pymongo/topology.py:589\u001b[0m, in \u001b[0;36mTopology._check_session_support\u001b[0;34m(self)\u001b[0m\n\u001b[1;32m    585\u001b[0m         \u001b[39mself\u001b[39m\u001b[39m.\u001b[39m_select_servers_loop(\n\u001b[1;32m    586\u001b[0m             any_server_selector, \u001b[39mself\u001b[39m\u001b[39m.\u001b[39mget_server_selection_timeout(), \u001b[39mNone\u001b[39;00m\n\u001b[1;32m    587\u001b[0m         )\n\u001b[1;32m    588\u001b[0m \u001b[39melif\u001b[39;00m \u001b[39mnot\u001b[39;00m \u001b[39mself\u001b[39m\u001b[39m.\u001b[39m_description\u001b[39m.\u001b[39mreadable_servers:\n\u001b[0;32m--> 589\u001b[0m     \u001b[39mself\u001b[39;49m\u001b[39m.\u001b[39;49m_select_servers_loop(\n\u001b[1;32m    590\u001b[0m         readable_server_selector, \u001b[39mself\u001b[39;49m\u001b[39m.\u001b[39;49mget_server_selection_timeout(), \u001b[39mNone\u001b[39;49;00m\n\u001b[1;32m    591\u001b[0m     )\n\u001b[1;32m    593\u001b[0m session_timeout \u001b[39m=\u001b[39m \u001b[39mself\u001b[39m\u001b[39m.\u001b[39m_description\u001b[39m.\u001b[39mlogical_session_timeout_minutes\n\u001b[1;32m    594\u001b[0m \u001b[39mif\u001b[39;00m session_timeout \u001b[39mis\u001b[39;00m \u001b[39mNone\u001b[39;00m:\n",
      "File \u001b[0;32m~/MBS/.venv/lib/python3.11/site-packages/pymongo/topology.py:259\u001b[0m, in \u001b[0;36mTopology._select_servers_loop\u001b[0;34m(self, selector, timeout, address)\u001b[0m\n\u001b[1;32m    256\u001b[0m \u001b[39mwhile\u001b[39;00m \u001b[39mnot\u001b[39;00m server_descriptions:\n\u001b[1;32m    257\u001b[0m     \u001b[39m# No suitable servers.\u001b[39;00m\n\u001b[1;32m    258\u001b[0m     \u001b[39mif\u001b[39;00m timeout \u001b[39m==\u001b[39m \u001b[39m0\u001b[39m \u001b[39mor\u001b[39;00m now \u001b[39m>\u001b[39m end_time:\n\u001b[0;32m--> 259\u001b[0m         \u001b[39mraise\u001b[39;00m ServerSelectionTimeoutError(\n\u001b[1;32m    260\u001b[0m             \u001b[39mf\u001b[39m\u001b[39m\"\u001b[39m\u001b[39m{\u001b[39;00m\u001b[39mself\u001b[39m\u001b[39m.\u001b[39m_error_message(selector)\u001b[39m}\u001b[39;00m\u001b[39m, Timeout: \u001b[39m\u001b[39m{\u001b[39;00mtimeout\u001b[39m}\u001b[39;00m\u001b[39ms, Topology Description: \u001b[39m\u001b[39m{\u001b[39;00m\u001b[39mself\u001b[39m\u001b[39m.\u001b[39mdescription\u001b[39m!r}\u001b[39;00m\u001b[39m\"\u001b[39m\n\u001b[1;32m    261\u001b[0m         )\n\u001b[1;32m    263\u001b[0m     \u001b[39mself\u001b[39m\u001b[39m.\u001b[39m_ensure_opened()\n\u001b[1;32m    264\u001b[0m     \u001b[39mself\u001b[39m\u001b[39m.\u001b[39m_request_check_all()\n",
      "\u001b[0;31mServerSelectionTimeoutError\u001b[0m: localhost:27018: [Errno 61] Connection refused (configured timeouts: socketTimeoutMS: 10000.0ms, connectTimeoutMS: 10000.0ms), Timeout: 5.0s, Topology Description: <TopologyDescription id: 6553aa99950a53923cffc978, topology_type: Unknown, servers: [<ServerDescription ('localhost', 27018) server_type: Unknown, rtt: None, error=AutoReconnect('localhost:27018: [Errno 61] Connection refused (configured timeouts: socketTimeoutMS: 10000.0ms, connectTimeoutMS: 10000.0ms)')>]>"
     ]
    }
   ],
   "source": [
    "import os\n",
    "import configparser\n",
    "import pymongo\n",
    "import pandas as pd\n",
    "import warnings\n",
    "\n",
    "# To ignore all warnings\n",
    "warnings.filterwarnings(\"ignore\")\n",
    "\n",
    "# Paths and directory\n",
    "current_directory = os.getcwd()\n",
    "config = configparser.ConfigParser()\n",
    "\n",
    "config_file_path = os.path.join(current_directory, '03-configfiles', 'pw-config.ini')\n",
    "config.read(config_file_path)\n",
    "\n",
    "# Get the MongoDB connection string from the config file\n",
    "mongo_client = config.get('mongo', 'connectiondb')\n",
    "mongo_collection = config.get('mongo', 'collectionmongo')\n",
    "mongo_db = config.get('mongo', 'dbmonog')\n",
    "\n",
    "# Establish connection to MongoDB\n",
    "client = pymongo.MongoClient(mongo_client)\n",
    "\n",
    "# Select the database and collection\n",
    "db = client[mongo_db]  \n",
    "collection = db[mongo_collection]  \n",
    "\n",
    "# Define the aggregation pipeline\n",
    "pipeline = [\n",
    "    {\"$unwind\": \"$grades\"},\n",
    "    {\n",
    "        \"$match\": {\n",
    "            \"$and\": [\n",
    "                #{\"address.street\": {\"$regex\": \"flatbush avenue\", \"$options\": \"i\"}},  # Use \"i\" option for case insensitivity\n",
    "                {\"borough\": {\"$in\": [\"Bronx\"]}}\n",
    "            ]\n",
    "        }\n",
    "    },\n",
    "    {\"$group\": {\n",
    "        \"_id\": {\"name\": \"$name\", \"cuisine\": \"$cuisine\", \"borough\": \"$borough\"},\n",
    "        \"avg\": {\"$avg\": \"$grades.score\"},\n",
    "        \"count\": {\"$sum\": 1},\n",
    "        \"min\": {\"$min\": \"$grades.score\"},\n",
    "        \"max\": {\"$max\": \"$grades.score\"}\n",
    "    }},\n",
    "    {\"$project\": {\n",
    "        \"_id\": 0,\n",
    "        \"name\": \"$_id.name\",\n",
    "        \"borough\": \"$_id.borough\",\n",
    "        \"cuisine\": \"$_id.cuisine\",\n",
    "        \"avg\": 1,\n",
    "        \"count\": 1,\n",
    "        \"min\": 1,\n",
    "        \"max\": 1\n",
    "    }},\n",
    "    {\"$sort\": {\"avg\": -1}}  # Sorting by 'avg' field in descending order\n",
    "]\n",
    "\n",
    "\n",
    "# Query data from MongoDB using the defined pipeline\n",
    "data = list(collection.aggregate(pipeline))  # Convert the MongoDB cursor to a list\n",
    "\n",
    "# Create a DataFrame\n",
    "df = pd.DataFrame(data)\n",
    "df = df[['name','borough', 'cuisine', 'count', 'avg', 'min', 'max']]\n",
    "\n",
    "print(df)\n",
    "\n",
    "# Save the filtered data to a CSV file\n",
    "csv_file_path = os.path.join(current_directory, '01-data', 'mongo', 'data_from_mongodb_filtered_BK.csv')\n",
    "try:\n",
    "    df.to_csv(csv_file_path, index=False)\n",
    "    print('CSV output completed')\n",
    "except Exception as e:\n",
    "    print(f\"Error saving CSV file: {e}\")\n"
   ]
  }
 ],
 "metadata": {
  "kernelspec": {
   "display_name": ".venv",
   "language": "python",
   "name": "python3"
  },
  "language_info": {
   "codemirror_mode": {
    "name": "ipython",
    "version": 3
   },
   "file_extension": ".py",
   "mimetype": "text/x-python",
   "name": "python",
   "nbconvert_exporter": "python",
   "pygments_lexer": "ipython3",
   "version": "3.11.2"
  }
 },
 "nbformat": 4,
 "nbformat_minor": 2
}
